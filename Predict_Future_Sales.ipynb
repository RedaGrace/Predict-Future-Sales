{
  "nbformat": 4,
  "nbformat_minor": 0,
  "metadata": {
    "kernelspec": {
      "display_name": "Python 3",
      "language": "python",
      "name": "python3"
    },
    "language_info": {
      "codemirror_mode": {
        "name": "ipython",
        "version": 3
      },
      "file_extension": ".py",
      "mimetype": "text/x-python",
      "name": "python",
      "nbconvert_exporter": "python",
      "pygments_lexer": "ipython3",
      "version": "3.8.5"
    },
    "colab": {
      "name": "Predict_Future_Sales-Copy1.ipynb",
      "provenance": [],
      "toc_visible": true,
      "include_colab_link": true
    },
    "accelerator": "GPU"
  },
  "cells": [
    {
      "cell_type": "markdown",
      "metadata": {
        "id": "view-in-github",
        "colab_type": "text"
      },
      "source": [
        "<a href=\"https://colab.research.google.com/github/RedaGrace/Predict-Future-Sales/blob/main/Predict_Future_Sales.ipynb\" target=\"_parent\"><img src=\"https://colab.research.google.com/assets/colab-badge.svg\" alt=\"Open In Colab\"/></a>"
      ]
    },
    {
      "cell_type": "code",
      "metadata": {
        "id": "0YxK5Y9hK82U"
      },
      "source": [
        "import pandas as pd\n",
        "import numpy as np\n",
        "import matplotlib.pyplot as plt\n",
        "%matplotlib inline\n",
        "import seaborn as sns"
      ],
      "execution_count": 4,
      "outputs": []
    },
    {
      "cell_type": "code",
      "metadata": {
        "id": "JPKxQqvrK82d"
      },
      "source": [
        "transactions = pd.read_csv('sales_train.csv')\n",
        "items        = pd.read_csv('items.csv') \n",
        "categories   = pd.read_csv('item_categories.csv')\n",
        "shops        = pd.read_csv('shops.csv')\n",
        "test         = pd.read_csv('test.csv')\n",
        "submit_sample= pd.read_csv('sample_submission.csv')"
      ],
      "execution_count": 5,
      "outputs": []
    },
    {
      "cell_type": "code",
      "metadata": {
        "colab": {
          "base_uri": "https://localhost:8080/"
        },
        "id": "edHWeqlBK82f",
        "outputId": "d4d2a588-f1aa-4547-8243-70f7b26d1761"
      },
      "source": [
        "#Data Downcasting\n",
        "\n",
        "def downcast(df, verbose=True):\n",
        "    start_mem = df.memory_usage().sum() / 1024**2\n",
        "    for col in df.columns:\n",
        "        dtype_name = df[col].dtype.name\n",
        "        if dtype_name == 'object':\n",
        "            pass\n",
        "        elif dtype_name == 'bool':\n",
        "            df[col] = df[col].astype('int8')\n",
        "        elif dtype_name.startswith('int') or (df[col].round() == df[col]).all():\n",
        "            df[col] = pd.to_numeric(df[col], downcast='integer')\n",
        "        else:\n",
        "            df[col] = pd.to_numeric(df[col], downcast='float')\n",
        "    end_mem = df.memory_usage().sum() / 1024**2\n",
        "    if verbose:\n",
        "        print('{:.1f}% compressed'.format(100 * (start_mem - end_mem) / start_mem))\n",
        "    \n",
        "    return df\n",
        "\n",
        "all_df = [transactions, shops, items, categories, test]\n",
        "for df in all_df:\n",
        "    df = downcast(df)"
      ],
      "execution_count": 6,
      "outputs": [
        {
          "output_type": "stream",
          "text": [
            "62.5% compressed\n",
            "38.6% compressed\n",
            "54.2% compressed\n",
            "39.9% compressed\n",
            "70.8% compressed\n"
          ],
          "name": "stdout"
        }
      ]
    },
    {
      "cell_type": "code",
      "metadata": {
        "colab": {
          "base_uri": "https://localhost:8080/",
          "height": 255
        },
        "id": "ScgI-M1XK82j",
        "outputId": "9d164623-781f-4907-fb75-80b8181e35b9"
      },
      "source": [
        "transactions.describe(include='all').T"
      ],
      "execution_count": 7,
      "outputs": [
        {
          "output_type": "execute_result",
          "data": {
            "text/html": [
              "<div>\n",
              "<style scoped>\n",
              "    .dataframe tbody tr th:only-of-type {\n",
              "        vertical-align: middle;\n",
              "    }\n",
              "\n",
              "    .dataframe tbody tr th {\n",
              "        vertical-align: top;\n",
              "    }\n",
              "\n",
              "    .dataframe thead th {\n",
              "        text-align: right;\n",
              "    }\n",
              "</style>\n",
              "<table border=\"1\" class=\"dataframe\">\n",
              "  <thead>\n",
              "    <tr style=\"text-align: right;\">\n",
              "      <th></th>\n",
              "      <th>count</th>\n",
              "      <th>unique</th>\n",
              "      <th>top</th>\n",
              "      <th>freq</th>\n",
              "      <th>mean</th>\n",
              "      <th>std</th>\n",
              "      <th>min</th>\n",
              "      <th>25%</th>\n",
              "      <th>50%</th>\n",
              "      <th>75%</th>\n",
              "      <th>max</th>\n",
              "    </tr>\n",
              "  </thead>\n",
              "  <tbody>\n",
              "    <tr>\n",
              "      <th>date</th>\n",
              "      <td>2935849</td>\n",
              "      <td>1034</td>\n",
              "      <td>28.12.2013</td>\n",
              "      <td>9434</td>\n",
              "      <td>NaN</td>\n",
              "      <td>NaN</td>\n",
              "      <td>NaN</td>\n",
              "      <td>NaN</td>\n",
              "      <td>NaN</td>\n",
              "      <td>NaN</td>\n",
              "      <td>NaN</td>\n",
              "    </tr>\n",
              "    <tr>\n",
              "      <th>date_block_num</th>\n",
              "      <td>2.93585e+06</td>\n",
              "      <td>NaN</td>\n",
              "      <td>NaN</td>\n",
              "      <td>NaN</td>\n",
              "      <td>14.5699</td>\n",
              "      <td>9.42299</td>\n",
              "      <td>0</td>\n",
              "      <td>7</td>\n",
              "      <td>14</td>\n",
              "      <td>23</td>\n",
              "      <td>33</td>\n",
              "    </tr>\n",
              "    <tr>\n",
              "      <th>shop_id</th>\n",
              "      <td>2.93585e+06</td>\n",
              "      <td>NaN</td>\n",
              "      <td>NaN</td>\n",
              "      <td>NaN</td>\n",
              "      <td>33.0017</td>\n",
              "      <td>16.227</td>\n",
              "      <td>0</td>\n",
              "      <td>22</td>\n",
              "      <td>31</td>\n",
              "      <td>47</td>\n",
              "      <td>59</td>\n",
              "    </tr>\n",
              "    <tr>\n",
              "      <th>item_id</th>\n",
              "      <td>2.93585e+06</td>\n",
              "      <td>NaN</td>\n",
              "      <td>NaN</td>\n",
              "      <td>NaN</td>\n",
              "      <td>10197.2</td>\n",
              "      <td>6324.3</td>\n",
              "      <td>0</td>\n",
              "      <td>4476</td>\n",
              "      <td>9343</td>\n",
              "      <td>15684</td>\n",
              "      <td>22169</td>\n",
              "    </tr>\n",
              "    <tr>\n",
              "      <th>item_price</th>\n",
              "      <td>2.93585e+06</td>\n",
              "      <td>NaN</td>\n",
              "      <td>NaN</td>\n",
              "      <td>NaN</td>\n",
              "      <td>890.623</td>\n",
              "      <td>1726.44</td>\n",
              "      <td>-1</td>\n",
              "      <td>249</td>\n",
              "      <td>399</td>\n",
              "      <td>999</td>\n",
              "      <td>307980</td>\n",
              "    </tr>\n",
              "    <tr>\n",
              "      <th>item_cnt_day</th>\n",
              "      <td>2.93585e+06</td>\n",
              "      <td>NaN</td>\n",
              "      <td>NaN</td>\n",
              "      <td>NaN</td>\n",
              "      <td>1.24264</td>\n",
              "      <td>2.61883</td>\n",
              "      <td>-22</td>\n",
              "      <td>1</td>\n",
              "      <td>1</td>\n",
              "      <td>1</td>\n",
              "      <td>2169</td>\n",
              "    </tr>\n",
              "  </tbody>\n",
              "</table>\n",
              "</div>"
            ],
            "text/plain": [
              "                      count unique         top  freq  ...   25%   50%    75%     max\n",
              "date                2935849   1034  28.12.2013  9434  ...   NaN   NaN    NaN     NaN\n",
              "date_block_num  2.93585e+06    NaN         NaN   NaN  ...     7    14     23      33\n",
              "shop_id         2.93585e+06    NaN         NaN   NaN  ...    22    31     47      59\n",
              "item_id         2.93585e+06    NaN         NaN   NaN  ...  4476  9343  15684   22169\n",
              "item_price      2.93585e+06    NaN         NaN   NaN  ...   249   399    999  307980\n",
              "item_cnt_day    2.93585e+06    NaN         NaN   NaN  ...     1     1      1    2169\n",
              "\n",
              "[6 rows x 11 columns]"
            ]
          },
          "metadata": {
            "tags": []
          },
          "execution_count": 7
        }
      ]
    },
    {
      "cell_type": "code",
      "metadata": {
        "colab": {
          "base_uri": "https://localhost:8080/"
        },
        "id": "n43JAA0kK82k",
        "outputId": "7afa83f4-d18a-489d-daec-65b9507d43ae"
      },
      "source": [
        "transactions.info()"
      ],
      "execution_count": 8,
      "outputs": [
        {
          "output_type": "stream",
          "text": [
            "<class 'pandas.core.frame.DataFrame'>\n",
            "RangeIndex: 2935849 entries, 0 to 2935848\n",
            "Data columns (total 6 columns):\n",
            " #   Column          Dtype  \n",
            "---  ------          -----  \n",
            " 0   date            object \n",
            " 1   date_block_num  int8   \n",
            " 2   shop_id         int8   \n",
            " 3   item_id         int16  \n",
            " 4   item_price      float32\n",
            " 5   item_cnt_day    int16  \n",
            "dtypes: float32(1), int16(2), int8(2), object(1)\n",
            "memory usage: 50.4+ MB\n"
          ],
          "name": "stdout"
        }
      ]
    },
    {
      "cell_type": "code",
      "metadata": {
        "colab": {
          "base_uri": "https://localhost:8080/"
        },
        "id": "Ym4fr-lSK82l",
        "outputId": "01b2fbe4-238f-4f37-fb5d-b7931c1e63c3"
      },
      "source": [
        "transactions.shape"
      ],
      "execution_count": 9,
      "outputs": [
        {
          "output_type": "execute_result",
          "data": {
            "text/plain": [
              "(2935849, 6)"
            ]
          },
          "metadata": {
            "tags": []
          },
          "execution_count": 9
        }
      ]
    },
    {
      "cell_type": "code",
      "metadata": {
        "colab": {
          "base_uri": "https://localhost:8080/",
          "height": 204
        },
        "id": "oiDQ6IbTK82m",
        "outputId": "67c0461b-a717-4dab-bfc0-965fabb87666"
      },
      "source": [
        "transactions.head()"
      ],
      "execution_count": 10,
      "outputs": [
        {
          "output_type": "execute_result",
          "data": {
            "text/html": [
              "<div>\n",
              "<style scoped>\n",
              "    .dataframe tbody tr th:only-of-type {\n",
              "        vertical-align: middle;\n",
              "    }\n",
              "\n",
              "    .dataframe tbody tr th {\n",
              "        vertical-align: top;\n",
              "    }\n",
              "\n",
              "    .dataframe thead th {\n",
              "        text-align: right;\n",
              "    }\n",
              "</style>\n",
              "<table border=\"1\" class=\"dataframe\">\n",
              "  <thead>\n",
              "    <tr style=\"text-align: right;\">\n",
              "      <th></th>\n",
              "      <th>date</th>\n",
              "      <th>date_block_num</th>\n",
              "      <th>shop_id</th>\n",
              "      <th>item_id</th>\n",
              "      <th>item_price</th>\n",
              "      <th>item_cnt_day</th>\n",
              "    </tr>\n",
              "  </thead>\n",
              "  <tbody>\n",
              "    <tr>\n",
              "      <th>0</th>\n",
              "      <td>02.01.2013</td>\n",
              "      <td>0</td>\n",
              "      <td>59</td>\n",
              "      <td>22154</td>\n",
              "      <td>999.000000</td>\n",
              "      <td>1</td>\n",
              "    </tr>\n",
              "    <tr>\n",
              "      <th>1</th>\n",
              "      <td>03.01.2013</td>\n",
              "      <td>0</td>\n",
              "      <td>25</td>\n",
              "      <td>2552</td>\n",
              "      <td>899.000000</td>\n",
              "      <td>1</td>\n",
              "    </tr>\n",
              "    <tr>\n",
              "      <th>2</th>\n",
              "      <td>05.01.2013</td>\n",
              "      <td>0</td>\n",
              "      <td>25</td>\n",
              "      <td>2552</td>\n",
              "      <td>899.000000</td>\n",
              "      <td>-1</td>\n",
              "    </tr>\n",
              "    <tr>\n",
              "      <th>3</th>\n",
              "      <td>06.01.2013</td>\n",
              "      <td>0</td>\n",
              "      <td>25</td>\n",
              "      <td>2554</td>\n",
              "      <td>1709.050049</td>\n",
              "      <td>1</td>\n",
              "    </tr>\n",
              "    <tr>\n",
              "      <th>4</th>\n",
              "      <td>15.01.2013</td>\n",
              "      <td>0</td>\n",
              "      <td>25</td>\n",
              "      <td>2555</td>\n",
              "      <td>1099.000000</td>\n",
              "      <td>1</td>\n",
              "    </tr>\n",
              "  </tbody>\n",
              "</table>\n",
              "</div>"
            ],
            "text/plain": [
              "         date  date_block_num  shop_id  item_id   item_price  item_cnt_day\n",
              "0  02.01.2013               0       59    22154   999.000000             1\n",
              "1  03.01.2013               0       25     2552   899.000000             1\n",
              "2  05.01.2013               0       25     2552   899.000000            -1\n",
              "3  06.01.2013               0       25     2554  1709.050049             1\n",
              "4  15.01.2013               0       25     2555  1099.000000             1"
            ]
          },
          "metadata": {
            "tags": []
          },
          "execution_count": 10
        }
      ]
    },
    {
      "cell_type": "code",
      "metadata": {
        "colab": {
          "base_uri": "https://localhost:8080/",
          "height": 390
        },
        "id": "FVaXCPa_K82m",
        "outputId": "64025501-5eaa-4648-c9fe-c451539c3500"
      },
      "source": [
        "items.describe(include='all')"
      ],
      "execution_count": 11,
      "outputs": [
        {
          "output_type": "execute_result",
          "data": {
            "text/html": [
              "<div>\n",
              "<style scoped>\n",
              "    .dataframe tbody tr th:only-of-type {\n",
              "        vertical-align: middle;\n",
              "    }\n",
              "\n",
              "    .dataframe tbody tr th {\n",
              "        vertical-align: top;\n",
              "    }\n",
              "\n",
              "    .dataframe thead th {\n",
              "        text-align: right;\n",
              "    }\n",
              "</style>\n",
              "<table border=\"1\" class=\"dataframe\">\n",
              "  <thead>\n",
              "    <tr style=\"text-align: right;\">\n",
              "      <th></th>\n",
              "      <th>item_name</th>\n",
              "      <th>item_id</th>\n",
              "      <th>item_category_id</th>\n",
              "    </tr>\n",
              "  </thead>\n",
              "  <tbody>\n",
              "    <tr>\n",
              "      <th>count</th>\n",
              "      <td>22170</td>\n",
              "      <td>22170.00000</td>\n",
              "      <td>22170.000000</td>\n",
              "    </tr>\n",
              "    <tr>\n",
              "      <th>unique</th>\n",
              "      <td>22170</td>\n",
              "      <td>NaN</td>\n",
              "      <td>NaN</td>\n",
              "    </tr>\n",
              "    <tr>\n",
              "      <th>top</th>\n",
              "      <td>КАМЕНЬ (BD)</td>\n",
              "      <td>NaN</td>\n",
              "      <td>NaN</td>\n",
              "    </tr>\n",
              "    <tr>\n",
              "      <th>freq</th>\n",
              "      <td>1</td>\n",
              "      <td>NaN</td>\n",
              "      <td>NaN</td>\n",
              "    </tr>\n",
              "    <tr>\n",
              "      <th>mean</th>\n",
              "      <td>NaN</td>\n",
              "      <td>11084.50000</td>\n",
              "      <td>46.290753</td>\n",
              "    </tr>\n",
              "    <tr>\n",
              "      <th>std</th>\n",
              "      <td>NaN</td>\n",
              "      <td>6400.07207</td>\n",
              "      <td>15.941486</td>\n",
              "    </tr>\n",
              "    <tr>\n",
              "      <th>min</th>\n",
              "      <td>NaN</td>\n",
              "      <td>0.00000</td>\n",
              "      <td>0.000000</td>\n",
              "    </tr>\n",
              "    <tr>\n",
              "      <th>25%</th>\n",
              "      <td>NaN</td>\n",
              "      <td>5542.25000</td>\n",
              "      <td>37.000000</td>\n",
              "    </tr>\n",
              "    <tr>\n",
              "      <th>50%</th>\n",
              "      <td>NaN</td>\n",
              "      <td>11084.50000</td>\n",
              "      <td>40.000000</td>\n",
              "    </tr>\n",
              "    <tr>\n",
              "      <th>75%</th>\n",
              "      <td>NaN</td>\n",
              "      <td>16626.75000</td>\n",
              "      <td>58.000000</td>\n",
              "    </tr>\n",
              "    <tr>\n",
              "      <th>max</th>\n",
              "      <td>NaN</td>\n",
              "      <td>22169.00000</td>\n",
              "      <td>83.000000</td>\n",
              "    </tr>\n",
              "  </tbody>\n",
              "</table>\n",
              "</div>"
            ],
            "text/plain": [
              "          item_name      item_id  item_category_id\n",
              "count         22170  22170.00000      22170.000000\n",
              "unique        22170          NaN               NaN\n",
              "top     КАМЕНЬ (BD)          NaN               NaN\n",
              "freq              1          NaN               NaN\n",
              "mean            NaN  11084.50000         46.290753\n",
              "std             NaN   6400.07207         15.941486\n",
              "min             NaN      0.00000          0.000000\n",
              "25%             NaN   5542.25000         37.000000\n",
              "50%             NaN  11084.50000         40.000000\n",
              "75%             NaN  16626.75000         58.000000\n",
              "max             NaN  22169.00000         83.000000"
            ]
          },
          "metadata": {
            "tags": []
          },
          "execution_count": 11
        }
      ]
    },
    {
      "cell_type": "code",
      "metadata": {
        "colab": {
          "base_uri": "https://localhost:8080/"
        },
        "id": "DYbRBWlPK82n",
        "outputId": "d7e77a5b-a352-47f6-da46-b6dabbe0d22b"
      },
      "source": [
        "items.shape"
      ],
      "execution_count": 12,
      "outputs": [
        {
          "output_type": "execute_result",
          "data": {
            "text/plain": [
              "(22170, 3)"
            ]
          },
          "metadata": {
            "tags": []
          },
          "execution_count": 12
        }
      ]
    },
    {
      "cell_type": "code",
      "metadata": {
        "colab": {
          "base_uri": "https://localhost:8080/",
          "height": 204
        },
        "id": "Oum8xFySK82o",
        "outputId": "f4073ab4-954f-4844-eb77-3c41ba5d15e7"
      },
      "source": [
        "items.head()"
      ],
      "execution_count": 13,
      "outputs": [
        {
          "output_type": "execute_result",
          "data": {
            "text/html": [
              "<div>\n",
              "<style scoped>\n",
              "    .dataframe tbody tr th:only-of-type {\n",
              "        vertical-align: middle;\n",
              "    }\n",
              "\n",
              "    .dataframe tbody tr th {\n",
              "        vertical-align: top;\n",
              "    }\n",
              "\n",
              "    .dataframe thead th {\n",
              "        text-align: right;\n",
              "    }\n",
              "</style>\n",
              "<table border=\"1\" class=\"dataframe\">\n",
              "  <thead>\n",
              "    <tr style=\"text-align: right;\">\n",
              "      <th></th>\n",
              "      <th>item_name</th>\n",
              "      <th>item_id</th>\n",
              "      <th>item_category_id</th>\n",
              "    </tr>\n",
              "  </thead>\n",
              "  <tbody>\n",
              "    <tr>\n",
              "      <th>0</th>\n",
              "      <td>! ВО ВЛАСТИ НАВАЖДЕНИЯ (ПЛАСТ.)         D</td>\n",
              "      <td>0</td>\n",
              "      <td>40</td>\n",
              "    </tr>\n",
              "    <tr>\n",
              "      <th>1</th>\n",
              "      <td>!ABBYY FineReader 12 Professional Edition Full...</td>\n",
              "      <td>1</td>\n",
              "      <td>76</td>\n",
              "    </tr>\n",
              "    <tr>\n",
              "      <th>2</th>\n",
              "      <td>***В ЛУЧАХ СЛАВЫ   (UNV)                    D</td>\n",
              "      <td>2</td>\n",
              "      <td>40</td>\n",
              "    </tr>\n",
              "    <tr>\n",
              "      <th>3</th>\n",
              "      <td>***ГОЛУБАЯ ВОЛНА  (Univ)                      D</td>\n",
              "      <td>3</td>\n",
              "      <td>40</td>\n",
              "    </tr>\n",
              "    <tr>\n",
              "      <th>4</th>\n",
              "      <td>***КОРОБКА (СТЕКЛО)                       D</td>\n",
              "      <td>4</td>\n",
              "      <td>40</td>\n",
              "    </tr>\n",
              "  </tbody>\n",
              "</table>\n",
              "</div>"
            ],
            "text/plain": [
              "                                           item_name  item_id  item_category_id\n",
              "0          ! ВО ВЛАСТИ НАВАЖДЕНИЯ (ПЛАСТ.)         D        0                40\n",
              "1  !ABBYY FineReader 12 Professional Edition Full...        1                76\n",
              "2      ***В ЛУЧАХ СЛАВЫ   (UNV)                    D        2                40\n",
              "3    ***ГОЛУБАЯ ВОЛНА  (Univ)                      D        3                40\n",
              "4        ***КОРОБКА (СТЕКЛО)                       D        4                40"
            ]
          },
          "metadata": {
            "tags": []
          },
          "execution_count": 13
        }
      ]
    },
    {
      "cell_type": "code",
      "metadata": {
        "colab": {
          "base_uri": "https://localhost:8080/"
        },
        "id": "qmxTDaJnK82p",
        "outputId": "e7f366e6-27a6-4492-93d2-83313dcec4c7"
      },
      "source": [
        "categories.shape"
      ],
      "execution_count": 14,
      "outputs": [
        {
          "output_type": "execute_result",
          "data": {
            "text/plain": [
              "(84, 2)"
            ]
          },
          "metadata": {
            "tags": []
          },
          "execution_count": 14
        }
      ]
    },
    {
      "cell_type": "code",
      "metadata": {
        "colab": {
          "base_uri": "https://localhost:8080/",
          "height": 204
        },
        "id": "2O3SsRBEK82q",
        "outputId": "ba2d644d-53e2-4a9a-d883-ea5f6e1e8f83"
      },
      "source": [
        "categories.head()"
      ],
      "execution_count": 15,
      "outputs": [
        {
          "output_type": "execute_result",
          "data": {
            "text/html": [
              "<div>\n",
              "<style scoped>\n",
              "    .dataframe tbody tr th:only-of-type {\n",
              "        vertical-align: middle;\n",
              "    }\n",
              "\n",
              "    .dataframe tbody tr th {\n",
              "        vertical-align: top;\n",
              "    }\n",
              "\n",
              "    .dataframe thead th {\n",
              "        text-align: right;\n",
              "    }\n",
              "</style>\n",
              "<table border=\"1\" class=\"dataframe\">\n",
              "  <thead>\n",
              "    <tr style=\"text-align: right;\">\n",
              "      <th></th>\n",
              "      <th>item_category_name</th>\n",
              "      <th>item_category_id</th>\n",
              "    </tr>\n",
              "  </thead>\n",
              "  <tbody>\n",
              "    <tr>\n",
              "      <th>0</th>\n",
              "      <td>PC - Гарнитуры/Наушники</td>\n",
              "      <td>0</td>\n",
              "    </tr>\n",
              "    <tr>\n",
              "      <th>1</th>\n",
              "      <td>Аксессуары - PS2</td>\n",
              "      <td>1</td>\n",
              "    </tr>\n",
              "    <tr>\n",
              "      <th>2</th>\n",
              "      <td>Аксессуары - PS3</td>\n",
              "      <td>2</td>\n",
              "    </tr>\n",
              "    <tr>\n",
              "      <th>3</th>\n",
              "      <td>Аксессуары - PS4</td>\n",
              "      <td>3</td>\n",
              "    </tr>\n",
              "    <tr>\n",
              "      <th>4</th>\n",
              "      <td>Аксессуары - PSP</td>\n",
              "      <td>4</td>\n",
              "    </tr>\n",
              "  </tbody>\n",
              "</table>\n",
              "</div>"
            ],
            "text/plain": [
              "        item_category_name  item_category_id\n",
              "0  PC - Гарнитуры/Наушники                 0\n",
              "1         Аксессуары - PS2                 1\n",
              "2         Аксессуары - PS3                 2\n",
              "3         Аксессуары - PS4                 3\n",
              "4         Аксессуары - PSP                 4"
            ]
          },
          "metadata": {
            "tags": []
          },
          "execution_count": 15
        }
      ]
    },
    {
      "cell_type": "code",
      "metadata": {
        "colab": {
          "base_uri": "https://localhost:8080/",
          "height": 204
        },
        "id": "VTChoVwcK82q",
        "outputId": "eb790bd1-e92e-4727-dd8f-0d84095ead7d"
      },
      "source": [
        "shops.head()"
      ],
      "execution_count": 16,
      "outputs": [
        {
          "output_type": "execute_result",
          "data": {
            "text/html": [
              "<div>\n",
              "<style scoped>\n",
              "    .dataframe tbody tr th:only-of-type {\n",
              "        vertical-align: middle;\n",
              "    }\n",
              "\n",
              "    .dataframe tbody tr th {\n",
              "        vertical-align: top;\n",
              "    }\n",
              "\n",
              "    .dataframe thead th {\n",
              "        text-align: right;\n",
              "    }\n",
              "</style>\n",
              "<table border=\"1\" class=\"dataframe\">\n",
              "  <thead>\n",
              "    <tr style=\"text-align: right;\">\n",
              "      <th></th>\n",
              "      <th>shop_name</th>\n",
              "      <th>shop_id</th>\n",
              "    </tr>\n",
              "  </thead>\n",
              "  <tbody>\n",
              "    <tr>\n",
              "      <th>0</th>\n",
              "      <td>!Якутск Орджоникидзе, 56 фран</td>\n",
              "      <td>0</td>\n",
              "    </tr>\n",
              "    <tr>\n",
              "      <th>1</th>\n",
              "      <td>!Якутск ТЦ \"Центральный\" фран</td>\n",
              "      <td>1</td>\n",
              "    </tr>\n",
              "    <tr>\n",
              "      <th>2</th>\n",
              "      <td>Адыгея ТЦ \"Мега\"</td>\n",
              "      <td>2</td>\n",
              "    </tr>\n",
              "    <tr>\n",
              "      <th>3</th>\n",
              "      <td>Балашиха ТРК \"Октябрь-Киномир\"</td>\n",
              "      <td>3</td>\n",
              "    </tr>\n",
              "    <tr>\n",
              "      <th>4</th>\n",
              "      <td>Волжский ТЦ \"Волга Молл\"</td>\n",
              "      <td>4</td>\n",
              "    </tr>\n",
              "  </tbody>\n",
              "</table>\n",
              "</div>"
            ],
            "text/plain": [
              "                        shop_name  shop_id\n",
              "0   !Якутск Орджоникидзе, 56 фран        0\n",
              "1   !Якутск ТЦ \"Центральный\" фран        1\n",
              "2                Адыгея ТЦ \"Мега\"        2\n",
              "3  Балашиха ТРК \"Октябрь-Киномир\"        3\n",
              "4        Волжский ТЦ \"Волга Молл\"        4"
            ]
          },
          "metadata": {
            "tags": []
          },
          "execution_count": 16
        }
      ]
    },
    {
      "cell_type": "code",
      "metadata": {
        "colab": {
          "base_uri": "https://localhost:8080/",
          "height": 204
        },
        "id": "6MvS5k4YK82r",
        "outputId": "c7b231b0-ab36-41ce-eb7e-33213da6074d"
      },
      "source": [
        "test.head()"
      ],
      "execution_count": 17,
      "outputs": [
        {
          "output_type": "execute_result",
          "data": {
            "text/html": [
              "<div>\n",
              "<style scoped>\n",
              "    .dataframe tbody tr th:only-of-type {\n",
              "        vertical-align: middle;\n",
              "    }\n",
              "\n",
              "    .dataframe tbody tr th {\n",
              "        vertical-align: top;\n",
              "    }\n",
              "\n",
              "    .dataframe thead th {\n",
              "        text-align: right;\n",
              "    }\n",
              "</style>\n",
              "<table border=\"1\" class=\"dataframe\">\n",
              "  <thead>\n",
              "    <tr style=\"text-align: right;\">\n",
              "      <th></th>\n",
              "      <th>ID</th>\n",
              "      <th>shop_id</th>\n",
              "      <th>item_id</th>\n",
              "    </tr>\n",
              "  </thead>\n",
              "  <tbody>\n",
              "    <tr>\n",
              "      <th>0</th>\n",
              "      <td>0</td>\n",
              "      <td>5</td>\n",
              "      <td>5037</td>\n",
              "    </tr>\n",
              "    <tr>\n",
              "      <th>1</th>\n",
              "      <td>1</td>\n",
              "      <td>5</td>\n",
              "      <td>5320</td>\n",
              "    </tr>\n",
              "    <tr>\n",
              "      <th>2</th>\n",
              "      <td>2</td>\n",
              "      <td>5</td>\n",
              "      <td>5233</td>\n",
              "    </tr>\n",
              "    <tr>\n",
              "      <th>3</th>\n",
              "      <td>3</td>\n",
              "      <td>5</td>\n",
              "      <td>5232</td>\n",
              "    </tr>\n",
              "    <tr>\n",
              "      <th>4</th>\n",
              "      <td>4</td>\n",
              "      <td>5</td>\n",
              "      <td>5268</td>\n",
              "    </tr>\n",
              "  </tbody>\n",
              "</table>\n",
              "</div>"
            ],
            "text/plain": [
              "   ID  shop_id  item_id\n",
              "0   0        5     5037\n",
              "1   1        5     5320\n",
              "2   2        5     5233\n",
              "3   3        5     5232\n",
              "4   4        5     5268"
            ]
          },
          "metadata": {
            "tags": []
          },
          "execution_count": 17
        }
      ]
    },
    {
      "cell_type": "code",
      "metadata": {
        "colab": {
          "base_uri": "https://localhost:8080/"
        },
        "id": "XEyg9mz7K82r",
        "outputId": "1c775f1a-c248-4ca5-cd35-b9fcb6a36fe1"
      },
      "source": [
        "test.shape"
      ],
      "execution_count": 18,
      "outputs": [
        {
          "output_type": "execute_result",
          "data": {
            "text/plain": [
              "(214200, 3)"
            ]
          },
          "metadata": {
            "tags": []
          },
          "execution_count": 18
        }
      ]
    },
    {
      "cell_type": "code",
      "metadata": {
        "id": "ExQY-O7SK82s"
      },
      "source": [
        ""
      ],
      "execution_count": 18,
      "outputs": []
    },
    {
      "cell_type": "markdown",
      "metadata": {
        "id": "mnTYnxwqK82t"
      },
      "source": [
        "# EDA"
      ]
    },
    {
      "cell_type": "code",
      "metadata": {
        "colab": {
          "base_uri": "https://localhost:8080/",
          "height": 204
        },
        "id": "j9esJDFZK82u",
        "outputId": "fae66b40-36e2-41e5-ea59-90c359ad1c33"
      },
      "source": [
        "x = items.groupby(['item_category_id']).count()\n",
        "x = x.sort_values(by='item_id', ascending=False)\n",
        "x = x.reset_index()\n",
        "x.head()"
      ],
      "execution_count": 19,
      "outputs": [
        {
          "output_type": "execute_result",
          "data": {
            "text/html": [
              "<div>\n",
              "<style scoped>\n",
              "    .dataframe tbody tr th:only-of-type {\n",
              "        vertical-align: middle;\n",
              "    }\n",
              "\n",
              "    .dataframe tbody tr th {\n",
              "        vertical-align: top;\n",
              "    }\n",
              "\n",
              "    .dataframe thead th {\n",
              "        text-align: right;\n",
              "    }\n",
              "</style>\n",
              "<table border=\"1\" class=\"dataframe\">\n",
              "  <thead>\n",
              "    <tr style=\"text-align: right;\">\n",
              "      <th></th>\n",
              "      <th>item_category_id</th>\n",
              "      <th>item_name</th>\n",
              "      <th>item_id</th>\n",
              "    </tr>\n",
              "  </thead>\n",
              "  <tbody>\n",
              "    <tr>\n",
              "      <th>0</th>\n",
              "      <td>40</td>\n",
              "      <td>5035</td>\n",
              "      <td>5035</td>\n",
              "    </tr>\n",
              "    <tr>\n",
              "      <th>1</th>\n",
              "      <td>55</td>\n",
              "      <td>2365</td>\n",
              "      <td>2365</td>\n",
              "    </tr>\n",
              "    <tr>\n",
              "      <th>2</th>\n",
              "      <td>37</td>\n",
              "      <td>1780</td>\n",
              "      <td>1780</td>\n",
              "    </tr>\n",
              "    <tr>\n",
              "      <th>3</th>\n",
              "      <td>31</td>\n",
              "      <td>1125</td>\n",
              "      <td>1125</td>\n",
              "    </tr>\n",
              "    <tr>\n",
              "      <th>4</th>\n",
              "      <td>58</td>\n",
              "      <td>790</td>\n",
              "      <td>790</td>\n",
              "    </tr>\n",
              "  </tbody>\n",
              "</table>\n",
              "</div>"
            ],
            "text/plain": [
              "   item_category_id  item_name  item_id\n",
              "0                40       5035     5035\n",
              "1                55       2365     2365\n",
              "2                37       1780     1780\n",
              "3                31       1125     1125\n",
              "4                58        790      790"
            ]
          },
          "metadata": {
            "tags": []
          },
          "execution_count": 19
        }
      ]
    },
    {
      "cell_type": "code",
      "metadata": {
        "colab": {
          "base_uri": "https://localhost:8080/",
          "height": 204
        },
        "id": "MU38QMfTK82v",
        "outputId": "68314a93-e43a-4566-9555-e81fc7e8feac"
      },
      "source": [
        "# no of sale by shop\n",
        "y = transactions.groupby(['shop_id']).sum()\n",
        "y = y.reset_index()\n",
        "y.head()"
      ],
      "execution_count": 20,
      "outputs": [
        {
          "output_type": "execute_result",
          "data": {
            "text/html": [
              "<div>\n",
              "<style scoped>\n",
              "    .dataframe tbody tr th:only-of-type {\n",
              "        vertical-align: middle;\n",
              "    }\n",
              "\n",
              "    .dataframe tbody tr th {\n",
              "        vertical-align: top;\n",
              "    }\n",
              "\n",
              "    .dataframe thead th {\n",
              "        text-align: right;\n",
              "    }\n",
              "</style>\n",
              "<table border=\"1\" class=\"dataframe\">\n",
              "  <thead>\n",
              "    <tr style=\"text-align: right;\">\n",
              "      <th></th>\n",
              "      <th>shop_id</th>\n",
              "      <th>date_block_num</th>\n",
              "      <th>item_id</th>\n",
              "      <th>item_price</th>\n",
              "      <th>item_cnt_day</th>\n",
              "    </tr>\n",
              "  </thead>\n",
              "  <tbody>\n",
              "    <tr>\n",
              "      <th>0</th>\n",
              "      <td>0</td>\n",
              "      <td>5064.0</td>\n",
              "      <td>104811661.0</td>\n",
              "      <td>5553869.0</td>\n",
              "      <td>11705.0</td>\n",
              "    </tr>\n",
              "    <tr>\n",
              "      <th>1</th>\n",
              "      <td>1</td>\n",
              "      <td>2984.0</td>\n",
              "      <td>60950373.0</td>\n",
              "      <td>2926161.0</td>\n",
              "      <td>6311.0</td>\n",
              "    </tr>\n",
              "    <tr>\n",
              "      <th>2</th>\n",
              "      <td>2</td>\n",
              "      <td>433838.0</td>\n",
              "      <td>222177043.0</td>\n",
              "      <td>35104444.0</td>\n",
              "      <td>30620.0</td>\n",
              "    </tr>\n",
              "    <tr>\n",
              "      <th>3</th>\n",
              "      <td>3</td>\n",
              "      <td>406659.0</td>\n",
              "      <td>229674961.0</td>\n",
              "      <td>26472616.0</td>\n",
              "      <td>28355.0</td>\n",
              "    </tr>\n",
              "    <tr>\n",
              "      <th>4</th>\n",
              "      <td>4</td>\n",
              "      <td>554805.0</td>\n",
              "      <td>351785106.0</td>\n",
              "      <td>35335392.0</td>\n",
              "      <td>43942.0</td>\n",
              "    </tr>\n",
              "  </tbody>\n",
              "</table>\n",
              "</div>"
            ],
            "text/plain": [
              "   shop_id  date_block_num      item_id  item_price  item_cnt_day\n",
              "0        0          5064.0  104811661.0   5553869.0       11705.0\n",
              "1        1          2984.0   60950373.0   2926161.0        6311.0\n",
              "2        2        433838.0  222177043.0  35104444.0       30620.0\n",
              "3        3        406659.0  229674961.0  26472616.0       28355.0\n",
              "4        4        554805.0  351785106.0  35335392.0       43942.0"
            ]
          },
          "metadata": {
            "tags": []
          },
          "execution_count": 20
        }
      ]
    },
    {
      "cell_type": "code",
      "metadata": {
        "colab": {
          "base_uri": "https://localhost:8080/",
          "height": 1000
        },
        "id": "LbNSJthgK82w",
        "outputId": "c098c881-3612-462b-8b69-39851029bae0"
      },
      "source": [
        "# no of sale by price range\n",
        "z = transactions.sort_values('item_price')\n",
        "z = z.groupby(pd.cut(z['item_price'], np.arange(z['item_price'].min(), z['item_price'].max(), z['item_price'].max()/200))).sum()\n",
        "\n",
        "z = z.rename({'item_price': 'price'}, axis=1)\n",
        "z = z.iloc[0:20].reset_index()\n",
        "z = z.rename({'item_price': 'price_range'}, axis=1)\n",
        "\n",
        "z = z.reset_index()\n",
        "z"
      ],
      "execution_count": 21,
      "outputs": [
        {
          "output_type": "execute_result",
          "data": {
            "text/html": [
              "<div>\n",
              "<style scoped>\n",
              "    .dataframe tbody tr th:only-of-type {\n",
              "        vertical-align: middle;\n",
              "    }\n",
              "\n",
              "    .dataframe tbody tr th {\n",
              "        vertical-align: top;\n",
              "    }\n",
              "\n",
              "    .dataframe thead th {\n",
              "        text-align: right;\n",
              "    }\n",
              "</style>\n",
              "<table border=\"1\" class=\"dataframe\">\n",
              "  <thead>\n",
              "    <tr style=\"text-align: right;\">\n",
              "      <th></th>\n",
              "      <th>index</th>\n",
              "      <th>price_range</th>\n",
              "      <th>date_block_num</th>\n",
              "      <th>shop_id</th>\n",
              "      <th>item_id</th>\n",
              "      <th>price</th>\n",
              "      <th>item_cnt_day</th>\n",
              "    </tr>\n",
              "  </thead>\n",
              "  <tbody>\n",
              "    <tr>\n",
              "      <th>0</th>\n",
              "      <td>0</td>\n",
              "      <td>(-1.0, 1538.9]</td>\n",
              "      <td>35778296.0</td>\n",
              "      <td>83722794.0</td>\n",
              "      <td>2.703449e+10</td>\n",
              "      <td>1.227800e+09</td>\n",
              "      <td>3089859.0</td>\n",
              "    </tr>\n",
              "    <tr>\n",
              "      <th>1</th>\n",
              "      <td>1</td>\n",
              "      <td>(1538.9, 3078.8]</td>\n",
              "      <td>5195640.0</td>\n",
              "      <td>10338979.0</td>\n",
              "      <td>2.229523e+09</td>\n",
              "      <td>7.246913e+08</td>\n",
              "      <td>433357.0</td>\n",
              "    </tr>\n",
              "    <tr>\n",
              "      <th>2</th>\n",
              "      <td>2</td>\n",
              "      <td>(3078.8, 4618.7]</td>\n",
              "      <td>1184393.0</td>\n",
              "      <td>1656005.0</td>\n",
              "      <td>3.263717e+08</td>\n",
              "      <td>1.951775e+08</td>\n",
              "      <td>76458.0</td>\n",
              "    </tr>\n",
              "    <tr>\n",
              "      <th>3</th>\n",
              "      <td>3</td>\n",
              "      <td>(4618.7, 6158.6]</td>\n",
              "      <td>155332.0</td>\n",
              "      <td>265271.0</td>\n",
              "      <td>6.110856e+07</td>\n",
              "      <td>4.599367e+07</td>\n",
              "      <td>10799.0</td>\n",
              "    </tr>\n",
              "    <tr>\n",
              "      <th>4</th>\n",
              "      <td>4</td>\n",
              "      <td>(6158.6, 7698.5]</td>\n",
              "      <td>46156.0</td>\n",
              "      <td>82864.0</td>\n",
              "      <td>2.138838e+07</td>\n",
              "      <td>1.829672e+07</td>\n",
              "      <td>2965.0</td>\n",
              "    </tr>\n",
              "    <tr>\n",
              "      <th>5</th>\n",
              "      <td>5</td>\n",
              "      <td>(7698.5, 9238.4]</td>\n",
              "      <td>56101.0</td>\n",
              "      <td>105877.0</td>\n",
              "      <td>3.091516e+07</td>\n",
              "      <td>2.828968e+07</td>\n",
              "      <td>4578.0</td>\n",
              "    </tr>\n",
              "    <tr>\n",
              "      <th>6</th>\n",
              "      <td>6</td>\n",
              "      <td>(9238.4, 10778.3]</td>\n",
              "      <td>58062.0</td>\n",
              "      <td>122460.0</td>\n",
              "      <td>4.071124e+07</td>\n",
              "      <td>3.816480e+07</td>\n",
              "      <td>4584.0</td>\n",
              "    </tr>\n",
              "    <tr>\n",
              "      <th>7</th>\n",
              "      <td>7</td>\n",
              "      <td>(10778.3, 12318.2]</td>\n",
              "      <td>17725.0</td>\n",
              "      <td>50963.0</td>\n",
              "      <td>1.853988e+07</td>\n",
              "      <td>1.828087e+07</td>\n",
              "      <td>1809.0</td>\n",
              "    </tr>\n",
              "    <tr>\n",
              "      <th>8</th>\n",
              "      <td>8</td>\n",
              "      <td>(12318.2, 13858.1]</td>\n",
              "      <td>28983.0</td>\n",
              "      <td>96506.0</td>\n",
              "      <td>3.770542e+07</td>\n",
              "      <td>4.013901e+07</td>\n",
              "      <td>3275.0</td>\n",
              "    </tr>\n",
              "    <tr>\n",
              "      <th>9</th>\n",
              "      <td>9</td>\n",
              "      <td>(13858.1, 15398.0]</td>\n",
              "      <td>53861.0</td>\n",
              "      <td>132653.0</td>\n",
              "      <td>4.709370e+07</td>\n",
              "      <td>5.750420e+07</td>\n",
              "      <td>4377.0</td>\n",
              "    </tr>\n",
              "    <tr>\n",
              "      <th>10</th>\n",
              "      <td>10</td>\n",
              "      <td>(15398.0, 16937.9]</td>\n",
              "      <td>12970.0</td>\n",
              "      <td>25095.0</td>\n",
              "      <td>7.980602e+06</td>\n",
              "      <td>1.215951e+07</td>\n",
              "      <td>997.0</td>\n",
              "    </tr>\n",
              "    <tr>\n",
              "      <th>11</th>\n",
              "      <td>11</td>\n",
              "      <td>(16937.9, 18477.8]</td>\n",
              "      <td>24658.0</td>\n",
              "      <td>42159.0</td>\n",
              "      <td>9.965495e+06</td>\n",
              "      <td>2.366224e+07</td>\n",
              "      <td>3291.0</td>\n",
              "    </tr>\n",
              "    <tr>\n",
              "      <th>12</th>\n",
              "      <td>12</td>\n",
              "      <td>(18477.8, 20017.7]</td>\n",
              "      <td>16011.0</td>\n",
              "      <td>30532.0</td>\n",
              "      <td>7.789028e+06</td>\n",
              "      <td>1.872037e+07</td>\n",
              "      <td>2554.0</td>\n",
              "    </tr>\n",
              "    <tr>\n",
              "      <th>13</th>\n",
              "      <td>13</td>\n",
              "      <td>(20017.7, 21557.6]</td>\n",
              "      <td>25522.0</td>\n",
              "      <td>39724.0</td>\n",
              "      <td>1.070339e+07</td>\n",
              "      <td>2.583735e+07</td>\n",
              "      <td>1608.0</td>\n",
              "    </tr>\n",
              "    <tr>\n",
              "      <th>14</th>\n",
              "      <td>14</td>\n",
              "      <td>(21557.6, 23097.5]</td>\n",
              "      <td>45553.0</td>\n",
              "      <td>77246.0</td>\n",
              "      <td>2.310871e+07</td>\n",
              "      <td>5.473296e+07</td>\n",
              "      <td>3018.0</td>\n",
              "    </tr>\n",
              "    <tr>\n",
              "      <th>15</th>\n",
              "      <td>15</td>\n",
              "      <td>(23097.5, 24637.4]</td>\n",
              "      <td>9826.0</td>\n",
              "      <td>12245.0</td>\n",
              "      <td>3.559200e+06</td>\n",
              "      <td>9.239757e+06</td>\n",
              "      <td>578.0</td>\n",
              "    </tr>\n",
              "    <tr>\n",
              "      <th>16</th>\n",
              "      <td>16</td>\n",
              "      <td>(24637.4, 26177.3]</td>\n",
              "      <td>15172.0</td>\n",
              "      <td>19887.0</td>\n",
              "      <td>5.630081e+06</td>\n",
              "      <td>1.607535e+07</td>\n",
              "      <td>1103.0</td>\n",
              "    </tr>\n",
              "    <tr>\n",
              "      <th>17</th>\n",
              "      <td>17</td>\n",
              "      <td>(26177.3, 27717.2]</td>\n",
              "      <td>25375.0</td>\n",
              "      <td>33519.0</td>\n",
              "      <td>1.080448e+07</td>\n",
              "      <td>2.826149e+07</td>\n",
              "      <td>1408.0</td>\n",
              "    </tr>\n",
              "    <tr>\n",
              "      <th>18</th>\n",
              "      <td>18</td>\n",
              "      <td>(27717.2, 29257.1]</td>\n",
              "      <td>11701.0</td>\n",
              "      <td>19723.0</td>\n",
              "      <td>5.319753e+06</td>\n",
              "      <td>1.749190e+07</td>\n",
              "      <td>1056.0</td>\n",
              "    </tr>\n",
              "    <tr>\n",
              "      <th>19</th>\n",
              "      <td>19</td>\n",
              "      <td>(29257.1, 30797.0]</td>\n",
              "      <td>7226.0</td>\n",
              "      <td>7480.0</td>\n",
              "      <td>2.410457e+06</td>\n",
              "      <td>7.360084e+06</td>\n",
              "      <td>306.0</td>\n",
              "    </tr>\n",
              "  </tbody>\n",
              "</table>\n",
              "</div>"
            ],
            "text/plain": [
              "    index         price_range  ...         price  item_cnt_day\n",
              "0       0      (-1.0, 1538.9]  ...  1.227800e+09     3089859.0\n",
              "1       1    (1538.9, 3078.8]  ...  7.246913e+08      433357.0\n",
              "2       2    (3078.8, 4618.7]  ...  1.951775e+08       76458.0\n",
              "3       3    (4618.7, 6158.6]  ...  4.599367e+07       10799.0\n",
              "4       4    (6158.6, 7698.5]  ...  1.829672e+07        2965.0\n",
              "5       5    (7698.5, 9238.4]  ...  2.828968e+07        4578.0\n",
              "6       6   (9238.4, 10778.3]  ...  3.816480e+07        4584.0\n",
              "7       7  (10778.3, 12318.2]  ...  1.828087e+07        1809.0\n",
              "8       8  (12318.2, 13858.1]  ...  4.013901e+07        3275.0\n",
              "9       9  (13858.1, 15398.0]  ...  5.750420e+07        4377.0\n",
              "10     10  (15398.0, 16937.9]  ...  1.215951e+07         997.0\n",
              "11     11  (16937.9, 18477.8]  ...  2.366224e+07        3291.0\n",
              "12     12  (18477.8, 20017.7]  ...  1.872037e+07        2554.0\n",
              "13     13  (20017.7, 21557.6]  ...  2.583735e+07        1608.0\n",
              "14     14  (21557.6, 23097.5]  ...  5.473296e+07        3018.0\n",
              "15     15  (23097.5, 24637.4]  ...  9.239757e+06         578.0\n",
              "16     16  (24637.4, 26177.3]  ...  1.607535e+07        1103.0\n",
              "17     17  (26177.3, 27717.2]  ...  2.826149e+07        1408.0\n",
              "18     18  (27717.2, 29257.1]  ...  1.749190e+07        1056.0\n",
              "19     19  (29257.1, 30797.0]  ...  7.360084e+06         306.0\n",
              "\n",
              "[20 rows x 7 columns]"
            ]
          },
          "metadata": {
            "tags": []
          },
          "execution_count": 21
        }
      ]
    },
    {
      "cell_type": "code",
      "metadata": {
        "colab": {
          "base_uri": "https://localhost:8080/",
          "height": 204
        },
        "id": "88zRr7vVK82x",
        "outputId": "51da00e0-39fa-4414-b4c2-c775dc1d5693"
      },
      "source": [
        "g = transactions.groupby(['date_block_num']).sum()\n",
        "g = g.reset_index()\n",
        "g.head()"
      ],
      "execution_count": 22,
      "outputs": [
        {
          "output_type": "execute_result",
          "data": {
            "text/html": [
              "<div>\n",
              "<style scoped>\n",
              "    .dataframe tbody tr th:only-of-type {\n",
              "        vertical-align: middle;\n",
              "    }\n",
              "\n",
              "    .dataframe tbody tr th {\n",
              "        vertical-align: top;\n",
              "    }\n",
              "\n",
              "    .dataframe thead th {\n",
              "        text-align: right;\n",
              "    }\n",
              "</style>\n",
              "<table border=\"1\" class=\"dataframe\">\n",
              "  <thead>\n",
              "    <tr style=\"text-align: right;\">\n",
              "      <th></th>\n",
              "      <th>date_block_num</th>\n",
              "      <th>shop_id</th>\n",
              "      <th>item_id</th>\n",
              "      <th>item_price</th>\n",
              "      <th>item_cnt_day</th>\n",
              "    </tr>\n",
              "  </thead>\n",
              "  <tbody>\n",
              "    <tr>\n",
              "      <th>0</th>\n",
              "      <td>0</td>\n",
              "      <td>3417068.0</td>\n",
              "      <td>1.183972e+09</td>\n",
              "      <td>82211872.0</td>\n",
              "      <td>131479.0</td>\n",
              "    </tr>\n",
              "    <tr>\n",
              "      <th>1</th>\n",
              "      <td>1</td>\n",
              "      <td>3111582.0</td>\n",
              "      <td>1.076044e+09</td>\n",
              "      <td>75580184.0</td>\n",
              "      <td>128090.0</td>\n",
              "    </tr>\n",
              "    <tr>\n",
              "      <th>2</th>\n",
              "      <td>2</td>\n",
              "      <td>4016457.0</td>\n",
              "      <td>1.220912e+09</td>\n",
              "      <td>84298312.0</td>\n",
              "      <td>147142.0</td>\n",
              "    </tr>\n",
              "    <tr>\n",
              "      <th>3</th>\n",
              "      <td>3</td>\n",
              "      <td>3164978.0</td>\n",
              "      <td>9.713460e+08</td>\n",
              "      <td>61512824.0</td>\n",
              "      <td>107190.0</td>\n",
              "    </tr>\n",
              "    <tr>\n",
              "      <th>4</th>\n",
              "      <td>4</td>\n",
              "      <td>3093999.0</td>\n",
              "      <td>9.503730e+08</td>\n",
              "      <td>57274132.0</td>\n",
              "      <td>106970.0</td>\n",
              "    </tr>\n",
              "  </tbody>\n",
              "</table>\n",
              "</div>"
            ],
            "text/plain": [
              "   date_block_num    shop_id       item_id  item_price  item_cnt_day\n",
              "0               0  3417068.0  1.183972e+09  82211872.0      131479.0\n",
              "1               1  3111582.0  1.076044e+09  75580184.0      128090.0\n",
              "2               2  4016457.0  1.220912e+09  84298312.0      147142.0\n",
              "3               3  3164978.0  9.713460e+08  61512824.0      107190.0\n",
              "4               4  3093999.0  9.503730e+08  57274132.0      106970.0"
            ]
          },
          "metadata": {
            "tags": []
          },
          "execution_count": 22
        }
      ]
    },
    {
      "cell_type": "code",
      "metadata": {
        "colab": {
          "base_uri": "https://localhost:8080/",
          "height": 699
        },
        "id": "IqRI3KhDK82y",
        "outputId": "46837373-4984-407a-8f46-c0995f72523b"
      },
      "source": [
        "#visualization \n",
        "\n",
        "f, axes = plt.subplots(2,2, figsize=(35,25))\n",
        "\n",
        "sns.barplot(x='item_category_id', y='item_id', data=x, ax=axes[0,0]).set_title('Cate amount')\n",
        "sns.barplot(x='shop_id', y='item_cnt_day', data=y, ax=axes[0,1]).set_title('Shop sale')\n",
        "sns.barplot(x='index', y='item_cnt_day', data=z, ax=axes[1,0]).set_title('Price range sale')\n",
        "sns.barplot(x='date_block_num', y='item_cnt_day', data=g, ax=axes[1,1]).set_title('Monthly sale')"
      ],
      "execution_count": 23,
      "outputs": [
        {
          "output_type": "execute_result",
          "data": {
            "text/plain": [
              "Text(0.5, 1.0, 'Monthly sale')"
            ]
          },
          "metadata": {
            "tags": []
          },
          "execution_count": 23
        },
        {
          "output_type": "display_data",
          "data": {
            "image/png": "[encoded data removed]",
            "text/plain": [
              "<Figure size 2520x1800 with 4 Axes>"
            ]
          },
          "metadata": {
            "tags": [],
            "needs_background": "light"
          }
        }
      ]
    },
    {
      "cell_type": "code",
      "metadata": {
        "colab": {
          "base_uri": "https://localhost:8080/",
          "height": 486
        },
        "id": "dRCzYc0JK820",
        "outputId": "04fddbed-c7de-4849-c7fb-83c43af80e08"
      },
      "source": [
        "plt.figure(figsize=(20,10))\n",
        "sns.jointplot(x='item_cnt_day', y='item_price', data=transactions)"
      ],
      "execution_count": 24,
      "outputs": [
        {
          "output_type": "execute_result",
          "data": {
            "text/plain": [
              "<seaborn.axisgrid.JointGrid at 0x7f5b8d7e4290>"
            ]
          },
          "metadata": {
            "tags": []
          },
          "execution_count": 24
        },
        {
          "output_type": "display_data",
          "data": {
            "text/plain": [
              "<Figure size 1440x720 with 0 Axes>"
            ]
          },
          "metadata": {
            "tags": []
          }
        },
        {
          "output_type": "display_data",
          "data": {
            "image/png": "[encoded data removed]",
            "text/plain": [
              "<Figure size 432x432 with 3 Axes>"
            ]
          },
          "metadata": {
            "tags": [],
            "needs_background": "light"
          }
        }
      ]
    },
    {
      "cell_type": "code",
      "metadata": {
        "colab": {
          "base_uri": "https://localhost:8080/"
        },
        "id": "rv5efH9SK820",
        "outputId": "c6949b18-0994-4f96-86e3-9babb6175484"
      },
      "source": [
        "a = transactions['item_price'].nlargest(50)\n",
        "a = a.iloc[49,]\n",
        "a"
      ],
      "execution_count": 25,
      "outputs": [
        {
          "output_type": "execute_result",
          "data": {
            "text/plain": [
              "33490.0"
            ]
          },
          "metadata": {
            "tags": []
          },
          "execution_count": 25
        }
      ]
    },
    {
      "cell_type": "code",
      "metadata": {
        "id": "llHcS4-6K821"
      },
      "source": [
        "h = transactions.groupby(pd.cut(transactions['item_price'], np.arange(transactions['item_price'].min(), a, a/300))).sum()\n",
        "h['price_range']=np.arange(len(h))\n",
        "h = h.iloc[0:20]"
      ],
      "execution_count": 26,
      "outputs": []
    },
    {
      "cell_type": "code",
      "metadata": {
        "colab": {
          "base_uri": "https://localhost:8080/",
          "height": 555
        },
        "id": "6DUJ4EYfK822",
        "outputId": "1baef5d7-d371-40f1-d146-a0fd42ab3946"
      },
      "source": [
        "plt.figure(figsize=(20,10))\n",
        "sns.barplot(h.price_range, h.item_cnt_day)"
      ],
      "execution_count": 27,
      "outputs": [
        {
          "output_type": "stream",
          "text": [
            "/usr/local/lib/python3.7/dist-packages/seaborn/_decorators.py:43: FutureWarning: Pass the following variables as keyword args: x, y. From version 0.12, the only valid positional argument will be `data`, and passing other arguments without an explicit keyword will result in an error or misinterpretation.\n",
            "  FutureWarning\n"
          ],
          "name": "stderr"
        },
        {
          "output_type": "execute_result",
          "data": {
            "text/plain": [
              "<matplotlib.axes._subplots.AxesSubplot at 0x7f5b6e182ed0>"
            ]
          },
          "metadata": {
            "tags": []
          },
          "execution_count": 27
        },
        {
          "output_type": "display_data",
          "data": {
            "image/png": "[encoded data removed]",
            "text/plain": [
              "<Figure size 1440x720 with 1 Axes>"
            ]
          },
          "metadata": {
            "tags": [],
            "needs_background": "light"
          }
        }
      ]
    },
    {
      "cell_type": "code",
      "metadata": {
        "colab": {
          "base_uri": "https://localhost:8080/",
          "height": 547
        },
        "id": "AFWSzxNiK823",
        "outputId": "786669a4-7d14-4450-8d9d-bea6b5349426"
      },
      "source": [
        "# Join data\n",
        "\n",
        "full = transactions.join(items, on='item_id', rsuffix='_').join(shops, on='shop_id', rsuffix='_').join(categories, on='item_category_id', rsuffix='_').drop(['item_id_', 'shop_id_', 'item_category_id_'], axis=1)\n",
        "full.head()"
      ],
      "execution_count": 28,
      "outputs": [
        {
          "output_type": "execute_result",
          "data": {
            "text/html": [
              "<div>\n",
              "<style scoped>\n",
              "    .dataframe tbody tr th:only-of-type {\n",
              "        vertical-align: middle;\n",
              "    }\n",
              "\n",
              "    .dataframe tbody tr th {\n",
              "        vertical-align: top;\n",
              "    }\n",
              "\n",
              "    .dataframe thead th {\n",
              "        text-align: right;\n",
              "    }\n",
              "</style>\n",
              "<table border=\"1\" class=\"dataframe\">\n",
              "  <thead>\n",
              "    <tr style=\"text-align: right;\">\n",
              "      <th></th>\n",
              "      <th>date</th>\n",
              "      <th>date_block_num</th>\n",
              "      <th>shop_id</th>\n",
              "      <th>item_id</th>\n",
              "      <th>item_price</th>\n",
              "      <th>item_cnt_day</th>\n",
              "      <th>item_name</th>\n",
              "      <th>item_category_id</th>\n",
              "      <th>shop_name</th>\n",
              "      <th>item_category_name</th>\n",
              "    </tr>\n",
              "  </thead>\n",
              "  <tbody>\n",
              "    <tr>\n",
              "      <th>0</th>\n",
              "      <td>02.01.2013</td>\n",
              "      <td>0</td>\n",
              "      <td>59</td>\n",
              "      <td>22154</td>\n",
              "      <td>999.000000</td>\n",
              "      <td>1</td>\n",
              "      <td>ЯВЛЕНИЕ 2012 (BD)</td>\n",
              "      <td>37</td>\n",
              "      <td>Ярославль ТЦ \"Альтаир\"</td>\n",
              "      <td>Кино - Blu-Ray</td>\n",
              "    </tr>\n",
              "    <tr>\n",
              "      <th>1</th>\n",
              "      <td>03.01.2013</td>\n",
              "      <td>0</td>\n",
              "      <td>25</td>\n",
              "      <td>2552</td>\n",
              "      <td>899.000000</td>\n",
              "      <td>1</td>\n",
              "      <td>DEEP PURPLE  The House Of Blue Light  LP</td>\n",
              "      <td>58</td>\n",
              "      <td>Москва ТРК \"Атриум\"</td>\n",
              "      <td>Музыка - Винил</td>\n",
              "    </tr>\n",
              "    <tr>\n",
              "      <th>2</th>\n",
              "      <td>05.01.2013</td>\n",
              "      <td>0</td>\n",
              "      <td>25</td>\n",
              "      <td>2552</td>\n",
              "      <td>899.000000</td>\n",
              "      <td>-1</td>\n",
              "      <td>DEEP PURPLE  The House Of Blue Light  LP</td>\n",
              "      <td>58</td>\n",
              "      <td>Москва ТРК \"Атриум\"</td>\n",
              "      <td>Музыка - Винил</td>\n",
              "    </tr>\n",
              "    <tr>\n",
              "      <th>3</th>\n",
              "      <td>06.01.2013</td>\n",
              "      <td>0</td>\n",
              "      <td>25</td>\n",
              "      <td>2554</td>\n",
              "      <td>1709.050049</td>\n",
              "      <td>1</td>\n",
              "      <td>DEEP PURPLE  Who Do You Think We Are  LP</td>\n",
              "      <td>58</td>\n",
              "      <td>Москва ТРК \"Атриум\"</td>\n",
              "      <td>Музыка - Винил</td>\n",
              "    </tr>\n",
              "    <tr>\n",
              "      <th>4</th>\n",
              "      <td>15.01.2013</td>\n",
              "      <td>0</td>\n",
              "      <td>25</td>\n",
              "      <td>2555</td>\n",
              "      <td>1099.000000</td>\n",
              "      <td>1</td>\n",
              "      <td>DEEP PURPLE 30 Very Best Of 2CD (Фирм.)</td>\n",
              "      <td>56</td>\n",
              "      <td>Москва ТРК \"Атриум\"</td>\n",
              "      <td>Музыка - CD фирменного производства</td>\n",
              "    </tr>\n",
              "  </tbody>\n",
              "</table>\n",
              "</div>"
            ],
            "text/plain": [
              "         date  ...                   item_category_name\n",
              "0  02.01.2013  ...                       Кино - Blu-Ray\n",
              "1  03.01.2013  ...                       Музыка - Винил\n",
              "2  05.01.2013  ...                       Музыка - Винил\n",
              "3  06.01.2013  ...                       Музыка - Винил\n",
              "4  15.01.2013  ...  Музыка - CD фирменного производства\n",
              "\n",
              "[5 rows x 10 columns]"
            ]
          },
          "metadata": {
            "tags": []
          },
          "execution_count": 28
        }
      ]
    },
    {
      "cell_type": "code",
      "metadata": {
        "colab": {
          "base_uri": "https://localhost:8080/",
          "height": 235
        },
        "id": "P63XMsJ_K824",
        "outputId": "44cf9550-8b59-4554-ddd9-4d0365475c24"
      },
      "source": [
        "full.describe().T"
      ],
      "execution_count": 29,
      "outputs": [
        {
          "output_type": "execute_result",
          "data": {
            "text/html": [
              "<div>\n",
              "<style scoped>\n",
              "    .dataframe tbody tr th:only-of-type {\n",
              "        vertical-align: middle;\n",
              "    }\n",
              "\n",
              "    .dataframe tbody tr th {\n",
              "        vertical-align: top;\n",
              "    }\n",
              "\n",
              "    .dataframe thead th {\n",
              "        text-align: right;\n",
              "    }\n",
              "</style>\n",
              "<table border=\"1\" class=\"dataframe\">\n",
              "  <thead>\n",
              "    <tr style=\"text-align: right;\">\n",
              "      <th></th>\n",
              "      <th>count</th>\n",
              "      <th>mean</th>\n",
              "      <th>std</th>\n",
              "      <th>min</th>\n",
              "      <th>25%</th>\n",
              "      <th>50%</th>\n",
              "      <th>75%</th>\n",
              "      <th>max</th>\n",
              "    </tr>\n",
              "  </thead>\n",
              "  <tbody>\n",
              "    <tr>\n",
              "      <th>date_block_num</th>\n",
              "      <td>2935849.0</td>\n",
              "      <td>14.569911</td>\n",
              "      <td>9.422988</td>\n",
              "      <td>0.0</td>\n",
              "      <td>7.0</td>\n",
              "      <td>14.0</td>\n",
              "      <td>23.0</td>\n",
              "      <td>33.0</td>\n",
              "    </tr>\n",
              "    <tr>\n",
              "      <th>shop_id</th>\n",
              "      <td>2935849.0</td>\n",
              "      <td>33.001728</td>\n",
              "      <td>16.226973</td>\n",
              "      <td>0.0</td>\n",
              "      <td>22.0</td>\n",
              "      <td>31.0</td>\n",
              "      <td>47.0</td>\n",
              "      <td>59.0</td>\n",
              "    </tr>\n",
              "    <tr>\n",
              "      <th>item_id</th>\n",
              "      <td>2935849.0</td>\n",
              "      <td>10197.227057</td>\n",
              "      <td>6324.297354</td>\n",
              "      <td>0.0</td>\n",
              "      <td>4476.0</td>\n",
              "      <td>9343.0</td>\n",
              "      <td>15684.0</td>\n",
              "      <td>22169.0</td>\n",
              "    </tr>\n",
              "    <tr>\n",
              "      <th>item_price</th>\n",
              "      <td>2935849.0</td>\n",
              "      <td>890.623413</td>\n",
              "      <td>1726.439819</td>\n",
              "      <td>-1.0</td>\n",
              "      <td>249.0</td>\n",
              "      <td>399.0</td>\n",
              "      <td>999.0</td>\n",
              "      <td>307980.0</td>\n",
              "    </tr>\n",
              "    <tr>\n",
              "      <th>item_cnt_day</th>\n",
              "      <td>2935849.0</td>\n",
              "      <td>1.242641</td>\n",
              "      <td>2.618834</td>\n",
              "      <td>-22.0</td>\n",
              "      <td>1.0</td>\n",
              "      <td>1.0</td>\n",
              "      <td>1.0</td>\n",
              "      <td>2169.0</td>\n",
              "    </tr>\n",
              "    <tr>\n",
              "      <th>item_category_id</th>\n",
              "      <td>2935849.0</td>\n",
              "      <td>40.001383</td>\n",
              "      <td>17.100759</td>\n",
              "      <td>0.0</td>\n",
              "      <td>28.0</td>\n",
              "      <td>40.0</td>\n",
              "      <td>55.0</td>\n",
              "      <td>83.0</td>\n",
              "    </tr>\n",
              "  </tbody>\n",
              "</table>\n",
              "</div>"
            ],
            "text/plain": [
              "                      count          mean  ...      75%       max\n",
              "date_block_num    2935849.0     14.569911  ...     23.0      33.0\n",
              "shop_id           2935849.0     33.001728  ...     47.0      59.0\n",
              "item_id           2935849.0  10197.227057  ...  15684.0   22169.0\n",
              "item_price        2935849.0    890.623413  ...    999.0  307980.0\n",
              "item_cnt_day      2935849.0      1.242641  ...      1.0    2169.0\n",
              "item_category_id  2935849.0     40.001383  ...     55.0      83.0\n",
              "\n",
              "[6 rows x 8 columns]"
            ]
          },
          "metadata": {
            "tags": []
          },
          "execution_count": 29
        }
      ]
    },
    {
      "cell_type": "code",
      "metadata": {
        "colab": {
          "base_uri": "https://localhost:8080/",
          "height": 547
        },
        "id": "8wgLScgFK824",
        "outputId": "e176da04-6562-43f6-ccd6-f24218d89d03"
      },
      "source": [
        "full['revenue'] = full['item_cnt_day'] * full['item_price']\n",
        "full.head()"
      ],
      "execution_count": 30,
      "outputs": [
        {
          "output_type": "execute_result",
          "data": {
            "text/html": [
              "<div>\n",
              "<style scoped>\n",
              "    .dataframe tbody tr th:only-of-type {\n",
              "        vertical-align: middle;\n",
              "    }\n",
              "\n",
              "    .dataframe tbody tr th {\n",
              "        vertical-align: top;\n",
              "    }\n",
              "\n",
              "    .dataframe thead th {\n",
              "        text-align: right;\n",
              "    }\n",
              "</style>\n",
              "<table border=\"1\" class=\"dataframe\">\n",
              "  <thead>\n",
              "    <tr style=\"text-align: right;\">\n",
              "      <th></th>\n",
              "      <th>date</th>\n",
              "      <th>date_block_num</th>\n",
              "      <th>shop_id</th>\n",
              "      <th>item_id</th>\n",
              "      <th>item_price</th>\n",
              "      <th>item_cnt_day</th>\n",
              "      <th>item_name</th>\n",
              "      <th>item_category_id</th>\n",
              "      <th>shop_name</th>\n",
              "      <th>item_category_name</th>\n",
              "      <th>revenue</th>\n",
              "    </tr>\n",
              "  </thead>\n",
              "  <tbody>\n",
              "    <tr>\n",
              "      <th>0</th>\n",
              "      <td>02.01.2013</td>\n",
              "      <td>0</td>\n",
              "      <td>59</td>\n",
              "      <td>22154</td>\n",
              "      <td>999.000000</td>\n",
              "      <td>1</td>\n",
              "      <td>ЯВЛЕНИЕ 2012 (BD)</td>\n",
              "      <td>37</td>\n",
              "      <td>Ярославль ТЦ \"Альтаир\"</td>\n",
              "      <td>Кино - Blu-Ray</td>\n",
              "      <td>999.000000</td>\n",
              "    </tr>\n",
              "    <tr>\n",
              "      <th>1</th>\n",
              "      <td>03.01.2013</td>\n",
              "      <td>0</td>\n",
              "      <td>25</td>\n",
              "      <td>2552</td>\n",
              "      <td>899.000000</td>\n",
              "      <td>1</td>\n",
              "      <td>DEEP PURPLE  The House Of Blue Light  LP</td>\n",
              "      <td>58</td>\n",
              "      <td>Москва ТРК \"Атриум\"</td>\n",
              "      <td>Музыка - Винил</td>\n",
              "      <td>899.000000</td>\n",
              "    </tr>\n",
              "    <tr>\n",
              "      <th>2</th>\n",
              "      <td>05.01.2013</td>\n",
              "      <td>0</td>\n",
              "      <td>25</td>\n",
              "      <td>2552</td>\n",
              "      <td>899.000000</td>\n",
              "      <td>-1</td>\n",
              "      <td>DEEP PURPLE  The House Of Blue Light  LP</td>\n",
              "      <td>58</td>\n",
              "      <td>Москва ТРК \"Атриум\"</td>\n",
              "      <td>Музыка - Винил</td>\n",
              "      <td>-899.000000</td>\n",
              "    </tr>\n",
              "    <tr>\n",
              "      <th>3</th>\n",
              "      <td>06.01.2013</td>\n",
              "      <td>0</td>\n",
              "      <td>25</td>\n",
              "      <td>2554</td>\n",
              "      <td>1709.050049</td>\n",
              "      <td>1</td>\n",
              "      <td>DEEP PURPLE  Who Do You Think We Are  LP</td>\n",
              "      <td>58</td>\n",
              "      <td>Москва ТРК \"Атриум\"</td>\n",
              "      <td>Музыка - Винил</td>\n",
              "      <td>1709.050049</td>\n",
              "    </tr>\n",
              "    <tr>\n",
              "      <th>4</th>\n",
              "      <td>15.01.2013</td>\n",
              "      <td>0</td>\n",
              "      <td>25</td>\n",
              "      <td>2555</td>\n",
              "      <td>1099.000000</td>\n",
              "      <td>1</td>\n",
              "      <td>DEEP PURPLE 30 Very Best Of 2CD (Фирм.)</td>\n",
              "      <td>56</td>\n",
              "      <td>Москва ТРК \"Атриум\"</td>\n",
              "      <td>Музыка - CD фирменного производства</td>\n",
              "      <td>1099.000000</td>\n",
              "    </tr>\n",
              "  </tbody>\n",
              "</table>\n",
              "</div>"
            ],
            "text/plain": [
              "         date  date_block_num  ...                   item_category_name      revenue\n",
              "0  02.01.2013               0  ...                       Кино - Blu-Ray   999.000000\n",
              "1  03.01.2013               0  ...                       Музыка - Винил   899.000000\n",
              "2  05.01.2013               0  ...                       Музыка - Винил  -899.000000\n",
              "3  06.01.2013               0  ...                       Музыка - Винил  1709.050049\n",
              "4  15.01.2013               0  ...  Музыка - CD фирменного производства  1099.000000\n",
              "\n",
              "[5 rows x 11 columns]"
            ]
          },
          "metadata": {
            "tags": []
          },
          "execution_count": 30
        }
      ]
    },
    {
      "cell_type": "code",
      "metadata": {
        "colab": {
          "base_uri": "https://localhost:8080/",
          "height": 204
        },
        "id": "-hEp2U5ZK825",
        "outputId": "3abdae15-2df1-4110-b845-51a34fbfbb63"
      },
      "source": [
        "revenue_month = full.groupby(['date_block_num'], as_index=False).sum()\n",
        "revenue_month.head()"
      ],
      "execution_count": 31,
      "outputs": [
        {
          "output_type": "execute_result",
          "data": {
            "text/html": [
              "<div>\n",
              "<style scoped>\n",
              "    .dataframe tbody tr th:only-of-type {\n",
              "        vertical-align: middle;\n",
              "    }\n",
              "\n",
              "    .dataframe tbody tr th {\n",
              "        vertical-align: top;\n",
              "    }\n",
              "\n",
              "    .dataframe thead th {\n",
              "        text-align: right;\n",
              "    }\n",
              "</style>\n",
              "<table border=\"1\" class=\"dataframe\">\n",
              "  <thead>\n",
              "    <tr style=\"text-align: right;\">\n",
              "      <th></th>\n",
              "      <th>date_block_num</th>\n",
              "      <th>shop_id</th>\n",
              "      <th>item_id</th>\n",
              "      <th>item_price</th>\n",
              "      <th>item_cnt_day</th>\n",
              "      <th>item_category_id</th>\n",
              "      <th>revenue</th>\n",
              "    </tr>\n",
              "  </thead>\n",
              "  <tbody>\n",
              "    <tr>\n",
              "      <th>0</th>\n",
              "      <td>0</td>\n",
              "      <td>3417068.0</td>\n",
              "      <td>1.183972e+09</td>\n",
              "      <td>82211872.0</td>\n",
              "      <td>131479.0</td>\n",
              "      <td>4574740.0</td>\n",
              "      <td>91947088.0</td>\n",
              "    </tr>\n",
              "    <tr>\n",
              "      <th>1</th>\n",
              "      <td>1</td>\n",
              "      <td>3111582.0</td>\n",
              "      <td>1.076044e+09</td>\n",
              "      <td>75580184.0</td>\n",
              "      <td>128090.0</td>\n",
              "      <td>4319172.0</td>\n",
              "      <td>90665704.0</td>\n",
              "    </tr>\n",
              "    <tr>\n",
              "      <th>2</th>\n",
              "      <td>2</td>\n",
              "      <td>4016457.0</td>\n",
              "      <td>1.220912e+09</td>\n",
              "      <td>84298312.0</td>\n",
              "      <td>147142.0</td>\n",
              "      <td>4777604.0</td>\n",
              "      <td>104932688.0</td>\n",
              "    </tr>\n",
              "    <tr>\n",
              "      <th>3</th>\n",
              "      <td>3</td>\n",
              "      <td>3164978.0</td>\n",
              "      <td>9.713460e+08</td>\n",
              "      <td>61512824.0</td>\n",
              "      <td>107190.0</td>\n",
              "      <td>3804157.0</td>\n",
              "      <td>69154288.0</td>\n",
              "    </tr>\n",
              "    <tr>\n",
              "      <th>4</th>\n",
              "      <td>4</td>\n",
              "      <td>3093999.0</td>\n",
              "      <td>9.503730e+08</td>\n",
              "      <td>57274132.0</td>\n",
              "      <td>106970.0</td>\n",
              "      <td>3694879.0</td>\n",
              "      <td>65065312.0</td>\n",
              "    </tr>\n",
              "  </tbody>\n",
              "</table>\n",
              "</div>"
            ],
            "text/plain": [
              "   date_block_num    shop_id  ...  item_category_id      revenue\n",
              "0               0  3417068.0  ...         4574740.0   91947088.0\n",
              "1               1  3111582.0  ...         4319172.0   90665704.0\n",
              "2               2  4016457.0  ...         4777604.0  104932688.0\n",
              "3               3  3164978.0  ...         3804157.0   69154288.0\n",
              "4               4  3093999.0  ...         3694879.0   65065312.0\n",
              "\n",
              "[5 rows x 7 columns]"
            ]
          },
          "metadata": {
            "tags": []
          },
          "execution_count": 31
        }
      ]
    },
    {
      "cell_type": "code",
      "metadata": {
        "colab": {
          "base_uri": "https://localhost:8080/",
          "height": 519
        },
        "id": "QqcbPxQlK825",
        "outputId": "118328b1-56e6-4480-9537-20aaa35b2e7d"
      },
      "source": [
        "plt.figure(figsize=(20,10))\n",
        "sns.barplot(x=full.date_block_num, y=full.revenue).set_title('Monthly Revenue')"
      ],
      "execution_count": 32,
      "outputs": [
        {
          "output_type": "execute_result",
          "data": {
            "text/plain": [
              "Text(0.5, 1.0, 'Monthly Revenue')"
            ]
          },
          "metadata": {
            "tags": []
          },
          "execution_count": 32
        },
        {
          "output_type": "display_data",
          "data": {
            "image/png": "[encoded data removed]",
            "text/plain": [
              "<Figure size 1440x720 with 1 Axes>"
            ]
          },
          "metadata": {
            "tags": [],
            "needs_background": "light"
          }
        }
      ]
    },
    {
      "cell_type": "code",
      "metadata": {
        "colab": {
          "base_uri": "https://localhost:8080/",
          "height": 547
        },
        "id": "VZRZsqBtK825",
        "outputId": "edb952d6-74ad-41c8-b70e-ff6fc6ceba00"
      },
      "source": [
        "# change time format to do comparison \n",
        "full['year'] = full['date_block_num'].apply(lambda x: ((x//12) + 2013))\n",
        "full['month'] = full['date_block_num'].apply(lambda x: (x %12) +1 )\n",
        "full.head()"
      ],
      "execution_count": 33,
      "outputs": [
        {
          "output_type": "execute_result",
          "data": {
            "text/html": [
              "<div>\n",
              "<style scoped>\n",
              "    .dataframe tbody tr th:only-of-type {\n",
              "        vertical-align: middle;\n",
              "    }\n",
              "\n",
              "    .dataframe tbody tr th {\n",
              "        vertical-align: top;\n",
              "    }\n",
              "\n",
              "    .dataframe thead th {\n",
              "        text-align: right;\n",
              "    }\n",
              "</style>\n",
              "<table border=\"1\" class=\"dataframe\">\n",
              "  <thead>\n",
              "    <tr style=\"text-align: right;\">\n",
              "      <th></th>\n",
              "      <th>date</th>\n",
              "      <th>date_block_num</th>\n",
              "      <th>shop_id</th>\n",
              "      <th>item_id</th>\n",
              "      <th>item_price</th>\n",
              "      <th>item_cnt_day</th>\n",
              "      <th>item_name</th>\n",
              "      <th>item_category_id</th>\n",
              "      <th>shop_name</th>\n",
              "      <th>item_category_name</th>\n",
              "      <th>revenue</th>\n",
              "      <th>year</th>\n",
              "      <th>month</th>\n",
              "    </tr>\n",
              "  </thead>\n",
              "  <tbody>\n",
              "    <tr>\n",
              "      <th>0</th>\n",
              "      <td>02.01.2013</td>\n",
              "      <td>0</td>\n",
              "      <td>59</td>\n",
              "      <td>22154</td>\n",
              "      <td>999.000000</td>\n",
              "      <td>1</td>\n",
              "      <td>ЯВЛЕНИЕ 2012 (BD)</td>\n",
              "      <td>37</td>\n",
              "      <td>Ярославль ТЦ \"Альтаир\"</td>\n",
              "      <td>Кино - Blu-Ray</td>\n",
              "      <td>999.000000</td>\n",
              "      <td>2013</td>\n",
              "      <td>1</td>\n",
              "    </tr>\n",
              "    <tr>\n",
              "      <th>1</th>\n",
              "      <td>03.01.2013</td>\n",
              "      <td>0</td>\n",
              "      <td>25</td>\n",
              "      <td>2552</td>\n",
              "      <td>899.000000</td>\n",
              "      <td>1</td>\n",
              "      <td>DEEP PURPLE  The House Of Blue Light  LP</td>\n",
              "      <td>58</td>\n",
              "      <td>Москва ТРК \"Атриум\"</td>\n",
              "      <td>Музыка - Винил</td>\n",
              "      <td>899.000000</td>\n",
              "      <td>2013</td>\n",
              "      <td>1</td>\n",
              "    </tr>\n",
              "    <tr>\n",
              "      <th>2</th>\n",
              "      <td>05.01.2013</td>\n",
              "      <td>0</td>\n",
              "      <td>25</td>\n",
              "      <td>2552</td>\n",
              "      <td>899.000000</td>\n",
              "      <td>-1</td>\n",
              "      <td>DEEP PURPLE  The House Of Blue Light  LP</td>\n",
              "      <td>58</td>\n",
              "      <td>Москва ТРК \"Атриум\"</td>\n",
              "      <td>Музыка - Винил</td>\n",
              "      <td>-899.000000</td>\n",
              "      <td>2013</td>\n",
              "      <td>1</td>\n",
              "    </tr>\n",
              "    <tr>\n",
              "      <th>3</th>\n",
              "      <td>06.01.2013</td>\n",
              "      <td>0</td>\n",
              "      <td>25</td>\n",
              "      <td>2554</td>\n",
              "      <td>1709.050049</td>\n",
              "      <td>1</td>\n",
              "      <td>DEEP PURPLE  Who Do You Think We Are  LP</td>\n",
              "      <td>58</td>\n",
              "      <td>Москва ТРК \"Атриум\"</td>\n",
              "      <td>Музыка - Винил</td>\n",
              "      <td>1709.050049</td>\n",
              "      <td>2013</td>\n",
              "      <td>1</td>\n",
              "    </tr>\n",
              "    <tr>\n",
              "      <th>4</th>\n",
              "      <td>15.01.2013</td>\n",
              "      <td>0</td>\n",
              "      <td>25</td>\n",
              "      <td>2555</td>\n",
              "      <td>1099.000000</td>\n",
              "      <td>1</td>\n",
              "      <td>DEEP PURPLE 30 Very Best Of 2CD (Фирм.)</td>\n",
              "      <td>56</td>\n",
              "      <td>Москва ТРК \"Атриум\"</td>\n",
              "      <td>Музыка - CD фирменного производства</td>\n",
              "      <td>1099.000000</td>\n",
              "      <td>2013</td>\n",
              "      <td>1</td>\n",
              "    </tr>\n",
              "  </tbody>\n",
              "</table>\n",
              "</div>"
            ],
            "text/plain": [
              "         date  date_block_num  shop_id  ...      revenue  year  month\n",
              "0  02.01.2013               0       59  ...   999.000000  2013      1\n",
              "1  03.01.2013               0       25  ...   899.000000  2013      1\n",
              "2  05.01.2013               0       25  ...  -899.000000  2013      1\n",
              "3  06.01.2013               0       25  ...  1709.050049  2013      1\n",
              "4  15.01.2013               0       25  ...  1099.000000  2013      1\n",
              "\n",
              "[5 rows x 13 columns]"
            ]
          },
          "metadata": {
            "tags": []
          },
          "execution_count": 33
        }
      ]
    },
    {
      "cell_type": "code",
      "metadata": {
        "colab": {
          "base_uri": "https://localhost:8080/",
          "height": 419
        },
        "id": "--_RsxaRK826",
        "outputId": "eded73d9-d6ff-45cc-915e-f5ed0d0c71f1"
      },
      "source": [
        "month = full[['month', 'year', 'item_cnt_day']]\n",
        "month = month.sort_values(['month'])\n",
        "month"
      ],
      "execution_count": 34,
      "outputs": [
        {
          "output_type": "execute_result",
          "data": {
            "text/html": [
              "<div>\n",
              "<style scoped>\n",
              "    .dataframe tbody tr th:only-of-type {\n",
              "        vertical-align: middle;\n",
              "    }\n",
              "\n",
              "    .dataframe tbody tr th {\n",
              "        vertical-align: top;\n",
              "    }\n",
              "\n",
              "    .dataframe thead th {\n",
              "        text-align: right;\n",
              "    }\n",
              "</style>\n",
              "<table border=\"1\" class=\"dataframe\">\n",
              "  <thead>\n",
              "    <tr style=\"text-align: right;\">\n",
              "      <th></th>\n",
              "      <th>month</th>\n",
              "      <th>year</th>\n",
              "      <th>item_cnt_day</th>\n",
              "    </tr>\n",
              "  </thead>\n",
              "  <tbody>\n",
              "    <tr>\n",
              "      <th>0</th>\n",
              "      <td>1</td>\n",
              "      <td>2013</td>\n",
              "      <td>1</td>\n",
              "    </tr>\n",
              "    <tr>\n",
              "      <th>2349317</th>\n",
              "      <td>1</td>\n",
              "      <td>2015</td>\n",
              "      <td>1</td>\n",
              "    </tr>\n",
              "    <tr>\n",
              "      <th>2349318</th>\n",
              "      <td>1</td>\n",
              "      <td>2015</td>\n",
              "      <td>1</td>\n",
              "    </tr>\n",
              "    <tr>\n",
              "      <th>2349319</th>\n",
              "      <td>1</td>\n",
              "      <td>2015</td>\n",
              "      <td>2</td>\n",
              "    </tr>\n",
              "    <tr>\n",
              "      <th>2349320</th>\n",
              "      <td>1</td>\n",
              "      <td>2015</td>\n",
              "      <td>1</td>\n",
              "    </tr>\n",
              "    <tr>\n",
              "      <th>...</th>\n",
              "      <td>...</td>\n",
              "      <td>...</td>\n",
              "      <td>...</td>\n",
              "    </tr>\n",
              "    <tr>\n",
              "      <th>2297349</th>\n",
              "      <td>12</td>\n",
              "      <td>2014</td>\n",
              "      <td>1</td>\n",
              "    </tr>\n",
              "    <tr>\n",
              "      <th>2297350</th>\n",
              "      <td>12</td>\n",
              "      <td>2014</td>\n",
              "      <td>3</td>\n",
              "    </tr>\n",
              "    <tr>\n",
              "      <th>2297351</th>\n",
              "      <td>12</td>\n",
              "      <td>2014</td>\n",
              "      <td>1</td>\n",
              "    </tr>\n",
              "    <tr>\n",
              "      <th>2297353</th>\n",
              "      <td>12</td>\n",
              "      <td>2014</td>\n",
              "      <td>1</td>\n",
              "    </tr>\n",
              "    <tr>\n",
              "      <th>1151845</th>\n",
              "      <td>12</td>\n",
              "      <td>2013</td>\n",
              "      <td>1</td>\n",
              "    </tr>\n",
              "  </tbody>\n",
              "</table>\n",
              "<p>2935849 rows × 3 columns</p>\n",
              "</div>"
            ],
            "text/plain": [
              "         month  year  item_cnt_day\n",
              "0            1  2013             1\n",
              "2349317      1  2015             1\n",
              "2349318      1  2015             1\n",
              "2349319      1  2015             2\n",
              "2349320      1  2015             1\n",
              "...        ...   ...           ...\n",
              "2297349     12  2014             1\n",
              "2297350     12  2014             3\n",
              "2297351     12  2014             1\n",
              "2297353     12  2014             1\n",
              "1151845     12  2013             1\n",
              "\n",
              "[2935849 rows x 3 columns]"
            ]
          },
          "metadata": {
            "tags": []
          },
          "execution_count": 34
        }
      ]
    },
    {
      "cell_type": "code",
      "metadata": {
        "colab": {
          "base_uri": "https://localhost:8080/",
          "height": 452
        },
        "id": "brig35W-K826",
        "outputId": "ace1b8de-2a77-412c-df7e-b52d3aa4f7ff"
      },
      "source": [
        "month_pivot = month.pivot_table(index='month', columns='year', values='item_cnt_day')\n",
        "month_pivot"
      ],
      "execution_count": 35,
      "outputs": [
        {
          "output_type": "execute_result",
          "data": {
            "text/html": [
              "<div>\n",
              "<style scoped>\n",
              "    .dataframe tbody tr th:only-of-type {\n",
              "        vertical-align: middle;\n",
              "    }\n",
              "\n",
              "    .dataframe tbody tr th {\n",
              "        vertical-align: top;\n",
              "    }\n",
              "\n",
              "    .dataframe thead th {\n",
              "        text-align: right;\n",
              "    }\n",
              "</style>\n",
              "<table border=\"1\" class=\"dataframe\">\n",
              "  <thead>\n",
              "    <tr style=\"text-align: right;\">\n",
              "      <th>year</th>\n",
              "      <th>2013</th>\n",
              "      <th>2014</th>\n",
              "      <th>2015</th>\n",
              "    </tr>\n",
              "    <tr>\n",
              "      <th>month</th>\n",
              "      <th></th>\n",
              "      <th></th>\n",
              "      <th></th>\n",
              "    </tr>\n",
              "  </thead>\n",
              "  <tbody>\n",
              "    <tr>\n",
              "      <th>1</th>\n",
              "      <td>1.136477</td>\n",
              "      <td>1.176650</td>\n",
              "      <td>1.253598</td>\n",
              "    </tr>\n",
              "    <tr>\n",
              "      <th>2</th>\n",
              "      <td>1.179325</td>\n",
              "      <td>1.221051</td>\n",
              "      <td>1.172543</td>\n",
              "    </tr>\n",
              "    <tr>\n",
              "      <th>3</th>\n",
              "      <td>1.212572</td>\n",
              "      <td>1.243322</td>\n",
              "      <td>1.172014</td>\n",
              "    </tr>\n",
              "    <tr>\n",
              "      <th>4</th>\n",
              "      <td>1.138998</td>\n",
              "      <td>1.239391</td>\n",
              "      <td>1.383001</td>\n",
              "    </tr>\n",
              "    <tr>\n",
              "      <th>5</th>\n",
              "      <td>1.165771</td>\n",
              "      <td>1.245272</td>\n",
              "      <td>1.325346</td>\n",
              "    </tr>\n",
              "    <tr>\n",
              "      <th>6</th>\n",
              "      <td>1.248777</td>\n",
              "      <td>1.182276</td>\n",
              "      <td>1.173884</td>\n",
              "    </tr>\n",
              "    <tr>\n",
              "      <th>7</th>\n",
              "      <td>1.163285</td>\n",
              "      <td>1.158964</td>\n",
              "      <td>1.137500</td>\n",
              "    </tr>\n",
              "    <tr>\n",
              "      <th>8</th>\n",
              "      <td>1.195844</td>\n",
              "      <td>1.185963</td>\n",
              "      <td>1.158691</td>\n",
              "    </tr>\n",
              "    <tr>\n",
              "      <th>9</th>\n",
              "      <td>1.386896</td>\n",
              "      <td>1.356097</td>\n",
              "      <td>1.439926</td>\n",
              "    </tr>\n",
              "    <tr>\n",
              "      <th>10</th>\n",
              "      <td>1.353910</td>\n",
              "      <td>1.353587</td>\n",
              "      <td>1.327802</td>\n",
              "    </tr>\n",
              "    <tr>\n",
              "      <th>11</th>\n",
              "      <td>1.343957</td>\n",
              "      <td>1.363505</td>\n",
              "      <td>NaN</td>\n",
              "    </tr>\n",
              "    <tr>\n",
              "      <th>12</th>\n",
              "      <td>1.279910</td>\n",
              "      <td>1.290314</td>\n",
              "      <td>NaN</td>\n",
              "    </tr>\n",
              "  </tbody>\n",
              "</table>\n",
              "</div>"
            ],
            "text/plain": [
              "year       2013      2014      2015\n",
              "month                              \n",
              "1      1.136477  1.176650  1.253598\n",
              "2      1.179325  1.221051  1.172543\n",
              "3      1.212572  1.243322  1.172014\n",
              "4      1.138998  1.239391  1.383001\n",
              "5      1.165771  1.245272  1.325346\n",
              "6      1.248777  1.182276  1.173884\n",
              "7      1.163285  1.158964  1.137500\n",
              "8      1.195844  1.185963  1.158691\n",
              "9      1.386896  1.356097  1.439926\n",
              "10     1.353910  1.353587  1.327802\n",
              "11     1.343957  1.363505       NaN\n",
              "12     1.279910  1.290314       NaN"
            ]
          },
          "metadata": {
            "tags": []
          },
          "execution_count": 35
        }
      ]
    },
    {
      "cell_type": "code",
      "metadata": {
        "colab": {
          "base_uri": "https://localhost:8080/",
          "height": 1000
        },
        "id": "7G4LyQVAK826",
        "outputId": "bc63074a-7a4c-401e-bd6d-15ef9a44060a"
      },
      "source": [
        "full"
      ],
      "execution_count": 36,
      "outputs": [
        {
          "output_type": "execute_result",
          "data": {
            "text/html": [
              "<div>\n",
              "<style scoped>\n",
              "    .dataframe tbody tr th:only-of-type {\n",
              "        vertical-align: middle;\n",
              "    }\n",
              "\n",
              "    .dataframe tbody tr th {\n",
              "        vertical-align: top;\n",
              "    }\n",
              "\n",
              "    .dataframe thead th {\n",
              "        text-align: right;\n",
              "    }\n",
              "</style>\n",
              "<table border=\"1\" class=\"dataframe\">\n",
              "  <thead>\n",
              "    <tr style=\"text-align: right;\">\n",
              "      <th></th>\n",
              "      <th>date</th>\n",
              "      <th>date_block_num</th>\n",
              "      <th>shop_id</th>\n",
              "      <th>item_id</th>\n",
              "      <th>item_price</th>\n",
              "      <th>item_cnt_day</th>\n",
              "      <th>item_name</th>\n",
              "      <th>item_category_id</th>\n",
              "      <th>shop_name</th>\n",
              "      <th>item_category_name</th>\n",
              "      <th>revenue</th>\n",
              "      <th>year</th>\n",
              "      <th>month</th>\n",
              "    </tr>\n",
              "  </thead>\n",
              "  <tbody>\n",
              "    <tr>\n",
              "      <th>0</th>\n",
              "      <td>02.01.2013</td>\n",
              "      <td>0</td>\n",
              "      <td>59</td>\n",
              "      <td>22154</td>\n",
              "      <td>999.000000</td>\n",
              "      <td>1</td>\n",
              "      <td>ЯВЛЕНИЕ 2012 (BD)</td>\n",
              "      <td>37</td>\n",
              "      <td>Ярославль ТЦ \"Альтаир\"</td>\n",
              "      <td>Кино - Blu-Ray</td>\n",
              "      <td>999.000000</td>\n",
              "      <td>2013</td>\n",
              "      <td>1</td>\n",
              "    </tr>\n",
              "    <tr>\n",
              "      <th>1</th>\n",
              "      <td>03.01.2013</td>\n",
              "      <td>0</td>\n",
              "      <td>25</td>\n",
              "      <td>2552</td>\n",
              "      <td>899.000000</td>\n",
              "      <td>1</td>\n",
              "      <td>DEEP PURPLE  The House Of Blue Light  LP</td>\n",
              "      <td>58</td>\n",
              "      <td>Москва ТРК \"Атриум\"</td>\n",
              "      <td>Музыка - Винил</td>\n",
              "      <td>899.000000</td>\n",
              "      <td>2013</td>\n",
              "      <td>1</td>\n",
              "    </tr>\n",
              "    <tr>\n",
              "      <th>2</th>\n",
              "      <td>05.01.2013</td>\n",
              "      <td>0</td>\n",
              "      <td>25</td>\n",
              "      <td>2552</td>\n",
              "      <td>899.000000</td>\n",
              "      <td>-1</td>\n",
              "      <td>DEEP PURPLE  The House Of Blue Light  LP</td>\n",
              "      <td>58</td>\n",
              "      <td>Москва ТРК \"Атриум\"</td>\n",
              "      <td>Музыка - Винил</td>\n",
              "      <td>-899.000000</td>\n",
              "      <td>2013</td>\n",
              "      <td>1</td>\n",
              "    </tr>\n",
              "    <tr>\n",
              "      <th>3</th>\n",
              "      <td>06.01.2013</td>\n",
              "      <td>0</td>\n",
              "      <td>25</td>\n",
              "      <td>2554</td>\n",
              "      <td>1709.050049</td>\n",
              "      <td>1</td>\n",
              "      <td>DEEP PURPLE  Who Do You Think We Are  LP</td>\n",
              "      <td>58</td>\n",
              "      <td>Москва ТРК \"Атриум\"</td>\n",
              "      <td>Музыка - Винил</td>\n",
              "      <td>1709.050049</td>\n",
              "      <td>2013</td>\n",
              "      <td>1</td>\n",
              "    </tr>\n",
              "    <tr>\n",
              "      <th>4</th>\n",
              "      <td>15.01.2013</td>\n",
              "      <td>0</td>\n",
              "      <td>25</td>\n",
              "      <td>2555</td>\n",
              "      <td>1099.000000</td>\n",
              "      <td>1</td>\n",
              "      <td>DEEP PURPLE 30 Very Best Of 2CD (Фирм.)</td>\n",
              "      <td>56</td>\n",
              "      <td>Москва ТРК \"Атриум\"</td>\n",
              "      <td>Музыка - CD фирменного производства</td>\n",
              "      <td>1099.000000</td>\n",
              "      <td>2013</td>\n",
              "      <td>1</td>\n",
              "    </tr>\n",
              "    <tr>\n",
              "      <th>...</th>\n",
              "      <td>...</td>\n",
              "      <td>...</td>\n",
              "      <td>...</td>\n",
              "      <td>...</td>\n",
              "      <td>...</td>\n",
              "      <td>...</td>\n",
              "      <td>...</td>\n",
              "      <td>...</td>\n",
              "      <td>...</td>\n",
              "      <td>...</td>\n",
              "      <td>...</td>\n",
              "      <td>...</td>\n",
              "      <td>...</td>\n",
              "    </tr>\n",
              "    <tr>\n",
              "      <th>2935844</th>\n",
              "      <td>10.10.2015</td>\n",
              "      <td>33</td>\n",
              "      <td>25</td>\n",
              "      <td>7409</td>\n",
              "      <td>299.000000</td>\n",
              "      <td>1</td>\n",
              "      <td>V/A Nu Jazz Selection (digipack)</td>\n",
              "      <td>55</td>\n",
              "      <td>Москва ТРК \"Атриум\"</td>\n",
              "      <td>Музыка - CD локального производства</td>\n",
              "      <td>299.000000</td>\n",
              "      <td>2015</td>\n",
              "      <td>10</td>\n",
              "    </tr>\n",
              "    <tr>\n",
              "      <th>2935845</th>\n",
              "      <td>09.10.2015</td>\n",
              "      <td>33</td>\n",
              "      <td>25</td>\n",
              "      <td>7460</td>\n",
              "      <td>299.000000</td>\n",
              "      <td>1</td>\n",
              "      <td>V/A The Golden Jazz Collection  1  2CD</td>\n",
              "      <td>55</td>\n",
              "      <td>Москва ТРК \"Атриум\"</td>\n",
              "      <td>Музыка - CD локального производства</td>\n",
              "      <td>299.000000</td>\n",
              "      <td>2015</td>\n",
              "      <td>10</td>\n",
              "    </tr>\n",
              "    <tr>\n",
              "      <th>2935846</th>\n",
              "      <td>14.10.2015</td>\n",
              "      <td>33</td>\n",
              "      <td>25</td>\n",
              "      <td>7459</td>\n",
              "      <td>349.000000</td>\n",
              "      <td>1</td>\n",
              "      <td>V/A The Best Of The 3 Tenors</td>\n",
              "      <td>55</td>\n",
              "      <td>Москва ТРК \"Атриум\"</td>\n",
              "      <td>Музыка - CD локального производства</td>\n",
              "      <td>349.000000</td>\n",
              "      <td>2015</td>\n",
              "      <td>10</td>\n",
              "    </tr>\n",
              "    <tr>\n",
              "      <th>2935847</th>\n",
              "      <td>22.10.2015</td>\n",
              "      <td>33</td>\n",
              "      <td>25</td>\n",
              "      <td>7440</td>\n",
              "      <td>299.000000</td>\n",
              "      <td>1</td>\n",
              "      <td>V/A Relax Collection  Planet MP3 (mp3-CD) (jewel)</td>\n",
              "      <td>57</td>\n",
              "      <td>Москва ТРК \"Атриум\"</td>\n",
              "      <td>Музыка - MP3</td>\n",
              "      <td>299.000000</td>\n",
              "      <td>2015</td>\n",
              "      <td>10</td>\n",
              "    </tr>\n",
              "    <tr>\n",
              "      <th>2935848</th>\n",
              "      <td>03.10.2015</td>\n",
              "      <td>33</td>\n",
              "      <td>25</td>\n",
              "      <td>7460</td>\n",
              "      <td>299.000000</td>\n",
              "      <td>1</td>\n",
              "      <td>V/A The Golden Jazz Collection  1  2CD</td>\n",
              "      <td>55</td>\n",
              "      <td>Москва ТРК \"Атриум\"</td>\n",
              "      <td>Музыка - CD локального производства</td>\n",
              "      <td>299.000000</td>\n",
              "      <td>2015</td>\n",
              "      <td>10</td>\n",
              "    </tr>\n",
              "  </tbody>\n",
              "</table>\n",
              "<p>2935849 rows × 13 columns</p>\n",
              "</div>"
            ],
            "text/plain": [
              "               date  date_block_num  shop_id  ...      revenue  year  month\n",
              "0        02.01.2013               0       59  ...   999.000000  2013      1\n",
              "1        03.01.2013               0       25  ...   899.000000  2013      1\n",
              "2        05.01.2013               0       25  ...  -899.000000  2013      1\n",
              "3        06.01.2013               0       25  ...  1709.050049  2013      1\n",
              "4        15.01.2013               0       25  ...  1099.000000  2013      1\n",
              "...             ...             ...      ...  ...          ...   ...    ...\n",
              "2935844  10.10.2015              33       25  ...   299.000000  2015     10\n",
              "2935845  09.10.2015              33       25  ...   299.000000  2015     10\n",
              "2935846  14.10.2015              33       25  ...   349.000000  2015     10\n",
              "2935847  22.10.2015              33       25  ...   299.000000  2015     10\n",
              "2935848  03.10.2015              33       25  ...   299.000000  2015     10\n",
              "\n",
              "[2935849 rows x 13 columns]"
            ]
          },
          "metadata": {
            "tags": []
          },
          "execution_count": 36
        }
      ]
    },
    {
      "cell_type": "code",
      "metadata": {
        "colab": {
          "base_uri": "https://localhost:8080/",
          "height": 452
        },
        "id": "HEy5soymK827",
        "outputId": "50a70e0a-3aae-4371-96e9-4ceb6bff40ff"
      },
      "source": [
        "revenue_month = full[['month', 'year', 'revenue']]\n",
        "revenue_pivot = revenue_month.pivot_table(index='month', columns='year', values='revenue')\n",
        "revenue_pivot"
      ],
      "execution_count": 37,
      "outputs": [
        {
          "output_type": "execute_result",
          "data": {
            "text/html": [
              "<div>\n",
              "<style scoped>\n",
              "    .dataframe tbody tr th:only-of-type {\n",
              "        vertical-align: middle;\n",
              "    }\n",
              "\n",
              "    .dataframe tbody tr th {\n",
              "        vertical-align: top;\n",
              "    }\n",
              "\n",
              "    .dataframe thead th {\n",
              "        text-align: right;\n",
              "    }\n",
              "</style>\n",
              "<table border=\"1\" class=\"dataframe\">\n",
              "  <thead>\n",
              "    <tr style=\"text-align: right;\">\n",
              "      <th>year</th>\n",
              "      <th>2013</th>\n",
              "      <th>2014</th>\n",
              "      <th>2015</th>\n",
              "    </tr>\n",
              "    <tr>\n",
              "      <th>month</th>\n",
              "      <th></th>\n",
              "      <th></th>\n",
              "      <th></th>\n",
              "    </tr>\n",
              "  </thead>\n",
              "  <tbody>\n",
              "    <tr>\n",
              "      <th>1</th>\n",
              "      <td>794.771301</td>\n",
              "      <td>988.696655</td>\n",
              "      <td>1343.481812</td>\n",
              "    </tr>\n",
              "    <tr>\n",
              "      <th>2</th>\n",
              "      <td>834.759277</td>\n",
              "      <td>1195.938110</td>\n",
              "      <td>1205.908569</td>\n",
              "    </tr>\n",
              "    <tr>\n",
              "      <th>3</th>\n",
              "      <td>864.732422</td>\n",
              "      <td>1176.662109</td>\n",
              "      <td>1235.781250</td>\n",
              "    </tr>\n",
              "    <tr>\n",
              "      <th>4</th>\n",
              "      <td>734.831787</td>\n",
              "      <td>1035.244507</td>\n",
              "      <td>1603.810181</td>\n",
              "    </tr>\n",
              "    <tr>\n",
              "      <th>5</th>\n",
              "      <td>709.089172</td>\n",
              "      <td>1162.395264</td>\n",
              "      <td>1623.843872</td>\n",
              "    </tr>\n",
              "    <tr>\n",
              "      <th>6</th>\n",
              "      <td>792.311035</td>\n",
              "      <td>1003.161560</td>\n",
              "      <td>1197.392700</td>\n",
              "    </tr>\n",
              "    <tr>\n",
              "      <th>7</th>\n",
              "      <td>689.726318</td>\n",
              "      <td>971.151855</td>\n",
              "      <td>1069.430420</td>\n",
              "    </tr>\n",
              "    <tr>\n",
              "      <th>8</th>\n",
              "      <td>709.139526</td>\n",
              "      <td>1034.522095</td>\n",
              "      <td>1082.764282</td>\n",
              "    </tr>\n",
              "    <tr>\n",
              "      <th>9</th>\n",
              "      <td>1238.668701</td>\n",
              "      <td>1568.183472</td>\n",
              "      <td>1836.506104</td>\n",
              "    </tr>\n",
              "    <tr>\n",
              "      <th>10</th>\n",
              "      <td>1138.421875</td>\n",
              "      <td>1417.894409</td>\n",
              "      <td>1575.982178</td>\n",
              "    </tr>\n",
              "    <tr>\n",
              "      <th>11</th>\n",
              "      <td>1433.441895</td>\n",
              "      <td>1759.124390</td>\n",
              "      <td>NaN</td>\n",
              "    </tr>\n",
              "    <tr>\n",
              "      <th>12</th>\n",
              "      <td>1449.057739</td>\n",
              "      <td>1774.082642</td>\n",
              "      <td>NaN</td>\n",
              "    </tr>\n",
              "  </tbody>\n",
              "</table>\n",
              "</div>"
            ],
            "text/plain": [
              "year          2013         2014         2015\n",
              "month                                       \n",
              "1       794.771301   988.696655  1343.481812\n",
              "2       834.759277  1195.938110  1205.908569\n",
              "3       864.732422  1176.662109  1235.781250\n",
              "4       734.831787  1035.244507  1603.810181\n",
              "5       709.089172  1162.395264  1623.843872\n",
              "6       792.311035  1003.161560  1197.392700\n",
              "7       689.726318   971.151855  1069.430420\n",
              "8       709.139526  1034.522095  1082.764282\n",
              "9      1238.668701  1568.183472  1836.506104\n",
              "10     1138.421875  1417.894409  1575.982178\n",
              "11     1433.441895  1759.124390          NaN\n",
              "12     1449.057739  1774.082642          NaN"
            ]
          },
          "metadata": {
            "tags": []
          },
          "execution_count": 37
        }
      ]
    },
    {
      "cell_type": "code",
      "metadata": {
        "colab": {
          "base_uri": "https://localhost:8080/",
          "height": 481
        },
        "id": "ZJ4uI4cbK827",
        "outputId": "d46f7de0-0c6b-4383-be3c-ce2066ba2d80"
      },
      "source": [
        "f, axes = plt.subplots(2, 1, figsize=(22,10))\n",
        "month_pivot.plot(kind='bar', rot=0, ax=axes[0]).set_title('Monthly sale')                                       \n",
        "revenue_pivot.plot(kind='bar', rot=0, ax=axes[1]).set_title('Monthly revenue') "
      ],
      "execution_count": 38,
      "outputs": [
        {
          "output_type": "execute_result",
          "data": {
            "text/plain": [
              "Text(0.5, 1.0, 'Monthly revenue')"
            ]
          },
          "metadata": {
            "tags": []
          },
          "execution_count": 38
        },
        {
          "output_type": "display_data",
          "data": {
            "image/png": "[encoded data removed]",
            "text/plain": [
              "<Figure size 1584x720 with 2 Axes>"
            ]
          },
          "metadata": {
            "tags": [],
            "needs_background": "light"
          }
        }
      ]
    },
    {
      "cell_type": "code",
      "metadata": {
        "colab": {
          "base_uri": "https://localhost:8080/",
          "height": 419
        },
        "id": "vo23_CzrK829",
        "outputId": "05f9c2da-4d9c-44e0-931d-f5ef0af8f5d7"
      },
      "source": [
        "transactions"
      ],
      "execution_count": 40,
      "outputs": [
        {
          "output_type": "execute_result",
          "data": {
            "text/html": [
              "<div>\n",
              "<style scoped>\n",
              "    .dataframe tbody tr th:only-of-type {\n",
              "        vertical-align: middle;\n",
              "    }\n",
              "\n",
              "    .dataframe tbody tr th {\n",
              "        vertical-align: top;\n",
              "    }\n",
              "\n",
              "    .dataframe thead th {\n",
              "        text-align: right;\n",
              "    }\n",
              "</style>\n",
              "<table border=\"1\" class=\"dataframe\">\n",
              "  <thead>\n",
              "    <tr style=\"text-align: right;\">\n",
              "      <th></th>\n",
              "      <th>date</th>\n",
              "      <th>date_block_num</th>\n",
              "      <th>shop_id</th>\n",
              "      <th>item_id</th>\n",
              "      <th>item_price</th>\n",
              "      <th>item_cnt_day</th>\n",
              "    </tr>\n",
              "  </thead>\n",
              "  <tbody>\n",
              "    <tr>\n",
              "      <th>0</th>\n",
              "      <td>02.01.2013</td>\n",
              "      <td>0</td>\n",
              "      <td>59</td>\n",
              "      <td>22154</td>\n",
              "      <td>999.000000</td>\n",
              "      <td>1</td>\n",
              "    </tr>\n",
              "    <tr>\n",
              "      <th>1</th>\n",
              "      <td>03.01.2013</td>\n",
              "      <td>0</td>\n",
              "      <td>25</td>\n",
              "      <td>2552</td>\n",
              "      <td>899.000000</td>\n",
              "      <td>1</td>\n",
              "    </tr>\n",
              "    <tr>\n",
              "      <th>2</th>\n",
              "      <td>05.01.2013</td>\n",
              "      <td>0</td>\n",
              "      <td>25</td>\n",
              "      <td>2552</td>\n",
              "      <td>899.000000</td>\n",
              "      <td>-1</td>\n",
              "    </tr>\n",
              "    <tr>\n",
              "      <th>3</th>\n",
              "      <td>06.01.2013</td>\n",
              "      <td>0</td>\n",
              "      <td>25</td>\n",
              "      <td>2554</td>\n",
              "      <td>1709.050049</td>\n",
              "      <td>1</td>\n",
              "    </tr>\n",
              "    <tr>\n",
              "      <th>4</th>\n",
              "      <td>15.01.2013</td>\n",
              "      <td>0</td>\n",
              "      <td>25</td>\n",
              "      <td>2555</td>\n",
              "      <td>1099.000000</td>\n",
              "      <td>1</td>\n",
              "    </tr>\n",
              "    <tr>\n",
              "      <th>...</th>\n",
              "      <td>...</td>\n",
              "      <td>...</td>\n",
              "      <td>...</td>\n",
              "      <td>...</td>\n",
              "      <td>...</td>\n",
              "      <td>...</td>\n",
              "    </tr>\n",
              "    <tr>\n",
              "      <th>2935844</th>\n",
              "      <td>10.10.2015</td>\n",
              "      <td>33</td>\n",
              "      <td>25</td>\n",
              "      <td>7409</td>\n",
              "      <td>299.000000</td>\n",
              "      <td>1</td>\n",
              "    </tr>\n",
              "    <tr>\n",
              "      <th>2935845</th>\n",
              "      <td>09.10.2015</td>\n",
              "      <td>33</td>\n",
              "      <td>25</td>\n",
              "      <td>7460</td>\n",
              "      <td>299.000000</td>\n",
              "      <td>1</td>\n",
              "    </tr>\n",
              "    <tr>\n",
              "      <th>2935846</th>\n",
              "      <td>14.10.2015</td>\n",
              "      <td>33</td>\n",
              "      <td>25</td>\n",
              "      <td>7459</td>\n",
              "      <td>349.000000</td>\n",
              "      <td>1</td>\n",
              "    </tr>\n",
              "    <tr>\n",
              "      <th>2935847</th>\n",
              "      <td>22.10.2015</td>\n",
              "      <td>33</td>\n",
              "      <td>25</td>\n",
              "      <td>7440</td>\n",
              "      <td>299.000000</td>\n",
              "      <td>1</td>\n",
              "    </tr>\n",
              "    <tr>\n",
              "      <th>2935848</th>\n",
              "      <td>03.10.2015</td>\n",
              "      <td>33</td>\n",
              "      <td>25</td>\n",
              "      <td>7460</td>\n",
              "      <td>299.000000</td>\n",
              "      <td>1</td>\n",
              "    </tr>\n",
              "  </tbody>\n",
              "</table>\n",
              "<p>2935849 rows × 6 columns</p>\n",
              "</div>"
            ],
            "text/plain": [
              "               date  date_block_num  ...   item_price  item_cnt_day\n",
              "0        02.01.2013               0  ...   999.000000             1\n",
              "1        03.01.2013               0  ...   899.000000             1\n",
              "2        05.01.2013               0  ...   899.000000            -1\n",
              "3        06.01.2013               0  ...  1709.050049             1\n",
              "4        15.01.2013               0  ...  1099.000000             1\n",
              "...             ...             ...  ...          ...           ...\n",
              "2935844  10.10.2015              33  ...   299.000000             1\n",
              "2935845  09.10.2015              33  ...   299.000000             1\n",
              "2935846  14.10.2015              33  ...   349.000000             1\n",
              "2935847  22.10.2015              33  ...   299.000000             1\n",
              "2935848  03.10.2015              33  ...   299.000000             1\n",
              "\n",
              "[2935849 rows x 6 columns]"
            ]
          },
          "metadata": {
            "tags": []
          },
          "execution_count": 40
        }
      ]
    },
    {
      "cell_type": "code",
      "metadata": {
        "colab": {
          "base_uri": "https://localhost:8080/"
        },
        "id": "7XCq-BMGK82-",
        "outputId": "1d2116cf-4309-4927-db61-402559b8024c"
      },
      "source": [
        "transactions.loc[transactions['shop_id'] == 1]['item_id'].value_counts()"
      ],
      "execution_count": 41,
      "outputs": [
        {
          "output_type": "execute_result",
          "data": {
            "text/plain": [
              "14447    27\n",
              "2931     25\n",
              "4332     22\n",
              "19811    21\n",
              "2929     21\n",
              "         ..\n",
              "9031      1\n",
              "7670      1\n",
              "18634     1\n",
              "1533      1\n",
              "18495     1\n",
              "Name: item_id, Length: 2523, dtype: int64"
            ]
          },
          "metadata": {
            "tags": []
          },
          "execution_count": 41
        }
      ]
    },
    {
      "cell_type": "code",
      "metadata": {
        "colab": {
          "base_uri": "https://localhost:8080/"
        },
        "id": "P-Z92kqYK82-",
        "outputId": "e83371ca-3c97-423d-d72b-c0e7271c7070"
      },
      "source": [
        "transactions.loc[transactions['shop_id'] == 58]['item_id'].value_counts()"
      ],
      "execution_count": 42,
      "outputs": [
        {
          "output_type": "execute_result",
          "data": {
            "text/plain": [
              "20949    667\n",
              "4870     338\n",
              "12134    259\n",
              "3077     251\n",
              "4244     223\n",
              "        ... \n",
              "16505      1\n",
              "18552      1\n",
              "18488      1\n",
              "8245       1\n",
              "12379      1\n",
              "Name: item_id, Length: 8393, dtype: int64"
            ]
          },
          "metadata": {
            "tags": []
          },
          "execution_count": 42
        }
      ]
    },
    {
      "cell_type": "code",
      "metadata": {
        "colab": {
          "base_uri": "https://localhost:8080/"
        },
        "id": "WcSXs1xcK82_",
        "outputId": "38411ad9-cd62-4699-beac-22f623f7ae63"
      },
      "source": [
        "print(shops['shop_name'][0], '||', shops['shop_name'][57])\n",
        "print(shops['shop_name'][1], '||', shops['shop_name'][58])\n",
        "print(shops['shop_name'][10], '||', shops['shop_name'][11])\n",
        "print(shops['shop_name'][39], '||', shops['shop_name'][40])"
      ],
      "execution_count": 43,
      "outputs": [
        {
          "output_type": "stream",
          "text": [
            "!Якутск Орджоникидзе, 56 фран || Якутск Орджоникидзе, 56\n",
            "!Якутск ТЦ \"Центральный\" фран || Якутск ТЦ \"Центральный\"\n",
            "Жуковский ул. Чкалова 39м? || Жуковский ул. Чкалова 39м²\n",
            "РостовНаДону ТРК \"Мегацентр Горизонт\" || РостовНаДону ТРК \"Мегацентр Горизонт\" Островной\n"
          ],
          "name": "stdout"
        }
      ]
    },
    {
      "cell_type": "code",
      "metadata": {
        "id": "ZgeLn2Q1K82_"
      },
      "source": [
        "#  Modify shop_id in sales_train data\n",
        "transactions.loc[transactions['shop_id'] == 0, 'shop_id'] = 57\n",
        "transactions.loc[transactions['shop_id'] == 1, 'shop_id'] = 58\n",
        "transactions.loc[transactions['shop_id'] == 10, 'shop_id'] = 11\n",
        "transactions.loc[transactions['shop_id'] == 39, 'shop_id'] = 40\n",
        "\n",
        "#  Modify shop_id in test data\n",
        "test.loc[test['shop_id'] == 0, 'shop_id'] = 57\n",
        "test.loc[test['shop_id'] == 1, 'shop_id'] = 58\n",
        "test.loc[test['shop_id'] == 10, 'shop_id'] = 11\n",
        "test.loc[test['shop_id'] == 39, 'shop_id'] = 40"
      ],
      "execution_count": 44,
      "outputs": []
    },
    {
      "cell_type": "code",
      "metadata": {
        "id": "7GuIqwWYK83A"
      },
      "source": [
        "# Leaking to imporve performance\n",
        "unique_test_shop_id = test['shop_id'].unique()\n",
        "transactions = transactions[transactions['shop_id'].isin(unique_test_shop_id)]"
      ],
      "execution_count": 45,
      "outputs": []
    },
    {
      "cell_type": "code",
      "metadata": {
        "colab": {
          "base_uri": "https://localhost:8080/"
        },
        "id": "BVpN45OrK83A",
        "outputId": "30b8f8d1-5844-4524-ad27-2c4ea2c3a873"
      },
      "source": [
        "unique_test_shop_id"
      ],
      "execution_count": 46,
      "outputs": [
        {
          "output_type": "execute_result",
          "data": {
            "text/plain": [
              "array([ 5,  4,  6,  3,  2,  7, 11, 12, 28, 31, 26, 25, 22, 24, 21, 15, 16,\n",
              "       18, 14, 19, 42, 50, 49, 53, 52, 47, 48, 57, 58, 59, 55, 56, 36, 37,\n",
              "       35, 38, 34, 46, 41, 44, 40, 45], dtype=int8)"
            ]
          },
          "metadata": {
            "tags": []
          },
          "execution_count": 46
        }
      ]
    },
    {
      "cell_type": "code",
      "metadata": {
        "colab": {
          "base_uri": "https://localhost:8080/",
          "height": 419
        },
        "id": "OUglckBfK83B",
        "outputId": "6a7872c0-a9bb-4bd5-ab83-d6ba6741ff95"
      },
      "source": [
        "transactions"
      ],
      "execution_count": 47,
      "outputs": [
        {
          "output_type": "execute_result",
          "data": {
            "text/html": [
              "<div>\n",
              "<style scoped>\n",
              "    .dataframe tbody tr th:only-of-type {\n",
              "        vertical-align: middle;\n",
              "    }\n",
              "\n",
              "    .dataframe tbody tr th {\n",
              "        vertical-align: top;\n",
              "    }\n",
              "\n",
              "    .dataframe thead th {\n",
              "        text-align: right;\n",
              "    }\n",
              "</style>\n",
              "<table border=\"1\" class=\"dataframe\">\n",
              "  <thead>\n",
              "    <tr style=\"text-align: right;\">\n",
              "      <th></th>\n",
              "      <th>date</th>\n",
              "      <th>date_block_num</th>\n",
              "      <th>shop_id</th>\n",
              "      <th>item_id</th>\n",
              "      <th>item_price</th>\n",
              "      <th>item_cnt_day</th>\n",
              "    </tr>\n",
              "  </thead>\n",
              "  <tbody>\n",
              "    <tr>\n",
              "      <th>0</th>\n",
              "      <td>02.01.2013</td>\n",
              "      <td>0</td>\n",
              "      <td>59</td>\n",
              "      <td>22154</td>\n",
              "      <td>999.000000</td>\n",
              "      <td>1</td>\n",
              "    </tr>\n",
              "    <tr>\n",
              "      <th>1</th>\n",
              "      <td>03.01.2013</td>\n",
              "      <td>0</td>\n",
              "      <td>25</td>\n",
              "      <td>2552</td>\n",
              "      <td>899.000000</td>\n",
              "      <td>1</td>\n",
              "    </tr>\n",
              "    <tr>\n",
              "      <th>2</th>\n",
              "      <td>05.01.2013</td>\n",
              "      <td>0</td>\n",
              "      <td>25</td>\n",
              "      <td>2552</td>\n",
              "      <td>899.000000</td>\n",
              "      <td>-1</td>\n",
              "    </tr>\n",
              "    <tr>\n",
              "      <th>3</th>\n",
              "      <td>06.01.2013</td>\n",
              "      <td>0</td>\n",
              "      <td>25</td>\n",
              "      <td>2554</td>\n",
              "      <td>1709.050049</td>\n",
              "      <td>1</td>\n",
              "    </tr>\n",
              "    <tr>\n",
              "      <th>4</th>\n",
              "      <td>15.01.2013</td>\n",
              "      <td>0</td>\n",
              "      <td>25</td>\n",
              "      <td>2555</td>\n",
              "      <td>1099.000000</td>\n",
              "      <td>1</td>\n",
              "    </tr>\n",
              "    <tr>\n",
              "      <th>...</th>\n",
              "      <td>...</td>\n",
              "      <td>...</td>\n",
              "      <td>...</td>\n",
              "      <td>...</td>\n",
              "      <td>...</td>\n",
              "      <td>...</td>\n",
              "    </tr>\n",
              "    <tr>\n",
              "      <th>2935844</th>\n",
              "      <td>10.10.2015</td>\n",
              "      <td>33</td>\n",
              "      <td>25</td>\n",
              "      <td>7409</td>\n",
              "      <td>299.000000</td>\n",
              "      <td>1</td>\n",
              "    </tr>\n",
              "    <tr>\n",
              "      <th>2935845</th>\n",
              "      <td>09.10.2015</td>\n",
              "      <td>33</td>\n",
              "      <td>25</td>\n",
              "      <td>7460</td>\n",
              "      <td>299.000000</td>\n",
              "      <td>1</td>\n",
              "    </tr>\n",
              "    <tr>\n",
              "      <th>2935846</th>\n",
              "      <td>14.10.2015</td>\n",
              "      <td>33</td>\n",
              "      <td>25</td>\n",
              "      <td>7459</td>\n",
              "      <td>349.000000</td>\n",
              "      <td>1</td>\n",
              "    </tr>\n",
              "    <tr>\n",
              "      <th>2935847</th>\n",
              "      <td>22.10.2015</td>\n",
              "      <td>33</td>\n",
              "      <td>25</td>\n",
              "      <td>7440</td>\n",
              "      <td>299.000000</td>\n",
              "      <td>1</td>\n",
              "    </tr>\n",
              "    <tr>\n",
              "      <th>2935848</th>\n",
              "      <td>03.10.2015</td>\n",
              "      <td>33</td>\n",
              "      <td>25</td>\n",
              "      <td>7460</td>\n",
              "      <td>299.000000</td>\n",
              "      <td>1</td>\n",
              "    </tr>\n",
              "  </tbody>\n",
              "</table>\n",
              "<p>2433537 rows × 6 columns</p>\n",
              "</div>"
            ],
            "text/plain": [
              "               date  date_block_num  ...   item_price  item_cnt_day\n",
              "0        02.01.2013               0  ...   999.000000             1\n",
              "1        03.01.2013               0  ...   899.000000             1\n",
              "2        05.01.2013               0  ...   899.000000            -1\n",
              "3        06.01.2013               0  ...  1709.050049             1\n",
              "4        15.01.2013               0  ...  1099.000000             1\n",
              "...             ...             ...  ...          ...           ...\n",
              "2935844  10.10.2015              33  ...   299.000000             1\n",
              "2935845  09.10.2015              33  ...   299.000000             1\n",
              "2935846  14.10.2015              33  ...   349.000000             1\n",
              "2935847  22.10.2015              33  ...   299.000000             1\n",
              "2935848  03.10.2015              33  ...   299.000000             1\n",
              "\n",
              "[2433537 rows x 6 columns]"
            ]
          },
          "metadata": {
            "tags": []
          },
          "execution_count": 47
        }
      ]
    },
    {
      "cell_type": "code",
      "metadata": {
        "colab": {
          "base_uri": "https://localhost:8080/",
          "height": 204
        },
        "id": "iw7a6n-dK83B",
        "outputId": "a07391eb-57c0-4d78-acd8-26cb75c2eac3"
      },
      "source": [
        "shops.head()"
      ],
      "execution_count": 48,
      "outputs": [
        {
          "output_type": "execute_result",
          "data": {
            "text/html": [
              "<div>\n",
              "<style scoped>\n",
              "    .dataframe tbody tr th:only-of-type {\n",
              "        vertical-align: middle;\n",
              "    }\n",
              "\n",
              "    .dataframe tbody tr th {\n",
              "        vertical-align: top;\n",
              "    }\n",
              "\n",
              "    .dataframe thead th {\n",
              "        text-align: right;\n",
              "    }\n",
              "</style>\n",
              "<table border=\"1\" class=\"dataframe\">\n",
              "  <thead>\n",
              "    <tr style=\"text-align: right;\">\n",
              "      <th></th>\n",
              "      <th>shop_name</th>\n",
              "      <th>shop_id</th>\n",
              "    </tr>\n",
              "  </thead>\n",
              "  <tbody>\n",
              "    <tr>\n",
              "      <th>0</th>\n",
              "      <td>!Якутск Орджоникидзе, 56 фран</td>\n",
              "      <td>0</td>\n",
              "    </tr>\n",
              "    <tr>\n",
              "      <th>1</th>\n",
              "      <td>!Якутск ТЦ \"Центральный\" фран</td>\n",
              "      <td>1</td>\n",
              "    </tr>\n",
              "    <tr>\n",
              "      <th>2</th>\n",
              "      <td>Адыгея ТЦ \"Мега\"</td>\n",
              "      <td>2</td>\n",
              "    </tr>\n",
              "    <tr>\n",
              "      <th>3</th>\n",
              "      <td>Балашиха ТРК \"Октябрь-Киномир\"</td>\n",
              "      <td>3</td>\n",
              "    </tr>\n",
              "    <tr>\n",
              "      <th>4</th>\n",
              "      <td>Волжский ТЦ \"Волга Молл\"</td>\n",
              "      <td>4</td>\n",
              "    </tr>\n",
              "  </tbody>\n",
              "</table>\n",
              "</div>"
            ],
            "text/plain": [
              "                        shop_name  shop_id\n",
              "0   !Якутск Орджоникидзе, 56 фран        0\n",
              "1   !Якутск ТЦ \"Центральный\" фран        1\n",
              "2                Адыгея ТЦ \"Мега\"        2\n",
              "3  Балашиха ТРК \"Октябрь-Киномир\"        3\n",
              "4        Волжский ТЦ \"Волга Молл\"        4"
            ]
          },
          "metadata": {
            "tags": []
          },
          "execution_count": 48
        }
      ]
    },
    {
      "cell_type": "code",
      "metadata": {
        "id": "oEshWLX-K83B"
      },
      "source": [
        "shops['city'] = shops['shop_name'].apply(lambda x: x.split()[0])"
      ],
      "execution_count": 49,
      "outputs": []
    },
    {
      "cell_type": "code",
      "metadata": {
        "colab": {
          "base_uri": "https://localhost:8080/",
          "height": 204
        },
        "id": "AMOaPAspK83C",
        "outputId": "761c3bbc-ea1e-4e56-970a-a8fd81a49b03"
      },
      "source": [
        "shops.head()"
      ],
      "execution_count": 50,
      "outputs": [
        {
          "output_type": "execute_result",
          "data": {
            "text/html": [
              "<div>\n",
              "<style scoped>\n",
              "    .dataframe tbody tr th:only-of-type {\n",
              "        vertical-align: middle;\n",
              "    }\n",
              "\n",
              "    .dataframe tbody tr th {\n",
              "        vertical-align: top;\n",
              "    }\n",
              "\n",
              "    .dataframe thead th {\n",
              "        text-align: right;\n",
              "    }\n",
              "</style>\n",
              "<table border=\"1\" class=\"dataframe\">\n",
              "  <thead>\n",
              "    <tr style=\"text-align: right;\">\n",
              "      <th></th>\n",
              "      <th>shop_name</th>\n",
              "      <th>shop_id</th>\n",
              "      <th>city</th>\n",
              "    </tr>\n",
              "  </thead>\n",
              "  <tbody>\n",
              "    <tr>\n",
              "      <th>0</th>\n",
              "      <td>!Якутск Орджоникидзе, 56 фран</td>\n",
              "      <td>0</td>\n",
              "      <td>!Якутск</td>\n",
              "    </tr>\n",
              "    <tr>\n",
              "      <th>1</th>\n",
              "      <td>!Якутск ТЦ \"Центральный\" фран</td>\n",
              "      <td>1</td>\n",
              "      <td>!Якутск</td>\n",
              "    </tr>\n",
              "    <tr>\n",
              "      <th>2</th>\n",
              "      <td>Адыгея ТЦ \"Мега\"</td>\n",
              "      <td>2</td>\n",
              "      <td>Адыгея</td>\n",
              "    </tr>\n",
              "    <tr>\n",
              "      <th>3</th>\n",
              "      <td>Балашиха ТРК \"Октябрь-Киномир\"</td>\n",
              "      <td>3</td>\n",
              "      <td>Балашиха</td>\n",
              "    </tr>\n",
              "    <tr>\n",
              "      <th>4</th>\n",
              "      <td>Волжский ТЦ \"Волга Молл\"</td>\n",
              "      <td>4</td>\n",
              "      <td>Волжский</td>\n",
              "    </tr>\n",
              "  </tbody>\n",
              "</table>\n",
              "</div>"
            ],
            "text/plain": [
              "                        shop_name  shop_id      city\n",
              "0   !Якутск Орджоникидзе, 56 фран        0   !Якутск\n",
              "1   !Якутск ТЦ \"Центральный\" фран        1   !Якутск\n",
              "2                Адыгея ТЦ \"Мега\"        2    Адыгея\n",
              "3  Балашиха ТРК \"Октябрь-Киномир\"        3  Балашиха\n",
              "4        Волжский ТЦ \"Волга Молл\"        4  Волжский"
            ]
          },
          "metadata": {
            "tags": []
          },
          "execution_count": 50
        }
      ]
    },
    {
      "cell_type": "code",
      "metadata": {
        "colab": {
          "base_uri": "https://localhost:8080/"
        },
        "id": "qz4qPkTYK83C",
        "outputId": "f53b498b-b972-4def-c467-66adeffd3fcf"
      },
      "source": [
        "shops['city'].unique()"
      ],
      "execution_count": 51,
      "outputs": [
        {
          "output_type": "execute_result",
          "data": {
            "text/plain": [
              "array(['!Якутск', 'Адыгея', 'Балашиха', 'Волжский', 'Вологда', 'Воронеж',\n",
              "       'Выездная', 'Жуковский', 'Интернет-магазин', 'Казань', 'Калуга',\n",
              "       'Коломна', 'Красноярск', 'Курск', 'Москва', 'Мытищи', 'Н.Новгород',\n",
              "       'Новосибирск', 'Омск', 'РостовНаДону', 'СПб', 'Самара', 'Сергиев',\n",
              "       'Сургут', 'Томск', 'Тюмень', 'Уфа', 'Химки', 'Цифровой', 'Чехов',\n",
              "       'Якутск', 'Ярославль'], dtype=object)"
            ]
          },
          "metadata": {
            "tags": []
          },
          "execution_count": 51
        }
      ]
    },
    {
      "cell_type": "code",
      "metadata": {
        "id": "Dk6EHRYjK83D"
      },
      "source": [
        "shops.loc[shops['city'] =='!Якутск', 'city'] = 'Якутск'"
      ],
      "execution_count": 52,
      "outputs": []
    },
    {
      "cell_type": "code",
      "metadata": {
        "id": "h0bd1BNuK83D"
      },
      "source": [
        "from sklearn.preprocessing import LabelEncoder\n",
        "\n",
        "# Create Label Encoder\n",
        "label_encoder = LabelEncoder()\n",
        "# City Feature Label Encoding \n",
        "shops['city'] = label_encoder.fit_transform(shops['city'])\n",
        "shops['city'] = pd.factorize(shops['city'])[0]"
      ],
      "execution_count": 53,
      "outputs": []
    },
    {
      "cell_type": "code",
      "metadata": {
        "colab": {
          "base_uri": "https://localhost:8080/",
          "height": 204
        },
        "id": "jpPM-oL8K83D",
        "outputId": "2d03559b-f6e8-4cff-bac7-3853d7c5f9eb"
      },
      "source": [
        "shops.head()"
      ],
      "execution_count": 54,
      "outputs": [
        {
          "output_type": "execute_result",
          "data": {
            "text/html": [
              "<div>\n",
              "<style scoped>\n",
              "    .dataframe tbody tr th:only-of-type {\n",
              "        vertical-align: middle;\n",
              "    }\n",
              "\n",
              "    .dataframe tbody tr th {\n",
              "        vertical-align: top;\n",
              "    }\n",
              "\n",
              "    .dataframe thead th {\n",
              "        text-align: right;\n",
              "    }\n",
              "</style>\n",
              "<table border=\"1\" class=\"dataframe\">\n",
              "  <thead>\n",
              "    <tr style=\"text-align: right;\">\n",
              "      <th></th>\n",
              "      <th>shop_name</th>\n",
              "      <th>shop_id</th>\n",
              "      <th>city</th>\n",
              "    </tr>\n",
              "  </thead>\n",
              "  <tbody>\n",
              "    <tr>\n",
              "      <th>0</th>\n",
              "      <td>!Якутск Орджоникидзе, 56 фран</td>\n",
              "      <td>0</td>\n",
              "      <td>0</td>\n",
              "    </tr>\n",
              "    <tr>\n",
              "      <th>1</th>\n",
              "      <td>!Якутск ТЦ \"Центральный\" фран</td>\n",
              "      <td>1</td>\n",
              "      <td>0</td>\n",
              "    </tr>\n",
              "    <tr>\n",
              "      <th>2</th>\n",
              "      <td>Адыгея ТЦ \"Мега\"</td>\n",
              "      <td>2</td>\n",
              "      <td>1</td>\n",
              "    </tr>\n",
              "    <tr>\n",
              "      <th>3</th>\n",
              "      <td>Балашиха ТРК \"Октябрь-Киномир\"</td>\n",
              "      <td>3</td>\n",
              "      <td>2</td>\n",
              "    </tr>\n",
              "    <tr>\n",
              "      <th>4</th>\n",
              "      <td>Волжский ТЦ \"Волга Молл\"</td>\n",
              "      <td>4</td>\n",
              "      <td>3</td>\n",
              "    </tr>\n",
              "  </tbody>\n",
              "</table>\n",
              "</div>"
            ],
            "text/plain": [
              "                        shop_name  shop_id  city\n",
              "0   !Якутск Орджоникидзе, 56 фран        0     0\n",
              "1   !Якутск ТЦ \"Центральный\" фран        1     0\n",
              "2                Адыгея ТЦ \"Мега\"        2     1\n",
              "3  Балашиха ТРК \"Октябрь-Киномир\"        3     2\n",
              "4        Волжский ТЦ \"Волга Молл\"        4     3"
            ]
          },
          "metadata": {
            "tags": []
          },
          "execution_count": 54
        }
      ]
    },
    {
      "cell_type": "code",
      "metadata": {
        "colab": {
          "base_uri": "https://localhost:8080/",
          "height": 204
        },
        "id": "gHTnvlGAK83E",
        "outputId": "4b9af581-dba1-47fb-aef0-23be94f631f9"
      },
      "source": [
        "# Remove shop_name feature\n",
        "shops = shops.drop('shop_name', axis=1)\n",
        "\n",
        "shops.head()"
      ],
      "execution_count": 55,
      "outputs": [
        {
          "output_type": "execute_result",
          "data": {
            "text/html": [
              "<div>\n",
              "<style scoped>\n",
              "    .dataframe tbody tr th:only-of-type {\n",
              "        vertical-align: middle;\n",
              "    }\n",
              "\n",
              "    .dataframe tbody tr th {\n",
              "        vertical-align: top;\n",
              "    }\n",
              "\n",
              "    .dataframe thead th {\n",
              "        text-align: right;\n",
              "    }\n",
              "</style>\n",
              "<table border=\"1\" class=\"dataframe\">\n",
              "  <thead>\n",
              "    <tr style=\"text-align: right;\">\n",
              "      <th></th>\n",
              "      <th>shop_id</th>\n",
              "      <th>city</th>\n",
              "    </tr>\n",
              "  </thead>\n",
              "  <tbody>\n",
              "    <tr>\n",
              "      <th>0</th>\n",
              "      <td>0</td>\n",
              "      <td>0</td>\n",
              "    </tr>\n",
              "    <tr>\n",
              "      <th>1</th>\n",
              "      <td>1</td>\n",
              "      <td>0</td>\n",
              "    </tr>\n",
              "    <tr>\n",
              "      <th>2</th>\n",
              "      <td>2</td>\n",
              "      <td>1</td>\n",
              "    </tr>\n",
              "    <tr>\n",
              "      <th>3</th>\n",
              "      <td>3</td>\n",
              "      <td>2</td>\n",
              "    </tr>\n",
              "    <tr>\n",
              "      <th>4</th>\n",
              "      <td>4</td>\n",
              "      <td>3</td>\n",
              "    </tr>\n",
              "  </tbody>\n",
              "</table>\n",
              "</div>"
            ],
            "text/plain": [
              "   shop_id  city\n",
              "0        0     0\n",
              "1        1     0\n",
              "2        2     1\n",
              "3        3     2\n",
              "4        4     3"
            ]
          },
          "metadata": {
            "tags": []
          },
          "execution_count": 55
        }
      ]
    },
    {
      "cell_type": "code",
      "metadata": {
        "id": "HvfsoRtnK83E"
      },
      "source": [
        "# Remove item_name feature\n",
        "items = items.drop(['item_name'], axis=1)"
      ],
      "execution_count": 56,
      "outputs": []
    },
    {
      "cell_type": "code",
      "metadata": {
        "colab": {
          "base_uri": "https://localhost:8080/",
          "height": 419
        },
        "id": "gzQydhoHK83E",
        "outputId": "5f2afe30-3c02-46a8-d9b6-62fc77dcdbe0"
      },
      "source": [
        "items"
      ],
      "execution_count": 57,
      "outputs": [
        {
          "output_type": "execute_result",
          "data": {
            "text/html": [
              "<div>\n",
              "<style scoped>\n",
              "    .dataframe tbody tr th:only-of-type {\n",
              "        vertical-align: middle;\n",
              "    }\n",
              "\n",
              "    .dataframe tbody tr th {\n",
              "        vertical-align: top;\n",
              "    }\n",
              "\n",
              "    .dataframe thead th {\n",
              "        text-align: right;\n",
              "    }\n",
              "</style>\n",
              "<table border=\"1\" class=\"dataframe\">\n",
              "  <thead>\n",
              "    <tr style=\"text-align: right;\">\n",
              "      <th></th>\n",
              "      <th>item_id</th>\n",
              "      <th>item_category_id</th>\n",
              "    </tr>\n",
              "  </thead>\n",
              "  <tbody>\n",
              "    <tr>\n",
              "      <th>0</th>\n",
              "      <td>0</td>\n",
              "      <td>40</td>\n",
              "    </tr>\n",
              "    <tr>\n",
              "      <th>1</th>\n",
              "      <td>1</td>\n",
              "      <td>76</td>\n",
              "    </tr>\n",
              "    <tr>\n",
              "      <th>2</th>\n",
              "      <td>2</td>\n",
              "      <td>40</td>\n",
              "    </tr>\n",
              "    <tr>\n",
              "      <th>3</th>\n",
              "      <td>3</td>\n",
              "      <td>40</td>\n",
              "    </tr>\n",
              "    <tr>\n",
              "      <th>4</th>\n",
              "      <td>4</td>\n",
              "      <td>40</td>\n",
              "    </tr>\n",
              "    <tr>\n",
              "      <th>...</th>\n",
              "      <td>...</td>\n",
              "      <td>...</td>\n",
              "    </tr>\n",
              "    <tr>\n",
              "      <th>22165</th>\n",
              "      <td>22165</td>\n",
              "      <td>31</td>\n",
              "    </tr>\n",
              "    <tr>\n",
              "      <th>22166</th>\n",
              "      <td>22166</td>\n",
              "      <td>54</td>\n",
              "    </tr>\n",
              "    <tr>\n",
              "      <th>22167</th>\n",
              "      <td>22167</td>\n",
              "      <td>49</td>\n",
              "    </tr>\n",
              "    <tr>\n",
              "      <th>22168</th>\n",
              "      <td>22168</td>\n",
              "      <td>62</td>\n",
              "    </tr>\n",
              "    <tr>\n",
              "      <th>22169</th>\n",
              "      <td>22169</td>\n",
              "      <td>69</td>\n",
              "    </tr>\n",
              "  </tbody>\n",
              "</table>\n",
              "<p>22170 rows × 2 columns</p>\n",
              "</div>"
            ],
            "text/plain": [
              "       item_id  item_category_id\n",
              "0            0                40\n",
              "1            1                76\n",
              "2            2                40\n",
              "3            3                40\n",
              "4            4                40\n",
              "...        ...               ...\n",
              "22165    22165                31\n",
              "22166    22166                54\n",
              "22167    22167                49\n",
              "22168    22168                62\n",
              "22169    22169                69\n",
              "\n",
              "[22170 rows x 2 columns]"
            ]
          },
          "metadata": {
            "tags": []
          },
          "execution_count": 57
        }
      ]
    },
    {
      "cell_type": "code",
      "metadata": {
        "colab": {
          "base_uri": "https://localhost:8080/"
        },
        "id": "lWI4urdwK83F",
        "outputId": "8f4db2fd-04f5-4b29-b87f-835c3845d87f"
      },
      "source": [
        "transactions.groupby('item_id').agg({'date_block_num': 'min'})['date_block_num']"
      ],
      "execution_count": 58,
      "outputs": [
        {
          "output_type": "execute_result",
          "data": {
            "text/plain": [
              "item_id\n",
              "1        15\n",
              "16       20\n",
              "17       20\n",
              "18       19\n",
              "19        0\n",
              "         ..\n",
              "22165     7\n",
              "22166     9\n",
              "22167     8\n",
              "22168     0\n",
              "22169    14\n",
              "Name: date_block_num, Length: 21086, dtype: int8"
            ]
          },
          "metadata": {
            "tags": []
          },
          "execution_count": 58
        }
      ]
    },
    {
      "cell_type": "code",
      "metadata": {
        "colab": {
          "base_uri": "https://localhost:8080/",
          "height": 204
        },
        "id": "gLRSujGXK83F",
        "outputId": "fb3e23ed-19f5-4819-c9ad-79107d9ae3d4"
      },
      "source": [
        "# Create the date the product was first sold as a feature\n",
        "items['first_sale_date'] = transactions.groupby('item_id').agg({'date_block_num': 'min'})['date_block_num']\n",
        "\n",
        "items.head()"
      ],
      "execution_count": 59,
      "outputs": [
        {
          "output_type": "execute_result",
          "data": {
            "text/html": [
              "<div>\n",
              "<style scoped>\n",
              "    .dataframe tbody tr th:only-of-type {\n",
              "        vertical-align: middle;\n",
              "    }\n",
              "\n",
              "    .dataframe tbody tr th {\n",
              "        vertical-align: top;\n",
              "    }\n",
              "\n",
              "    .dataframe thead th {\n",
              "        text-align: right;\n",
              "    }\n",
              "</style>\n",
              "<table border=\"1\" class=\"dataframe\">\n",
              "  <thead>\n",
              "    <tr style=\"text-align: right;\">\n",
              "      <th></th>\n",
              "      <th>item_id</th>\n",
              "      <th>item_category_id</th>\n",
              "      <th>first_sale_date</th>\n",
              "    </tr>\n",
              "  </thead>\n",
              "  <tbody>\n",
              "    <tr>\n",
              "      <th>0</th>\n",
              "      <td>0</td>\n",
              "      <td>40</td>\n",
              "      <td>NaN</td>\n",
              "    </tr>\n",
              "    <tr>\n",
              "      <th>1</th>\n",
              "      <td>1</td>\n",
              "      <td>76</td>\n",
              "      <td>15.0</td>\n",
              "    </tr>\n",
              "    <tr>\n",
              "      <th>2</th>\n",
              "      <td>2</td>\n",
              "      <td>40</td>\n",
              "      <td>NaN</td>\n",
              "    </tr>\n",
              "    <tr>\n",
              "      <th>3</th>\n",
              "      <td>3</td>\n",
              "      <td>40</td>\n",
              "      <td>NaN</td>\n",
              "    </tr>\n",
              "    <tr>\n",
              "      <th>4</th>\n",
              "      <td>4</td>\n",
              "      <td>40</td>\n",
              "      <td>NaN</td>\n",
              "    </tr>\n",
              "  </tbody>\n",
              "</table>\n",
              "</div>"
            ],
            "text/plain": [
              "   item_id  item_category_id  first_sale_date\n",
              "0        0                40              NaN\n",
              "1        1                76             15.0\n",
              "2        2                40              NaN\n",
              "3        3                40              NaN\n",
              "4        4                40              NaN"
            ]
          },
          "metadata": {
            "tags": []
          },
          "execution_count": 59
        }
      ]
    },
    {
      "cell_type": "code",
      "metadata": {
        "colab": {
          "base_uri": "https://localhost:8080/",
          "height": 419
        },
        "id": "FgMF8I0kK83F",
        "outputId": "4e2e0d0b-5796-43c1-a8c8-2ea8397e0e18"
      },
      "source": [
        "items[items['first_sale_date'].isna()]"
      ],
      "execution_count": 60,
      "outputs": [
        {
          "output_type": "execute_result",
          "data": {
            "text/html": [
              "<div>\n",
              "<style scoped>\n",
              "    .dataframe tbody tr th:only-of-type {\n",
              "        vertical-align: middle;\n",
              "    }\n",
              "\n",
              "    .dataframe tbody tr th {\n",
              "        vertical-align: top;\n",
              "    }\n",
              "\n",
              "    .dataframe thead th {\n",
              "        text-align: right;\n",
              "    }\n",
              "</style>\n",
              "<table border=\"1\" class=\"dataframe\">\n",
              "  <thead>\n",
              "    <tr style=\"text-align: right;\">\n",
              "      <th></th>\n",
              "      <th>item_id</th>\n",
              "      <th>item_category_id</th>\n",
              "      <th>first_sale_date</th>\n",
              "    </tr>\n",
              "  </thead>\n",
              "  <tbody>\n",
              "    <tr>\n",
              "      <th>0</th>\n",
              "      <td>0</td>\n",
              "      <td>40</td>\n",
              "      <td>NaN</td>\n",
              "    </tr>\n",
              "    <tr>\n",
              "      <th>2</th>\n",
              "      <td>2</td>\n",
              "      <td>40</td>\n",
              "      <td>NaN</td>\n",
              "    </tr>\n",
              "    <tr>\n",
              "      <th>3</th>\n",
              "      <td>3</td>\n",
              "      <td>40</td>\n",
              "      <td>NaN</td>\n",
              "    </tr>\n",
              "    <tr>\n",
              "      <th>4</th>\n",
              "      <td>4</td>\n",
              "      <td>40</td>\n",
              "      <td>NaN</td>\n",
              "    </tr>\n",
              "    <tr>\n",
              "      <th>5</th>\n",
              "      <td>5</td>\n",
              "      <td>40</td>\n",
              "      <td>NaN</td>\n",
              "    </tr>\n",
              "    <tr>\n",
              "      <th>...</th>\n",
              "      <td>...</td>\n",
              "      <td>...</td>\n",
              "      <td>...</td>\n",
              "    </tr>\n",
              "    <tr>\n",
              "      <th>21975</th>\n",
              "      <td>21975</td>\n",
              "      <td>61</td>\n",
              "      <td>NaN</td>\n",
              "    </tr>\n",
              "    <tr>\n",
              "      <th>22022</th>\n",
              "      <td>22022</td>\n",
              "      <td>40</td>\n",
              "      <td>NaN</td>\n",
              "    </tr>\n",
              "    <tr>\n",
              "      <th>22028</th>\n",
              "      <td>22028</td>\n",
              "      <td>40</td>\n",
              "      <td>NaN</td>\n",
              "    </tr>\n",
              "    <tr>\n",
              "      <th>22035</th>\n",
              "      <td>22035</td>\n",
              "      <td>40</td>\n",
              "      <td>NaN</td>\n",
              "    </tr>\n",
              "    <tr>\n",
              "      <th>22137</th>\n",
              "      <td>22137</td>\n",
              "      <td>40</td>\n",
              "      <td>NaN</td>\n",
              "    </tr>\n",
              "  </tbody>\n",
              "</table>\n",
              "<p>1084 rows × 3 columns</p>\n",
              "</div>"
            ],
            "text/plain": [
              "       item_id  item_category_id  first_sale_date\n",
              "0            0                40              NaN\n",
              "2            2                40              NaN\n",
              "3            3                40              NaN\n",
              "4            4                40              NaN\n",
              "5            5                40              NaN\n",
              "...        ...               ...              ...\n",
              "21975    21975                61              NaN\n",
              "22022    22022                40              NaN\n",
              "22028    22028                40              NaN\n",
              "22035    22035                40              NaN\n",
              "22137    22137                40              NaN\n",
              "\n",
              "[1084 rows x 3 columns]"
            ]
          },
          "metadata": {
            "tags": []
          },
          "execution_count": 60
        }
      ]
    },
    {
      "cell_type": "code",
      "metadata": {
        "colab": {
          "base_uri": "https://localhost:8080/"
        },
        "id": "Vznx9J54K83G",
        "outputId": "00c89667-1907-497f-f1f0-4d57913679b9"
      },
      "source": [
        "transactions.date_block_num.max()"
      ],
      "execution_count": 61,
      "outputs": [
        {
          "output_type": "execute_result",
          "data": {
            "text/plain": [
              "33"
            ]
          },
          "metadata": {
            "tags": []
          },
          "execution_count": 61
        }
      ]
    },
    {
      "cell_type": "code",
      "metadata": {
        "id": "OUIU4CVbK83G"
      },
      "source": [
        "# Replace NaN of first_sale_date with 34\n",
        "items['first_sale_date'] = items['first_sale_date'].fillna(-1)"
      ],
      "execution_count": 62,
      "outputs": []
    },
    {
      "cell_type": "code",
      "metadata": {
        "id": "m27xOjZBK83G"
      },
      "source": [
        ""
      ],
      "execution_count": 62,
      "outputs": []
    },
    {
      "cell_type": "code",
      "metadata": {
        "colab": {
          "base_uri": "https://localhost:8080/",
          "height": 419
        },
        "id": "g4m9Gg9SK83G",
        "outputId": "5f39c887-048c-43c2-a7aa-93aa44d3993d"
      },
      "source": [
        "categories"
      ],
      "execution_count": 63,
      "outputs": [
        {
          "output_type": "execute_result",
          "data": {
            "text/html": [
              "<div>\n",
              "<style scoped>\n",
              "    .dataframe tbody tr th:only-of-type {\n",
              "        vertical-align: middle;\n",
              "    }\n",
              "\n",
              "    .dataframe tbody tr th {\n",
              "        vertical-align: top;\n",
              "    }\n",
              "\n",
              "    .dataframe thead th {\n",
              "        text-align: right;\n",
              "    }\n",
              "</style>\n",
              "<table border=\"1\" class=\"dataframe\">\n",
              "  <thead>\n",
              "    <tr style=\"text-align: right;\">\n",
              "      <th></th>\n",
              "      <th>item_category_name</th>\n",
              "      <th>item_category_id</th>\n",
              "    </tr>\n",
              "  </thead>\n",
              "  <tbody>\n",
              "    <tr>\n",
              "      <th>0</th>\n",
              "      <td>PC - Гарнитуры/Наушники</td>\n",
              "      <td>0</td>\n",
              "    </tr>\n",
              "    <tr>\n",
              "      <th>1</th>\n",
              "      <td>Аксессуары - PS2</td>\n",
              "      <td>1</td>\n",
              "    </tr>\n",
              "    <tr>\n",
              "      <th>2</th>\n",
              "      <td>Аксессуары - PS3</td>\n",
              "      <td>2</td>\n",
              "    </tr>\n",
              "    <tr>\n",
              "      <th>3</th>\n",
              "      <td>Аксессуары - PS4</td>\n",
              "      <td>3</td>\n",
              "    </tr>\n",
              "    <tr>\n",
              "      <th>4</th>\n",
              "      <td>Аксессуары - PSP</td>\n",
              "      <td>4</td>\n",
              "    </tr>\n",
              "    <tr>\n",
              "      <th>...</th>\n",
              "      <td>...</td>\n",
              "      <td>...</td>\n",
              "    </tr>\n",
              "    <tr>\n",
              "      <th>79</th>\n",
              "      <td>Служебные</td>\n",
              "      <td>79</td>\n",
              "    </tr>\n",
              "    <tr>\n",
              "      <th>80</th>\n",
              "      <td>Служебные - Билеты</td>\n",
              "      <td>80</td>\n",
              "    </tr>\n",
              "    <tr>\n",
              "      <th>81</th>\n",
              "      <td>Чистые носители (шпиль)</td>\n",
              "      <td>81</td>\n",
              "    </tr>\n",
              "    <tr>\n",
              "      <th>82</th>\n",
              "      <td>Чистые носители (штучные)</td>\n",
              "      <td>82</td>\n",
              "    </tr>\n",
              "    <tr>\n",
              "      <th>83</th>\n",
              "      <td>Элементы питания</td>\n",
              "      <td>83</td>\n",
              "    </tr>\n",
              "  </tbody>\n",
              "</table>\n",
              "<p>84 rows × 2 columns</p>\n",
              "</div>"
            ],
            "text/plain": [
              "           item_category_name  item_category_id\n",
              "0     PC - Гарнитуры/Наушники                 0\n",
              "1            Аксессуары - PS2                 1\n",
              "2            Аксессуары - PS3                 2\n",
              "3            Аксессуары - PS4                 3\n",
              "4            Аксессуары - PSP                 4\n",
              "..                        ...               ...\n",
              "79                  Служебные                79\n",
              "80         Служебные - Билеты                80\n",
              "81    Чистые носители (шпиль)                81\n",
              "82  Чистые носители (штучные)                82\n",
              "83           Элементы питания                83\n",
              "\n",
              "[84 rows x 2 columns]"
            ]
          },
          "metadata": {
            "tags": []
          },
          "execution_count": 63
        }
      ]
    },
    {
      "cell_type": "code",
      "metadata": {
        "id": "VlJ6SsidK83H"
      },
      "source": [
        "# Extract the first word of the item_categories_name into category\n",
        "categories['category'] = categories['item_category_name'].apply(lambda x: x.split()[0])  "
      ],
      "execution_count": 64,
      "outputs": []
    },
    {
      "cell_type": "code",
      "metadata": {
        "colab": {
          "base_uri": "https://localhost:8080/"
        },
        "id": "e3mzYyX3K83H",
        "outputId": "6b67e907-f824-4eb1-cfce-03e5f8811dd2"
      },
      "source": [
        "categories['category'].value_counts()"
      ],
      "execution_count": 65,
      "outputs": [
        {
          "output_type": "execute_result",
          "data": {
            "text/plain": [
              "Игры          14\n",
              "Книги         13\n",
              "Подарки       12\n",
              "Игровые        8\n",
              "Аксессуары     7\n",
              "Музыка         6\n",
              "Программы      6\n",
              "Карты          5\n",
              "Кино           5\n",
              "Чистые         2\n",
              "Служебные      2\n",
              "Элементы       1\n",
              "Доставка       1\n",
              "PC             1\n",
              "Билеты         1\n",
              "Name: category, dtype: int64"
            ]
          },
          "metadata": {
            "tags": []
          },
          "execution_count": 65
        }
      ]
    },
    {
      "cell_type": "code",
      "metadata": {
        "id": "049E6pdqK83I"
      },
      "source": [
        "def make_etc(x):\n",
        "    if len(categories[categories['category']==x]) >= 5:\n",
        "        return x\n",
        "    else:\n",
        "        return 'etc'\n",
        "\n",
        "# Replace with 'etc' if category count is less than 5\n",
        "categories['category'] = categories['category'].apply(make_etc)"
      ],
      "execution_count": 66,
      "outputs": []
    },
    {
      "cell_type": "code",
      "metadata": {
        "colab": {
          "base_uri": "https://localhost:8080/",
          "height": 204
        },
        "id": "SYKv0G5sK83I",
        "outputId": "44a5c982-9c3b-4164-9412-e5153171a664"
      },
      "source": [
        "categories.head()"
      ],
      "execution_count": 67,
      "outputs": [
        {
          "output_type": "execute_result",
          "data": {
            "text/html": [
              "<div>\n",
              "<style scoped>\n",
              "    .dataframe tbody tr th:only-of-type {\n",
              "        vertical-align: middle;\n",
              "    }\n",
              "\n",
              "    .dataframe tbody tr th {\n",
              "        vertical-align: top;\n",
              "    }\n",
              "\n",
              "    .dataframe thead th {\n",
              "        text-align: right;\n",
              "    }\n",
              "</style>\n",
              "<table border=\"1\" class=\"dataframe\">\n",
              "  <thead>\n",
              "    <tr style=\"text-align: right;\">\n",
              "      <th></th>\n",
              "      <th>item_category_name</th>\n",
              "      <th>item_category_id</th>\n",
              "      <th>category</th>\n",
              "    </tr>\n",
              "  </thead>\n",
              "  <tbody>\n",
              "    <tr>\n",
              "      <th>0</th>\n",
              "      <td>PC - Гарнитуры/Наушники</td>\n",
              "      <td>0</td>\n",
              "      <td>etc</td>\n",
              "    </tr>\n",
              "    <tr>\n",
              "      <th>1</th>\n",
              "      <td>Аксессуары - PS2</td>\n",
              "      <td>1</td>\n",
              "      <td>Аксессуары</td>\n",
              "    </tr>\n",
              "    <tr>\n",
              "      <th>2</th>\n",
              "      <td>Аксессуары - PS3</td>\n",
              "      <td>2</td>\n",
              "      <td>Аксессуары</td>\n",
              "    </tr>\n",
              "    <tr>\n",
              "      <th>3</th>\n",
              "      <td>Аксессуары - PS4</td>\n",
              "      <td>3</td>\n",
              "      <td>Аксессуары</td>\n",
              "    </tr>\n",
              "    <tr>\n",
              "      <th>4</th>\n",
              "      <td>Аксессуары - PSP</td>\n",
              "      <td>4</td>\n",
              "      <td>Аксессуары</td>\n",
              "    </tr>\n",
              "  </tbody>\n",
              "</table>\n",
              "</div>"
            ],
            "text/plain": [
              "        item_category_name  item_category_id    category\n",
              "0  PC - Гарнитуры/Наушники                 0         etc\n",
              "1         Аксессуары - PS2                 1  Аксессуары\n",
              "2         Аксессуары - PS3                 2  Аксессуары\n",
              "3         Аксессуары - PS4                 3  Аксессуары\n",
              "4         Аксессуары - PSP                 4  Аксессуары"
            ]
          },
          "metadata": {
            "tags": []
          },
          "execution_count": 67
        }
      ]
    },
    {
      "cell_type": "code",
      "metadata": {
        "id": "ELFGe4d8K83I"
      },
      "source": [
        "# Create Label Encoder\n",
        "label_encoder = LabelEncoder()\n",
        "# Category Feature Label Encoding \n",
        "categories['category'] = label_encoder.fit_transform(categories['category'])\n",
        "\n",
        "# Remove item_category_name feature\n",
        "categories = categories.drop('item_category_name', axis=1)"
      ],
      "execution_count": 68,
      "outputs": []
    },
    {
      "cell_type": "code",
      "metadata": {
        "id": "5rVb-uEBK83J"
      },
      "source": [
        "encoding = categories.groupby('category').size()\n",
        "encoding = encoding/len(categories)\n",
        "categories['category'] = categories.category.map(encoding)"
      ],
      "execution_count": 69,
      "outputs": []
    },
    {
      "cell_type": "code",
      "metadata": {
        "colab": {
          "base_uri": "https://localhost:8080/",
          "height": 204
        },
        "id": "vTuJXluiK83J",
        "outputId": "66b3d5dc-7912-4eef-d6ab-b47f7639c847"
      },
      "source": [
        "categories.head()"
      ],
      "execution_count": 70,
      "outputs": [
        {
          "output_type": "execute_result",
          "data": {
            "text/html": [
              "<div>\n",
              "<style scoped>\n",
              "    .dataframe tbody tr th:only-of-type {\n",
              "        vertical-align: middle;\n",
              "    }\n",
              "\n",
              "    .dataframe tbody tr th {\n",
              "        vertical-align: top;\n",
              "    }\n",
              "\n",
              "    .dataframe thead th {\n",
              "        text-align: right;\n",
              "    }\n",
              "</style>\n",
              "<table border=\"1\" class=\"dataframe\">\n",
              "  <thead>\n",
              "    <tr style=\"text-align: right;\">\n",
              "      <th></th>\n",
              "      <th>item_category_id</th>\n",
              "      <th>category</th>\n",
              "    </tr>\n",
              "  </thead>\n",
              "  <tbody>\n",
              "    <tr>\n",
              "      <th>0</th>\n",
              "      <td>0</td>\n",
              "      <td>0.095238</td>\n",
              "    </tr>\n",
              "    <tr>\n",
              "      <th>1</th>\n",
              "      <td>1</td>\n",
              "      <td>0.083333</td>\n",
              "    </tr>\n",
              "    <tr>\n",
              "      <th>2</th>\n",
              "      <td>2</td>\n",
              "      <td>0.083333</td>\n",
              "    </tr>\n",
              "    <tr>\n",
              "      <th>3</th>\n",
              "      <td>3</td>\n",
              "      <td>0.083333</td>\n",
              "    </tr>\n",
              "    <tr>\n",
              "      <th>4</th>\n",
              "      <td>4</td>\n",
              "      <td>0.083333</td>\n",
              "    </tr>\n",
              "  </tbody>\n",
              "</table>\n",
              "</div>"
            ],
            "text/plain": [
              "   item_category_id  category\n",
              "0                 0  0.095238\n",
              "1                 1  0.083333\n",
              "2                 2  0.083333\n",
              "3                 3  0.083333\n",
              "4                 4  0.083333"
            ]
          },
          "metadata": {
            "tags": []
          },
          "execution_count": 70
        }
      ]
    },
    {
      "cell_type": "code",
      "metadata": {
        "id": "6sW2IgacK83J"
      },
      "source": [
        ""
      ],
      "execution_count": 70,
      "outputs": []
    },
    {
      "cell_type": "code",
      "metadata": {
        "id": "_tC-4AfdK83K"
      },
      "source": [
        "#Generate data combinations and derived features\n",
        "\n",
        "from itertools import product\n",
        "\n",
        "train = []\n",
        "# Create date_block_num, sop_id, item_id combination\n",
        "for i in transactions['date_block_num'].unique():\n",
        "    all_shop = transactions.loc[transactions['date_block_num']==i, 'shop_id'].unique()\n",
        "    all_item = transactions.loc[transactions['date_block_num']==i, 'item_id'].unique()\n",
        "    train.append(np.array(list(product([i], all_shop, all_item))))\n",
        "\n",
        "idx_features = ['date_block_num', 'shop_id', 'item_id'] # base features\n",
        "train = pd.DataFrame(np.vstack(train), columns=idx_features)"
      ],
      "execution_count": 71,
      "outputs": []
    },
    {
      "cell_type": "code",
      "metadata": {
        "colab": {
          "base_uri": "https://localhost:8080/"
        },
        "id": "zfL2ZpUgK83K",
        "outputId": "86ca78c9-26ed-4b68-f710-be19795b8a79"
      },
      "source": [
        "transactions.loc[transactions['date_block_num']==0, 'shop_id'].unique()"
      ],
      "execution_count": 72,
      "outputs": [
        {
          "output_type": "execute_result",
          "data": {
            "text/plain": [
              "array([59, 25, 24, 19, 22, 18, 21, 28, 26,  4,  6,  2,  3,  7, 57, 58, 16,\n",
              "       15, 11, 14, 12, 53, 31, 35, 56, 47, 50, 42, 52, 41, 38, 44, 37, 46,\n",
              "       45], dtype=int8)"
            ]
          },
          "metadata": {
            "tags": []
          },
          "execution_count": 72
        }
      ]
    },
    {
      "cell_type": "code",
      "metadata": {
        "colab": {
          "base_uri": "https://localhost:8080/"
        },
        "id": "fyQq25z2K83K",
        "outputId": "be091b4f-d861-49b5-c3e4-c8a24989ba6d"
      },
      "source": [
        "transactions.loc[transactions['date_block_num']==0, 'item_id'].unique()"
      ],
      "execution_count": 73,
      "outputs": [
        {
          "output_type": "execute_result",
          "data": {
            "text/plain": [
              "array([22154,  2552,  2554, ...,   628,   631,   621], dtype=int16)"
            ]
          },
          "metadata": {
            "tags": []
          },
          "execution_count": 73
        }
      ]
    },
    {
      "cell_type": "code",
      "metadata": {
        "colab": {
          "base_uri": "https://localhost:8080/",
          "height": 419
        },
        "id": "LPqh9hYtK83L",
        "outputId": "592a85bb-2d14-4135-e851-30de0b113c42"
      },
      "source": [
        "train"
      ],
      "execution_count": 74,
      "outputs": [
        {
          "output_type": "execute_result",
          "data": {
            "text/html": [
              "<div>\n",
              "<style scoped>\n",
              "    .dataframe tbody tr th:only-of-type {\n",
              "        vertical-align: middle;\n",
              "    }\n",
              "\n",
              "    .dataframe tbody tr th {\n",
              "        vertical-align: top;\n",
              "    }\n",
              "\n",
              "    .dataframe thead th {\n",
              "        text-align: right;\n",
              "    }\n",
              "</style>\n",
              "<table border=\"1\" class=\"dataframe\">\n",
              "  <thead>\n",
              "    <tr style=\"text-align: right;\">\n",
              "      <th></th>\n",
              "      <th>date_block_num</th>\n",
              "      <th>shop_id</th>\n",
              "      <th>item_id</th>\n",
              "    </tr>\n",
              "  </thead>\n",
              "  <tbody>\n",
              "    <tr>\n",
              "      <th>0</th>\n",
              "      <td>0</td>\n",
              "      <td>59</td>\n",
              "      <td>22154</td>\n",
              "    </tr>\n",
              "    <tr>\n",
              "      <th>1</th>\n",
              "      <td>0</td>\n",
              "      <td>59</td>\n",
              "      <td>2552</td>\n",
              "    </tr>\n",
              "    <tr>\n",
              "      <th>2</th>\n",
              "      <td>0</td>\n",
              "      <td>59</td>\n",
              "      <td>2554</td>\n",
              "    </tr>\n",
              "    <tr>\n",
              "      <th>3</th>\n",
              "      <td>0</td>\n",
              "      <td>59</td>\n",
              "      <td>2555</td>\n",
              "    </tr>\n",
              "    <tr>\n",
              "      <th>4</th>\n",
              "      <td>0</td>\n",
              "      <td>59</td>\n",
              "      <td>2564</td>\n",
              "    </tr>\n",
              "    <tr>\n",
              "      <th>...</th>\n",
              "      <td>...</td>\n",
              "      <td>...</td>\n",
              "      <td>...</td>\n",
              "    </tr>\n",
              "    <tr>\n",
              "      <th>8647104</th>\n",
              "      <td>33</td>\n",
              "      <td>21</td>\n",
              "      <td>7635</td>\n",
              "    </tr>\n",
              "    <tr>\n",
              "      <th>8647105</th>\n",
              "      <td>33</td>\n",
              "      <td>21</td>\n",
              "      <td>7638</td>\n",
              "    </tr>\n",
              "    <tr>\n",
              "      <th>8647106</th>\n",
              "      <td>33</td>\n",
              "      <td>21</td>\n",
              "      <td>7640</td>\n",
              "    </tr>\n",
              "    <tr>\n",
              "      <th>8647107</th>\n",
              "      <td>33</td>\n",
              "      <td>21</td>\n",
              "      <td>7632</td>\n",
              "    </tr>\n",
              "    <tr>\n",
              "      <th>8647108</th>\n",
              "      <td>33</td>\n",
              "      <td>21</td>\n",
              "      <td>7440</td>\n",
              "    </tr>\n",
              "  </tbody>\n",
              "</table>\n",
              "<p>8647109 rows × 3 columns</p>\n",
              "</div>"
            ],
            "text/plain": [
              "         date_block_num  shop_id  item_id\n",
              "0                     0       59    22154\n",
              "1                     0       59     2552\n",
              "2                     0       59     2554\n",
              "3                     0       59     2555\n",
              "4                     0       59     2564\n",
              "...                 ...      ...      ...\n",
              "8647104              33       21     7635\n",
              "8647105              33       21     7638\n",
              "8647106              33       21     7640\n",
              "8647107              33       21     7632\n",
              "8647108              33       21     7440\n",
              "\n",
              "[8647109 rows x 3 columns]"
            ]
          },
          "metadata": {
            "tags": []
          },
          "execution_count": 74
        }
      ]
    },
    {
      "cell_type": "code",
      "metadata": {
        "colab": {
          "base_uri": "https://localhost:8080/",
          "height": 669
        },
        "id": "5_30WCxJK83L",
        "outputId": "6a3ed5e9-da5b-48f4-bd2e-0a8730f88cd2"
      },
      "source": [
        "group = transactions.groupby(idx_features).agg({'item_cnt_day': 'sum',\n",
        "                                               'item_price': 'mean'})\n",
        "group = group.reset_index()\n",
        "group = group.rename(columns={'item_cnt_day': 'item_cnt_month', 'item_price': 'item_price_mean'})\n",
        "\n",
        "train = train.merge(group, on=idx_features, how='left')\n",
        "\n",
        "train.head(20)"
      ],
      "execution_count": 75,
      "outputs": [
        {
          "output_type": "execute_result",
          "data": {
            "text/html": [
              "<div>\n",
              "<style scoped>\n",
              "    .dataframe tbody tr th:only-of-type {\n",
              "        vertical-align: middle;\n",
              "    }\n",
              "\n",
              "    .dataframe tbody tr th {\n",
              "        vertical-align: top;\n",
              "    }\n",
              "\n",
              "    .dataframe thead th {\n",
              "        text-align: right;\n",
              "    }\n",
              "</style>\n",
              "<table border=\"1\" class=\"dataframe\">\n",
              "  <thead>\n",
              "    <tr style=\"text-align: right;\">\n",
              "      <th></th>\n",
              "      <th>date_block_num</th>\n",
              "      <th>shop_id</th>\n",
              "      <th>item_id</th>\n",
              "      <th>item_cnt_month</th>\n",
              "      <th>item_price_mean</th>\n",
              "    </tr>\n",
              "  </thead>\n",
              "  <tbody>\n",
              "    <tr>\n",
              "      <th>0</th>\n",
              "      <td>0</td>\n",
              "      <td>59</td>\n",
              "      <td>22154</td>\n",
              "      <td>1.0</td>\n",
              "      <td>999.0</td>\n",
              "    </tr>\n",
              "    <tr>\n",
              "      <th>1</th>\n",
              "      <td>0</td>\n",
              "      <td>59</td>\n",
              "      <td>2552</td>\n",
              "      <td>NaN</td>\n",
              "      <td>NaN</td>\n",
              "    </tr>\n",
              "    <tr>\n",
              "      <th>2</th>\n",
              "      <td>0</td>\n",
              "      <td>59</td>\n",
              "      <td>2554</td>\n",
              "      <td>NaN</td>\n",
              "      <td>NaN</td>\n",
              "    </tr>\n",
              "    <tr>\n",
              "      <th>3</th>\n",
              "      <td>0</td>\n",
              "      <td>59</td>\n",
              "      <td>2555</td>\n",
              "      <td>NaN</td>\n",
              "      <td>NaN</td>\n",
              "    </tr>\n",
              "    <tr>\n",
              "      <th>4</th>\n",
              "      <td>0</td>\n",
              "      <td>59</td>\n",
              "      <td>2564</td>\n",
              "      <td>NaN</td>\n",
              "      <td>NaN</td>\n",
              "    </tr>\n",
              "    <tr>\n",
              "      <th>5</th>\n",
              "      <td>0</td>\n",
              "      <td>59</td>\n",
              "      <td>2565</td>\n",
              "      <td>NaN</td>\n",
              "      <td>NaN</td>\n",
              "    </tr>\n",
              "    <tr>\n",
              "      <th>6</th>\n",
              "      <td>0</td>\n",
              "      <td>59</td>\n",
              "      <td>2572</td>\n",
              "      <td>NaN</td>\n",
              "      <td>NaN</td>\n",
              "    </tr>\n",
              "    <tr>\n",
              "      <th>7</th>\n",
              "      <td>0</td>\n",
              "      <td>59</td>\n",
              "      <td>2573</td>\n",
              "      <td>NaN</td>\n",
              "      <td>NaN</td>\n",
              "    </tr>\n",
              "    <tr>\n",
              "      <th>8</th>\n",
              "      <td>0</td>\n",
              "      <td>59</td>\n",
              "      <td>2574</td>\n",
              "      <td>2.0</td>\n",
              "      <td>399.0</td>\n",
              "    </tr>\n",
              "    <tr>\n",
              "      <th>9</th>\n",
              "      <td>0</td>\n",
              "      <td>59</td>\n",
              "      <td>2593</td>\n",
              "      <td>NaN</td>\n",
              "      <td>NaN</td>\n",
              "    </tr>\n",
              "    <tr>\n",
              "      <th>10</th>\n",
              "      <td>0</td>\n",
              "      <td>59</td>\n",
              "      <td>2604</td>\n",
              "      <td>NaN</td>\n",
              "      <td>NaN</td>\n",
              "    </tr>\n",
              "    <tr>\n",
              "      <th>11</th>\n",
              "      <td>0</td>\n",
              "      <td>59</td>\n",
              "      <td>2607</td>\n",
              "      <td>NaN</td>\n",
              "      <td>NaN</td>\n",
              "    </tr>\n",
              "    <tr>\n",
              "      <th>12</th>\n",
              "      <td>0</td>\n",
              "      <td>59</td>\n",
              "      <td>2609</td>\n",
              "      <td>NaN</td>\n",
              "      <td>NaN</td>\n",
              "    </tr>\n",
              "    <tr>\n",
              "      <th>13</th>\n",
              "      <td>0</td>\n",
              "      <td>59</td>\n",
              "      <td>2548</td>\n",
              "      <td>NaN</td>\n",
              "      <td>NaN</td>\n",
              "    </tr>\n",
              "    <tr>\n",
              "      <th>14</th>\n",
              "      <td>0</td>\n",
              "      <td>59</td>\n",
              "      <td>2611</td>\n",
              "      <td>NaN</td>\n",
              "      <td>NaN</td>\n",
              "    </tr>\n",
              "    <tr>\n",
              "      <th>15</th>\n",
              "      <td>0</td>\n",
              "      <td>59</td>\n",
              "      <td>2546</td>\n",
              "      <td>NaN</td>\n",
              "      <td>NaN</td>\n",
              "    </tr>\n",
              "    <tr>\n",
              "      <th>16</th>\n",
              "      <td>0</td>\n",
              "      <td>59</td>\n",
              "      <td>2515</td>\n",
              "      <td>NaN</td>\n",
              "      <td>NaN</td>\n",
              "    </tr>\n",
              "    <tr>\n",
              "      <th>17</th>\n",
              "      <td>0</td>\n",
              "      <td>59</td>\n",
              "      <td>2705</td>\n",
              "      <td>1.0</td>\n",
              "      <td>1799.0</td>\n",
              "    </tr>\n",
              "    <tr>\n",
              "      <th>18</th>\n",
              "      <td>0</td>\n",
              "      <td>59</td>\n",
              "      <td>2715</td>\n",
              "      <td>NaN</td>\n",
              "      <td>NaN</td>\n",
              "    </tr>\n",
              "    <tr>\n",
              "      <th>19</th>\n",
              "      <td>0</td>\n",
              "      <td>59</td>\n",
              "      <td>2716</td>\n",
              "      <td>NaN</td>\n",
              "      <td>NaN</td>\n",
              "    </tr>\n",
              "  </tbody>\n",
              "</table>\n",
              "</div>"
            ],
            "text/plain": [
              "    date_block_num  shop_id  item_id  item_cnt_month  item_price_mean\n",
              "0                0       59    22154             1.0            999.0\n",
              "1                0       59     2552             NaN              NaN\n",
              "2                0       59     2554             NaN              NaN\n",
              "3                0       59     2555             NaN              NaN\n",
              "4                0       59     2564             NaN              NaN\n",
              "5                0       59     2565             NaN              NaN\n",
              "6                0       59     2572             NaN              NaN\n",
              "7                0       59     2573             NaN              NaN\n",
              "8                0       59     2574             2.0            399.0\n",
              "9                0       59     2593             NaN              NaN\n",
              "10               0       59     2604             NaN              NaN\n",
              "11               0       59     2607             NaN              NaN\n",
              "12               0       59     2609             NaN              NaN\n",
              "13               0       59     2548             NaN              NaN\n",
              "14               0       59     2611             NaN              NaN\n",
              "15               0       59     2546             NaN              NaN\n",
              "16               0       59     2515             NaN              NaN\n",
              "17               0       59     2705             1.0           1799.0\n",
              "18               0       59     2715             NaN              NaN\n",
              "19               0       59     2716             NaN              NaN"
            ]
          },
          "metadata": {
            "tags": []
          },
          "execution_count": 75
        }
      ]
    },
    {
      "cell_type": "code",
      "metadata": {
        "colab": {
          "base_uri": "https://localhost:8080/",
          "height": 204
        },
        "id": "7cyhOvIZK83M",
        "outputId": "a69124be-4a5d-446a-89ff-5c1ac0d18502"
      },
      "source": [
        "# Add a feature for the number of items sold\n",
        "group = transactions.groupby(idx_features).agg({'item_cnt_day': 'count'})\n",
        "group = group.reset_index()\n",
        "group = group.rename(columns={'item_cnt_day': 'item_count'})\n",
        "\n",
        "train = train.merge(group, on=idx_features, how='left')\n",
        "\n",
        "# Garbage collection\n",
        "#del group, transactions\n",
        "#gc.collect()\n",
        "\n",
        "train.head()"
      ],
      "execution_count": 76,
      "outputs": [
        {
          "output_type": "execute_result",
          "data": {
            "text/html": [
              "<div>\n",
              "<style scoped>\n",
              "    .dataframe tbody tr th:only-of-type {\n",
              "        vertical-align: middle;\n",
              "    }\n",
              "\n",
              "    .dataframe tbody tr th {\n",
              "        vertical-align: top;\n",
              "    }\n",
              "\n",
              "    .dataframe thead th {\n",
              "        text-align: right;\n",
              "    }\n",
              "</style>\n",
              "<table border=\"1\" class=\"dataframe\">\n",
              "  <thead>\n",
              "    <tr style=\"text-align: right;\">\n",
              "      <th></th>\n",
              "      <th>date_block_num</th>\n",
              "      <th>shop_id</th>\n",
              "      <th>item_id</th>\n",
              "      <th>item_cnt_month</th>\n",
              "      <th>item_price_mean</th>\n",
              "      <th>item_count</th>\n",
              "    </tr>\n",
              "  </thead>\n",
              "  <tbody>\n",
              "    <tr>\n",
              "      <th>0</th>\n",
              "      <td>0</td>\n",
              "      <td>59</td>\n",
              "      <td>22154</td>\n",
              "      <td>1.0</td>\n",
              "      <td>999.0</td>\n",
              "      <td>1.0</td>\n",
              "    </tr>\n",
              "    <tr>\n",
              "      <th>1</th>\n",
              "      <td>0</td>\n",
              "      <td>59</td>\n",
              "      <td>2552</td>\n",
              "      <td>NaN</td>\n",
              "      <td>NaN</td>\n",
              "      <td>NaN</td>\n",
              "    </tr>\n",
              "    <tr>\n",
              "      <th>2</th>\n",
              "      <td>0</td>\n",
              "      <td>59</td>\n",
              "      <td>2554</td>\n",
              "      <td>NaN</td>\n",
              "      <td>NaN</td>\n",
              "      <td>NaN</td>\n",
              "    </tr>\n",
              "    <tr>\n",
              "      <th>3</th>\n",
              "      <td>0</td>\n",
              "      <td>59</td>\n",
              "      <td>2555</td>\n",
              "      <td>NaN</td>\n",
              "      <td>NaN</td>\n",
              "      <td>NaN</td>\n",
              "    </tr>\n",
              "    <tr>\n",
              "      <th>4</th>\n",
              "      <td>0</td>\n",
              "      <td>59</td>\n",
              "      <td>2564</td>\n",
              "      <td>NaN</td>\n",
              "      <td>NaN</td>\n",
              "      <td>NaN</td>\n",
              "    </tr>\n",
              "  </tbody>\n",
              "</table>\n",
              "</div>"
            ],
            "text/plain": [
              "   date_block_num  shop_id  ...  item_price_mean  item_count\n",
              "0               0       59  ...            999.0         1.0\n",
              "1               0       59  ...              NaN         NaN\n",
              "2               0       59  ...              NaN         NaN\n",
              "3               0       59  ...              NaN         NaN\n",
              "4               0       59  ...              NaN         NaN\n",
              "\n",
              "[5 rows x 6 columns]"
            ]
          },
          "metadata": {
            "tags": []
          },
          "execution_count": 76
        }
      ]
    },
    {
      "cell_type": "code",
      "metadata": {
        "colab": {
          "base_uri": "https://localhost:8080/",
          "height": 419
        },
        "id": "fxm5HQ4eK83M",
        "outputId": "a347e662-7fee-4db5-e7a2-da4d80b92411"
      },
      "source": [
        "test"
      ],
      "execution_count": 77,
      "outputs": [
        {
          "output_type": "execute_result",
          "data": {
            "text/html": [
              "<div>\n",
              "<style scoped>\n",
              "    .dataframe tbody tr th:only-of-type {\n",
              "        vertical-align: middle;\n",
              "    }\n",
              "\n",
              "    .dataframe tbody tr th {\n",
              "        vertical-align: top;\n",
              "    }\n",
              "\n",
              "    .dataframe thead th {\n",
              "        text-align: right;\n",
              "    }\n",
              "</style>\n",
              "<table border=\"1\" class=\"dataframe\">\n",
              "  <thead>\n",
              "    <tr style=\"text-align: right;\">\n",
              "      <th></th>\n",
              "      <th>ID</th>\n",
              "      <th>shop_id</th>\n",
              "      <th>item_id</th>\n",
              "    </tr>\n",
              "  </thead>\n",
              "  <tbody>\n",
              "    <tr>\n",
              "      <th>0</th>\n",
              "      <td>0</td>\n",
              "      <td>5</td>\n",
              "      <td>5037</td>\n",
              "    </tr>\n",
              "    <tr>\n",
              "      <th>1</th>\n",
              "      <td>1</td>\n",
              "      <td>5</td>\n",
              "      <td>5320</td>\n",
              "    </tr>\n",
              "    <tr>\n",
              "      <th>2</th>\n",
              "      <td>2</td>\n",
              "      <td>5</td>\n",
              "      <td>5233</td>\n",
              "    </tr>\n",
              "    <tr>\n",
              "      <th>3</th>\n",
              "      <td>3</td>\n",
              "      <td>5</td>\n",
              "      <td>5232</td>\n",
              "    </tr>\n",
              "    <tr>\n",
              "      <th>4</th>\n",
              "      <td>4</td>\n",
              "      <td>5</td>\n",
              "      <td>5268</td>\n",
              "    </tr>\n",
              "    <tr>\n",
              "      <th>...</th>\n",
              "      <td>...</td>\n",
              "      <td>...</td>\n",
              "      <td>...</td>\n",
              "    </tr>\n",
              "    <tr>\n",
              "      <th>214195</th>\n",
              "      <td>214195</td>\n",
              "      <td>45</td>\n",
              "      <td>18454</td>\n",
              "    </tr>\n",
              "    <tr>\n",
              "      <th>214196</th>\n",
              "      <td>214196</td>\n",
              "      <td>45</td>\n",
              "      <td>16188</td>\n",
              "    </tr>\n",
              "    <tr>\n",
              "      <th>214197</th>\n",
              "      <td>214197</td>\n",
              "      <td>45</td>\n",
              "      <td>15757</td>\n",
              "    </tr>\n",
              "    <tr>\n",
              "      <th>214198</th>\n",
              "      <td>214198</td>\n",
              "      <td>45</td>\n",
              "      <td>19648</td>\n",
              "    </tr>\n",
              "    <tr>\n",
              "      <th>214199</th>\n",
              "      <td>214199</td>\n",
              "      <td>45</td>\n",
              "      <td>969</td>\n",
              "    </tr>\n",
              "  </tbody>\n",
              "</table>\n",
              "<p>214200 rows × 3 columns</p>\n",
              "</div>"
            ],
            "text/plain": [
              "            ID  shop_id  item_id\n",
              "0            0        5     5037\n",
              "1            1        5     5320\n",
              "2            2        5     5233\n",
              "3            3        5     5232\n",
              "4            4        5     5268\n",
              "...        ...      ...      ...\n",
              "214195  214195       45    18454\n",
              "214196  214196       45    16188\n",
              "214197  214197       45    15757\n",
              "214198  214198       45    19648\n",
              "214199  214199       45      969\n",
              "\n",
              "[214200 rows x 3 columns]"
            ]
          },
          "metadata": {
            "tags": []
          },
          "execution_count": 77
        }
      ]
    },
    {
      "cell_type": "code",
      "metadata": {
        "colab": {
          "base_uri": "https://localhost:8080/",
          "height": 204
        },
        "id": "MSE5LSuQK83N",
        "outputId": "29200b17-739f-4025-f743-3f2fab1c9270"
      },
      "source": [
        "# Set test data date_block_num to 34\n",
        "test['date_block_num'] = 34\n",
        "\n",
        "# Concatenate train and test\n",
        "all_data = pd.concat([train, test.drop('ID', axis=1)],\n",
        "                     ignore_index=True,\n",
        "                     keys=idx_features)\n",
        "# Replace NaN with 0\n",
        "all_data = all_data.fillna(0)\n",
        "\n",
        "all_data.head()"
      ],
      "execution_count": 78,
      "outputs": [
        {
          "output_type": "execute_result",
          "data": {
            "text/html": [
              "<div>\n",
              "<style scoped>\n",
              "    .dataframe tbody tr th:only-of-type {\n",
              "        vertical-align: middle;\n",
              "    }\n",
              "\n",
              "    .dataframe tbody tr th {\n",
              "        vertical-align: top;\n",
              "    }\n",
              "\n",
              "    .dataframe thead th {\n",
              "        text-align: right;\n",
              "    }\n",
              "</style>\n",
              "<table border=\"1\" class=\"dataframe\">\n",
              "  <thead>\n",
              "    <tr style=\"text-align: right;\">\n",
              "      <th></th>\n",
              "      <th>date_block_num</th>\n",
              "      <th>shop_id</th>\n",
              "      <th>item_id</th>\n",
              "      <th>item_cnt_month</th>\n",
              "      <th>item_price_mean</th>\n",
              "      <th>item_count</th>\n",
              "    </tr>\n",
              "  </thead>\n",
              "  <tbody>\n",
              "    <tr>\n",
              "      <th>0</th>\n",
              "      <td>0</td>\n",
              "      <td>59</td>\n",
              "      <td>22154</td>\n",
              "      <td>1.0</td>\n",
              "      <td>999.0</td>\n",
              "      <td>1.0</td>\n",
              "    </tr>\n",
              "    <tr>\n",
              "      <th>1</th>\n",
              "      <td>0</td>\n",
              "      <td>59</td>\n",
              "      <td>2552</td>\n",
              "      <td>0.0</td>\n",
              "      <td>0.0</td>\n",
              "      <td>0.0</td>\n",
              "    </tr>\n",
              "    <tr>\n",
              "      <th>2</th>\n",
              "      <td>0</td>\n",
              "      <td>59</td>\n",
              "      <td>2554</td>\n",
              "      <td>0.0</td>\n",
              "      <td>0.0</td>\n",
              "      <td>0.0</td>\n",
              "    </tr>\n",
              "    <tr>\n",
              "      <th>3</th>\n",
              "      <td>0</td>\n",
              "      <td>59</td>\n",
              "      <td>2555</td>\n",
              "      <td>0.0</td>\n",
              "      <td>0.0</td>\n",
              "      <td>0.0</td>\n",
              "    </tr>\n",
              "    <tr>\n",
              "      <th>4</th>\n",
              "      <td>0</td>\n",
              "      <td>59</td>\n",
              "      <td>2564</td>\n",
              "      <td>0.0</td>\n",
              "      <td>0.0</td>\n",
              "      <td>0.0</td>\n",
              "    </tr>\n",
              "  </tbody>\n",
              "</table>\n",
              "</div>"
            ],
            "text/plain": [
              "   date_block_num  shop_id  ...  item_price_mean  item_count\n",
              "0               0       59  ...            999.0         1.0\n",
              "1               0       59  ...              0.0         0.0\n",
              "2               0       59  ...              0.0         0.0\n",
              "3               0       59  ...              0.0         0.0\n",
              "4               0       59  ...              0.0         0.0\n",
              "\n",
              "[5 rows x 6 columns]"
            ]
          },
          "metadata": {
            "tags": []
          },
          "execution_count": 78
        }
      ]
    },
    {
      "cell_type": "code",
      "metadata": {
        "colab": {
          "base_uri": "https://localhost:8080/"
        },
        "id": "lS04fgKYK83N",
        "outputId": "fd058b51-f11c-4940-8c3e-cc1e77fb1152"
      },
      "source": [
        "# Merge other data\n",
        "all_data = all_data.merge(shops, on='shop_id', how='left')\n",
        "all_data = all_data.merge(items, on='item_id', how='left')\n",
        "all_data = all_data.merge(categories, on='item_category_id', how='left')\n",
        "\n",
        "# Data downcasting\n",
        "all_data = downcast(all_data)\n",
        "\n",
        "# Garbage collection\n",
        "#del shops, items, categories\n",
        "#gc.collect();"
      ],
      "execution_count": 79,
      "outputs": [
        {
          "output_type": "stream",
          "text": [
            "60.0% compressed\n"
          ],
          "name": "stdout"
        }
      ]
    },
    {
      "cell_type": "code",
      "metadata": {
        "id": "FjmDUSyqK83O"
      },
      "source": [
        "def resumetable(df):\n",
        "    print(f'Data Shape: {df.shape}')\n",
        "    summary = pd.DataFrame(df.dtypes, columns=['Dtypes'])\n",
        "    summary['Null'] = df.isnull().sum().values\n",
        "    summary['Uniques'] = df.nunique().values\n",
        "    summary['First_values'] = df.loc[0].values\n",
        "    summary['Second_values'] = df.loc[1].values\n",
        "    summary['Third_values'] = df.loc[2].values\n",
        "    \n",
        "    return summary"
      ],
      "execution_count": 80,
      "outputs": []
    },
    {
      "cell_type": "code",
      "metadata": {
        "colab": {
          "base_uri": "https://localhost:8080/",
          "height": 376
        },
        "id": "4lY9lzIwK83O",
        "outputId": "ecadde01-0dc0-4155-d2e0-9673247613aa"
      },
      "source": [
        "resumetable(all_data)"
      ],
      "execution_count": 81,
      "outputs": [
        {
          "output_type": "stream",
          "text": [
            "Data Shape: (8861309, 10)\n"
          ],
          "name": "stdout"
        },
        {
          "output_type": "execute_result",
          "data": {
            "text/html": [
              "<div>\n",
              "<style scoped>\n",
              "    .dataframe tbody tr th:only-of-type {\n",
              "        vertical-align: middle;\n",
              "    }\n",
              "\n",
              "    .dataframe tbody tr th {\n",
              "        vertical-align: top;\n",
              "    }\n",
              "\n",
              "    .dataframe thead th {\n",
              "        text-align: right;\n",
              "    }\n",
              "</style>\n",
              "<table border=\"1\" class=\"dataframe\">\n",
              "  <thead>\n",
              "    <tr style=\"text-align: right;\">\n",
              "      <th></th>\n",
              "      <th>Dtypes</th>\n",
              "      <th>Null</th>\n",
              "      <th>Uniques</th>\n",
              "      <th>First_values</th>\n",
              "      <th>Second_values</th>\n",
              "      <th>Third_values</th>\n",
              "    </tr>\n",
              "  </thead>\n",
              "  <tbody>\n",
              "    <tr>\n",
              "      <th>date_block_num</th>\n",
              "      <td>int8</td>\n",
              "      <td>0</td>\n",
              "      <td>35</td>\n",
              "      <td>0.000000</td>\n",
              "      <td>0.000000</td>\n",
              "      <td>0.000000</td>\n",
              "    </tr>\n",
              "    <tr>\n",
              "      <th>shop_id</th>\n",
              "      <td>int8</td>\n",
              "      <td>0</td>\n",
              "      <td>42</td>\n",
              "      <td>59.000000</td>\n",
              "      <td>59.000000</td>\n",
              "      <td>59.000000</td>\n",
              "    </tr>\n",
              "    <tr>\n",
              "      <th>item_id</th>\n",
              "      <td>int16</td>\n",
              "      <td>0</td>\n",
              "      <td>21470</td>\n",
              "      <td>22154.000000</td>\n",
              "      <td>2552.000000</td>\n",
              "      <td>2554.000000</td>\n",
              "    </tr>\n",
              "    <tr>\n",
              "      <th>item_cnt_month</th>\n",
              "      <td>int16</td>\n",
              "      <td>0</td>\n",
              "      <td>415</td>\n",
              "      <td>1.000000</td>\n",
              "      <td>0.000000</td>\n",
              "      <td>0.000000</td>\n",
              "    </tr>\n",
              "    <tr>\n",
              "      <th>item_price_mean</th>\n",
              "      <td>float32</td>\n",
              "      <td>0</td>\n",
              "      <td>34252</td>\n",
              "      <td>999.000000</td>\n",
              "      <td>0.000000</td>\n",
              "      <td>0.000000</td>\n",
              "    </tr>\n",
              "    <tr>\n",
              "      <th>item_count</th>\n",
              "      <td>int8</td>\n",
              "      <td>0</td>\n",
              "      <td>40</td>\n",
              "      <td>1.000000</td>\n",
              "      <td>0.000000</td>\n",
              "      <td>0.000000</td>\n",
              "    </tr>\n",
              "    <tr>\n",
              "      <th>city</th>\n",
              "      <td>int8</td>\n",
              "      <td>0</td>\n",
              "      <td>28</td>\n",
              "      <td>30.000000</td>\n",
              "      <td>30.000000</td>\n",
              "      <td>30.000000</td>\n",
              "    </tr>\n",
              "    <tr>\n",
              "      <th>item_category_id</th>\n",
              "      <td>int8</td>\n",
              "      <td>0</td>\n",
              "      <td>84</td>\n",
              "      <td>37.000000</td>\n",
              "      <td>58.000000</td>\n",
              "      <td>58.000000</td>\n",
              "    </tr>\n",
              "    <tr>\n",
              "      <th>first_sale_date</th>\n",
              "      <td>int8</td>\n",
              "      <td>0</td>\n",
              "      <td>35</td>\n",
              "      <td>0.000000</td>\n",
              "      <td>0.000000</td>\n",
              "      <td>0.000000</td>\n",
              "    </tr>\n",
              "    <tr>\n",
              "      <th>category</th>\n",
              "      <td>float32</td>\n",
              "      <td>0</td>\n",
              "      <td>7</td>\n",
              "      <td>0.059524</td>\n",
              "      <td>0.071429</td>\n",
              "      <td>0.071429</td>\n",
              "    </tr>\n",
              "  </tbody>\n",
              "</table>\n",
              "</div>"
            ],
            "text/plain": [
              "                   Dtypes  Null  ...  Second_values  Third_values\n",
              "date_block_num       int8     0  ...       0.000000      0.000000\n",
              "shop_id              int8     0  ...      59.000000     59.000000\n",
              "item_id             int16     0  ...    2552.000000   2554.000000\n",
              "item_cnt_month      int16     0  ...       0.000000      0.000000\n",
              "item_price_mean   float32     0  ...       0.000000      0.000000\n",
              "item_count           int8     0  ...       0.000000      0.000000\n",
              "city                 int8     0  ...      30.000000     30.000000\n",
              "item_category_id     int8     0  ...      58.000000     58.000000\n",
              "first_sale_date      int8     0  ...       0.000000      0.000000\n",
              "category          float32     0  ...       0.071429      0.071429\n",
              "\n",
              "[10 rows x 6 columns]"
            ]
          },
          "metadata": {
            "tags": []
          },
          "execution_count": 81
        }
      ]
    },
    {
      "cell_type": "code",
      "metadata": {
        "id": "p6yoUjeeK83P"
      },
      "source": [
        ""
      ],
      "execution_count": 81,
      "outputs": []
    },
    {
      "cell_type": "code",
      "metadata": {
        "id": "3wzLnp-4K83P"
      },
      "source": [
        ""
      ],
      "execution_count": 81,
      "outputs": []
    },
    {
      "cell_type": "code",
      "metadata": {
        "id": "AHitbzYxK83P"
      },
      "source": [
        ""
      ],
      "execution_count": 81,
      "outputs": []
    },
    {
      "cell_type": "code",
      "metadata": {
        "id": "9Oml3a17K83P"
      },
      "source": [
        "def add_mean_features(df, mean_features, idx_features):\n",
        "    # Check base features\n",
        "    assert (idx_features[0] == 'date_block_num') and \\\n",
        "           len(idx_features) in [2, 3]\n",
        "    \n",
        "    # Set derived feature name \n",
        "    if len(idx_features) == 2:\n",
        "        feature_name = idx_features[1] + '_mean_sales'\n",
        "    else:\n",
        "        feature_name = idx_features[1] + '_' + idx_features[2] + '_mean_sales'\n",
        "    \n",
        "    # Get average monthly sales by grouping based on base features\n",
        "    group = df.groupby(idx_features).agg({'item_cnt_month': 'mean'})\n",
        "    group = group.reset_index()\n",
        "    group = group.rename(columns={'item_cnt_month': feature_name})\n",
        "    \n",
        "    # Merge df with group based on idx_features\n",
        "    df = df.merge(group, on=idx_features, how='left')\n",
        "    # Date downcasting\n",
        "    df = downcast(df, False)\n",
        "    # Append newly created mean_feature_name features to the mean_features list\n",
        "    mean_features.append(feature_name)\n",
        "    \n",
        "    # Garbage collection\n",
        "    #del group\n",
        "    #gc.collect()\n",
        "    \n",
        "    return df, mean_features"
      ],
      "execution_count": 82,
      "outputs": []
    },
    {
      "cell_type": "code",
      "metadata": {
        "id": "L34aKQNLK83Q"
      },
      "source": [
        "# List of derived features containing 'item_id' in the grouping base features\n",
        "item_mean_features = []\n",
        "\n",
        "\n",
        "# Create monthly average sales derived features grouped by ['date_block_num', 'item_id']\n",
        "all_data, item_mean_features = add_mean_features(df=all_data,\n",
        "                                                 mean_features=item_mean_features,\n",
        "                                                 idx_features=['date_block_num', 'item_id'])\n",
        "\n",
        "# Create monthly average sales derived features grouped by ['date_block_num', 'item_id', 'city']\n",
        "all_data, item_mean_features = add_mean_features(df=all_data,\n",
        "                                                 mean_features=item_mean_features,\n",
        "                                                 idx_features=['date_block_num', 'item_id', 'city'])"
      ],
      "execution_count": 83,
      "outputs": []
    },
    {
      "cell_type": "code",
      "metadata": {
        "colab": {
          "base_uri": "https://localhost:8080/"
        },
        "id": "qMZtI315K83Q",
        "outputId": "9486b1bd-e59a-426f-f37d-6350b4060d3e"
      },
      "source": [
        "item_mean_features"
      ],
      "execution_count": 84,
      "outputs": [
        {
          "output_type": "execute_result",
          "data": {
            "text/plain": [
              "['item_id_mean_sales', 'item_id_city_mean_sales']"
            ]
          },
          "metadata": {
            "tags": []
          },
          "execution_count": 84
        }
      ]
    },
    {
      "cell_type": "code",
      "metadata": {
        "id": "rgUcKK6zK83R"
      },
      "source": [
        "# List of derived features containing 'shop_id' in the grouping base features\n",
        "shop_mean_features = []\n",
        "\n",
        "# Create monthly average sales derived features grouped by ['date_block_num', 'shop_id', 'item_category_id']\n",
        "all_data, shop_mean_features = add_mean_features(df=all_data, \n",
        "                                                 mean_features=shop_mean_features,\n",
        "                                                 idx_features=['date_block_num', 'shop_id', 'item_category_id'])"
      ],
      "execution_count": 85,
      "outputs": []
    },
    {
      "cell_type": "code",
      "metadata": {
        "colab": {
          "base_uri": "https://localhost:8080/"
        },
        "id": "ADw6g2GpK83S",
        "outputId": "2497df74-3d7e-40ad-9a71-00fe00b95b9d"
      },
      "source": [
        "shop_mean_features"
      ],
      "execution_count": 86,
      "outputs": [
        {
          "output_type": "execute_result",
          "data": {
            "text/plain": [
              "['shop_id_item_category_id_mean_sales']"
            ]
          },
          "metadata": {
            "tags": []
          },
          "execution_count": 86
        }
      ]
    },
    {
      "cell_type": "code",
      "metadata": {
        "id": "1h86DP1pK83S"
      },
      "source": [
        "def add_lag_features(df, lag_features_to_clip, idx_features, \n",
        "                     lag_feature, nlags=3, clip=False):\n",
        "    # Copy only the part of the DataFrame needed to create the lag features\n",
        "    df_temp = df[idx_features + [lag_feature]].copy() \n",
        "\n",
        "    # Create lag features\n",
        "    for i in range(1, nlags+1):\n",
        "        # Lag featrue name\n",
        "        lag_feature_name = lag_feature +'_lag' + str(i)\n",
        "        # Set df_temp column name\n",
        "        df_temp.columns = idx_features + [lag_feature_name]\n",
        "        # Add 1 to date_block_num feature in df_temp\n",
        "        df_temp['date_block_num'] += i\n",
        "        # Merge df with df_temp based on idx_feature\n",
        "        df = df.merge(df_temp.drop_duplicates(), \n",
        "                      on=idx_features, \n",
        "                      how='left')\n",
        "        # Replace NaN with 0\n",
        "        df[lag_feature_name] = df[lag_feature_name].fillna(0)\n",
        "        # Add lag features to lag_features_to_clip to clip between 0 and 20\n",
        "        if clip: \n",
        "            lag_features_to_clip.append(lag_feature_name)\n",
        "    \n",
        "    # Date downcasting\n",
        "    df = downcast(df, False)\n",
        "    # Garbage collection\n",
        "    del df_temp\n",
        "    #gc.collect()\n",
        "    \n",
        "    return df, lag_features_to_clip"
      ],
      "execution_count": 87,
      "outputs": []
    },
    {
      "cell_type": "code",
      "metadata": {
        "id": "1E9NRLNQK83T"
      },
      "source": [
        "lag_features_to_clip = [] # list of lag features to be clipped to between 0 to 20 \n",
        "idx_features = ['date_block_num', 'shop_id', 'item_id'] # base features\n",
        "\n",
        "# Create 3 month lag features of item_cnt_month based on idx_features\n",
        "all_data, lag_features_to_clip = add_lag_features(df=all_data, \n",
        "                                                  lag_features_to_clip=lag_features_to_clip,\n",
        "                                                  idx_features=idx_features,\n",
        "                                                  lag_feature='item_cnt_month', \n",
        "                                                  nlags=3,\n",
        "                                                  clip=True)"
      ],
      "execution_count": 88,
      "outputs": []
    },
    {
      "cell_type": "code",
      "metadata": {
        "colab": {
          "base_uri": "https://localhost:8080/",
          "height": 545
        },
        "id": "JoTUnOCeK83T",
        "outputId": "ee4b1740-be7d-4395-954b-51050a342bf2"
      },
      "source": [
        "all_data.head().T           "
      ],
      "execution_count": 89,
      "outputs": [
        {
          "output_type": "execute_result",
          "data": {
            "text/html": [
              "<div>\n",
              "<style scoped>\n",
              "    .dataframe tbody tr th:only-of-type {\n",
              "        vertical-align: middle;\n",
              "    }\n",
              "\n",
              "    .dataframe tbody tr th {\n",
              "        vertical-align: top;\n",
              "    }\n",
              "\n",
              "    .dataframe thead th {\n",
              "        text-align: right;\n",
              "    }\n",
              "</style>\n",
              "<table border=\"1\" class=\"dataframe\">\n",
              "  <thead>\n",
              "    <tr style=\"text-align: right;\">\n",
              "      <th></th>\n",
              "      <th>0</th>\n",
              "      <th>1</th>\n",
              "      <th>2</th>\n",
              "      <th>3</th>\n",
              "      <th>4</th>\n",
              "    </tr>\n",
              "  </thead>\n",
              "  <tbody>\n",
              "    <tr>\n",
              "      <th>date_block_num</th>\n",
              "      <td>0.000000</td>\n",
              "      <td>0.000000</td>\n",
              "      <td>0.000000</td>\n",
              "      <td>0.000000</td>\n",
              "      <td>0.000000</td>\n",
              "    </tr>\n",
              "    <tr>\n",
              "      <th>shop_id</th>\n",
              "      <td>59.000000</td>\n",
              "      <td>59.000000</td>\n",
              "      <td>59.000000</td>\n",
              "      <td>59.000000</td>\n",
              "      <td>59.000000</td>\n",
              "    </tr>\n",
              "    <tr>\n",
              "      <th>item_id</th>\n",
              "      <td>22154.000000</td>\n",
              "      <td>2552.000000</td>\n",
              "      <td>2554.000000</td>\n",
              "      <td>2555.000000</td>\n",
              "      <td>2564.000000</td>\n",
              "    </tr>\n",
              "    <tr>\n",
              "      <th>item_cnt_month</th>\n",
              "      <td>1.000000</td>\n",
              "      <td>0.000000</td>\n",
              "      <td>0.000000</td>\n",
              "      <td>0.000000</td>\n",
              "      <td>0.000000</td>\n",
              "    </tr>\n",
              "    <tr>\n",
              "      <th>item_price_mean</th>\n",
              "      <td>999.000000</td>\n",
              "      <td>0.000000</td>\n",
              "      <td>0.000000</td>\n",
              "      <td>0.000000</td>\n",
              "      <td>0.000000</td>\n",
              "    </tr>\n",
              "    <tr>\n",
              "      <th>item_count</th>\n",
              "      <td>1.000000</td>\n",
              "      <td>0.000000</td>\n",
              "      <td>0.000000</td>\n",
              "      <td>0.000000</td>\n",
              "      <td>0.000000</td>\n",
              "    </tr>\n",
              "    <tr>\n",
              "      <th>city</th>\n",
              "      <td>30.000000</td>\n",
              "      <td>30.000000</td>\n",
              "      <td>30.000000</td>\n",
              "      <td>30.000000</td>\n",
              "      <td>30.000000</td>\n",
              "    </tr>\n",
              "    <tr>\n",
              "      <th>item_category_id</th>\n",
              "      <td>37.000000</td>\n",
              "      <td>58.000000</td>\n",
              "      <td>58.000000</td>\n",
              "      <td>56.000000</td>\n",
              "      <td>59.000000</td>\n",
              "    </tr>\n",
              "    <tr>\n",
              "      <th>first_sale_date</th>\n",
              "      <td>0.000000</td>\n",
              "      <td>0.000000</td>\n",
              "      <td>0.000000</td>\n",
              "      <td>0.000000</td>\n",
              "      <td>0.000000</td>\n",
              "    </tr>\n",
              "    <tr>\n",
              "      <th>category</th>\n",
              "      <td>0.059524</td>\n",
              "      <td>0.071429</td>\n",
              "      <td>0.071429</td>\n",
              "      <td>0.071429</td>\n",
              "      <td>0.071429</td>\n",
              "    </tr>\n",
              "    <tr>\n",
              "      <th>item_id_mean_sales</th>\n",
              "      <td>0.457143</td>\n",
              "      <td>0.000000</td>\n",
              "      <td>0.028571</td>\n",
              "      <td>0.028571</td>\n",
              "      <td>0.142857</td>\n",
              "    </tr>\n",
              "    <tr>\n",
              "      <th>item_id_city_mean_sales</th>\n",
              "      <td>1.000000</td>\n",
              "      <td>0.000000</td>\n",
              "      <td>0.000000</td>\n",
              "      <td>0.000000</td>\n",
              "      <td>0.000000</td>\n",
              "    </tr>\n",
              "    <tr>\n",
              "      <th>shop_id_item_category_id_mean_sales</th>\n",
              "      <td>0.096774</td>\n",
              "      <td>0.000000</td>\n",
              "      <td>0.000000</td>\n",
              "      <td>0.011494</td>\n",
              "      <td>0.013245</td>\n",
              "    </tr>\n",
              "    <tr>\n",
              "      <th>item_cnt_month_lag1</th>\n",
              "      <td>0.000000</td>\n",
              "      <td>0.000000</td>\n",
              "      <td>0.000000</td>\n",
              "      <td>0.000000</td>\n",
              "      <td>0.000000</td>\n",
              "    </tr>\n",
              "    <tr>\n",
              "      <th>item_cnt_month_lag2</th>\n",
              "      <td>0.000000</td>\n",
              "      <td>0.000000</td>\n",
              "      <td>0.000000</td>\n",
              "      <td>0.000000</td>\n",
              "      <td>0.000000</td>\n",
              "    </tr>\n",
              "    <tr>\n",
              "      <th>item_cnt_month_lag3</th>\n",
              "      <td>0.000000</td>\n",
              "      <td>0.000000</td>\n",
              "      <td>0.000000</td>\n",
              "      <td>0.000000</td>\n",
              "      <td>0.000000</td>\n",
              "    </tr>\n",
              "  </tbody>\n",
              "</table>\n",
              "</div>"
            ],
            "text/plain": [
              "                                                0  ...            4\n",
              "date_block_num                           0.000000  ...     0.000000\n",
              "shop_id                                 59.000000  ...    59.000000\n",
              "item_id                              22154.000000  ...  2564.000000\n",
              "item_cnt_month                           1.000000  ...     0.000000\n",
              "item_price_mean                        999.000000  ...     0.000000\n",
              "item_count                               1.000000  ...     0.000000\n",
              "city                                    30.000000  ...    30.000000\n",
              "item_category_id                        37.000000  ...    59.000000\n",
              "first_sale_date                          0.000000  ...     0.000000\n",
              "category                                 0.059524  ...     0.071429\n",
              "item_id_mean_sales                       0.457143  ...     0.142857\n",
              "item_id_city_mean_sales                  1.000000  ...     0.000000\n",
              "shop_id_item_category_id_mean_sales      0.096774  ...     0.013245\n",
              "item_cnt_month_lag1                      0.000000  ...     0.000000\n",
              "item_cnt_month_lag2                      0.000000  ...     0.000000\n",
              "item_cnt_month_lag3                      0.000000  ...     0.000000\n",
              "\n",
              "[16 rows x 5 columns]"
            ]
          },
          "metadata": {
            "tags": []
          },
          "execution_count": 89
        }
      ]
    },
    {
      "cell_type": "code",
      "metadata": {
        "colab": {
          "base_uri": "https://localhost:8080/"
        },
        "id": "dviyQCC1K83T",
        "outputId": "e5d18273-cbc0-4f5e-b480-932b9737421f"
      },
      "source": [
        "lag_features_to_clip"
      ],
      "execution_count": 90,
      "outputs": [
        {
          "output_type": "execute_result",
          "data": {
            "text/plain": [
              "['item_cnt_month_lag1', 'item_cnt_month_lag2', 'item_cnt_month_lag3']"
            ]
          },
          "metadata": {
            "tags": []
          },
          "execution_count": 90
        }
      ]
    },
    {
      "cell_type": "code",
      "metadata": {
        "id": "2L7FtpGRK83U"
      },
      "source": [
        "# Create 3 month lag features of item_count feature based on idx_features\n",
        "all_data, lag_features_to_clip = add_lag_features(df=all_data, \n",
        "                                                  lag_features_to_clip=lag_features_to_clip,\n",
        "                                                  idx_features=idx_features,\n",
        "                                                  lag_feature='item_count', \n",
        "                                                  nlags=3)\n",
        "\n",
        "# Create 3 month lag features of item_price_mean feature based on idx_features\n",
        "all_data, lag_features_to_clip = add_lag_features(df=all_data, \n",
        "                                                  lag_features_to_clip=lag_features_to_clip,\n",
        "                                                  idx_features=idx_features,\n",
        "                                                  lag_feature='item_price_mean', \n",
        "                                                  nlags=3)"
      ],
      "execution_count": 91,
      "outputs": []
    },
    {
      "cell_type": "code",
      "metadata": {
        "colab": {
          "base_uri": "https://localhost:8080/"
        },
        "id": "2QXuQ7tdK83U",
        "outputId": "7b5eb65b-6e1a-461f-c8c5-992c98ec5a59"
      },
      "source": [
        "X_test_temp = all_data[all_data['date_block_num'] == 34]\n",
        "X_test_temp[item_mean_features].sum()"
      ],
      "execution_count": 92,
      "outputs": [
        {
          "output_type": "execute_result",
          "data": {
            "text/plain": [
              "item_id_mean_sales         0.0\n",
              "item_id_city_mean_sales    0.0\n",
              "dtype: float32"
            ]
          },
          "metadata": {
            "tags": []
          },
          "execution_count": 92
        }
      ]
    },
    {
      "cell_type": "code",
      "metadata": {
        "id": "5kG_JoU7K83U"
      },
      "source": [
        "# Create lag features by item_mean_features element based on dx_features\n",
        "for item_mean_feature in item_mean_features:\n",
        "    all_data, lag_features_to_clip = add_lag_features(df=all_data, \n",
        "                                                      lag_features_to_clip=lag_features_to_clip, \n",
        "                                                      idx_features=idx_features, \n",
        "                                                      lag_feature=item_mean_feature, \n",
        "                                                      nlags=3)\n",
        "# Remove features in item_mean_features\n",
        "all_data = all_data.drop(item_mean_features, axis=1)"
      ],
      "execution_count": 93,
      "outputs": []
    },
    {
      "cell_type": "code",
      "metadata": {
        "colab": {
          "base_uri": "https://localhost:8080/"
        },
        "id": "xNzi4ktxK83V",
        "outputId": "372d494c-957f-416a-8603-d784e8569448"
      },
      "source": [
        "shop_mean_features"
      ],
      "execution_count": 94,
      "outputs": [
        {
          "output_type": "execute_result",
          "data": {
            "text/plain": [
              "['shop_id_item_category_id_mean_sales']"
            ]
          },
          "metadata": {
            "tags": []
          },
          "execution_count": 94
        }
      ]
    },
    {
      "cell_type": "code",
      "metadata": {
        "id": "5kJQMZcuK83V"
      },
      "source": [
        "# Create lag features by shop_mean_features element based on ['date_block_num', 'shop_id', 'item_category_id']\n",
        "for shop_mean_feature in shop_mean_features:\n",
        "    all_data, lag_features_to_clip = add_lag_features(df=all_data,\n",
        "                                                      lag_features_to_clip=lag_features_to_clip, \n",
        "                                                      idx_features=['date_block_num', 'shop_id', 'item_category_id'], \n",
        "                                                      lag_feature=shop_mean_feature, \n",
        "                                                      nlags=3)\n",
        "# Remove features in shop_mean_features\n",
        "all_data = all_data.drop(shop_mean_features, axis=1)"
      ],
      "execution_count": 95,
      "outputs": []
    },
    {
      "cell_type": "code",
      "metadata": {
        "id": "dWE3EmQwK83W"
      },
      "source": [
        "# Remove data less than date ID 3\n",
        "all_data = all_data.drop(all_data[all_data['date_block_num'] < 3].index)"
      ],
      "execution_count": 96,
      "outputs": []
    },
    {
      "cell_type": "markdown",
      "metadata": {
        "id": "09u9mkedK83W"
      },
      "source": [
        "### Other Features Engineering"
      ]
    },
    {
      "cell_type": "code",
      "metadata": {
        "colab": {
          "base_uri": "https://localhost:8080/"
        },
        "id": "9g3nDhylK83W",
        "outputId": "0f2b67f5-3e2e-4521-f430-7eed86395159"
      },
      "source": [
        "all_data['item_cnt_month_lag_mean'] = all_data[['item_cnt_month_lag1',\n",
        "                                         'item_cnt_month_lag2', \n",
        "                                         'item_cnt_month_lag3']].mean(axis=1)\n",
        "# Clip 0~20\n",
        "all_data[lag_features_to_clip + ['item_cnt_month', 'item_cnt_month_lag_mean']] = all_data[lag_features_to_clip +['item_cnt_month', 'item_cnt_month_lag_mean']].clip(0, 20)\n",
        "all_data['lag_grad1'] = all_data['item_cnt_month_lag1']/all_data['item_cnt_month_lag2']\n",
        "all_data['lag_grad1'] = all_data['lag_grad1'].replace([np.inf, -np.inf], \n",
        "                                                        np.nan).fillna(0)\n",
        "\n",
        "all_data['lag_grad2'] = all_data['item_cnt_month_lag2']/all_data['item_cnt_month_lag3']\n",
        "all_data['lag_grad2'] = all_data['lag_grad2'].replace([np.inf, -np.inf], \n",
        "                                                        np.nan).fillna(0)\n",
        "all_data['brand_new'] = all_data['first_sale_date'] == all_data['date_block_num']\n",
        "all_data['duration_after_first_sale'] = all_data['date_block_num'] - all_data['first_sale_date']\n",
        "all_data = all_data.drop('first_sale_date', axis=1)\n",
        "all_data['month'] = all_data['date_block_num']%12\n",
        "# Remove item_price_mean, item_count features\n",
        "all_data = all_data.drop(['item_price_mean', 'item_count'], axis=1)\n",
        "all_data = downcast(all_data, False) # Data downcasting\n",
        "all_data.info()"
      ],
      "execution_count": 97,
      "outputs": [
        {
          "output_type": "stream",
          "text": [
            "<class 'pandas.core.frame.DataFrame'>\n",
            "Int64Index: 8033618 entries, 827691 to 8861308\n",
            "Data columns (total 31 columns):\n",
            " #   Column                                    Dtype  \n",
            "---  ------                                    -----  \n",
            " 0   date_block_num                            int8   \n",
            " 1   shop_id                                   int8   \n",
            " 2   item_id                                   int16  \n",
            " 3   item_cnt_month                            int8   \n",
            " 4   city                                      int8   \n",
            " 5   item_category_id                          int8   \n",
            " 6   category                                  float32\n",
            " 7   item_cnt_month_lag1                       int8   \n",
            " 8   item_cnt_month_lag2                       int8   \n",
            " 9   item_cnt_month_lag3                       int8   \n",
            " 10  item_count_lag1                           int8   \n",
            " 11  item_count_lag2                           int8   \n",
            " 12  item_count_lag3                           int8   \n",
            " 13  item_price_mean_lag1                      float32\n",
            " 14  item_price_mean_lag2                      float32\n",
            " 15  item_price_mean_lag3                      float32\n",
            " 16  item_id_mean_sales_lag1                   float32\n",
            " 17  item_id_mean_sales_lag2                   float32\n",
            " 18  item_id_mean_sales_lag3                   float32\n",
            " 19  item_id_city_mean_sales_lag1              float32\n",
            " 20  item_id_city_mean_sales_lag2              float32\n",
            " 21  item_id_city_mean_sales_lag3              float32\n",
            " 22  shop_id_item_category_id_mean_sales_lag1  float32\n",
            " 23  shop_id_item_category_id_mean_sales_lag2  float32\n",
            " 24  shop_id_item_category_id_mean_sales_lag3  float32\n",
            " 25  item_cnt_month_lag_mean                   float32\n",
            " 26  lag_grad1                                 float32\n",
            " 27  lag_grad2                                 float32\n",
            " 28  brand_new                                 int8   \n",
            " 29  duration_after_first_sale                 int8   \n",
            " 30  month                                     int8   \n",
            "dtypes: float32(16), int16(1), int8(14)\n",
            "memory usage: 674.2 MB\n"
          ],
          "name": "stdout"
        }
      ]
    },
    {
      "cell_type": "code",
      "metadata": {
        "id": "GOnxtrm4K83X"
      },
      "source": [
        "# Train data (Features)\n",
        "X_train = all_data[all_data['date_block_num'] < 33]\n",
        "X_train = X_train.drop(['item_cnt_month'], axis=1)\n",
        "# Valid data (Features)\n",
        "X_valid = all_data[all_data['date_block_num'] == 33]\n",
        "X_valid = X_valid.drop(['item_cnt_month'], axis=1)\n",
        "# Test data (Features)\n",
        "X_test = all_data[all_data['date_block_num'] == 34]\n",
        "X_test = X_test.drop(['item_cnt_month'], axis=1)\n",
        "\n",
        "# Train data (Target values)\n",
        "y_train = all_data[all_data['date_block_num'] < 33]['item_cnt_month']\n",
        "# Valid data (Target values)\n",
        "y_valid = all_data[all_data['date_block_num'] == 33]['item_cnt_month']\n",
        "\n",
        "# Garbage collection\n",
        "#del all_data\n",
        "#gc.collect();"
      ],
      "execution_count": 98,
      "outputs": []
    },
    {
      "cell_type": "code",
      "metadata": {
        "colab": {
          "base_uri": "https://localhost:8080/",
          "height": 224
        },
        "id": "F_4A6JB9K83X",
        "outputId": "cd78de51-8d52-4dce-eb0e-e7c45fd5457d"
      },
      "source": [
        "X_train.head()"
      ],
      "execution_count": 99,
      "outputs": [
        {
          "output_type": "execute_result",
          "data": {
            "text/html": [
              "<div>\n",
              "<style scoped>\n",
              "    .dataframe tbody tr th:only-of-type {\n",
              "        vertical-align: middle;\n",
              "    }\n",
              "\n",
              "    .dataframe tbody tr th {\n",
              "        vertical-align: top;\n",
              "    }\n",
              "\n",
              "    .dataframe thead th {\n",
              "        text-align: right;\n",
              "    }\n",
              "</style>\n",
              "<table border=\"1\" class=\"dataframe\">\n",
              "  <thead>\n",
              "    <tr style=\"text-align: right;\">\n",
              "      <th></th>\n",
              "      <th>date_block_num</th>\n",
              "      <th>shop_id</th>\n",
              "      <th>item_id</th>\n",
              "      <th>city</th>\n",
              "      <th>item_category_id</th>\n",
              "      <th>category</th>\n",
              "      <th>item_cnt_month_lag1</th>\n",
              "      <th>item_cnt_month_lag2</th>\n",
              "      <th>item_cnt_month_lag3</th>\n",
              "      <th>item_count_lag1</th>\n",
              "      <th>item_count_lag2</th>\n",
              "      <th>item_count_lag3</th>\n",
              "      <th>item_price_mean_lag1</th>\n",
              "      <th>item_price_mean_lag2</th>\n",
              "      <th>item_price_mean_lag3</th>\n",
              "      <th>item_id_mean_sales_lag1</th>\n",
              "      <th>item_id_mean_sales_lag2</th>\n",
              "      <th>item_id_mean_sales_lag3</th>\n",
              "      <th>item_id_city_mean_sales_lag1</th>\n",
              "      <th>item_id_city_mean_sales_lag2</th>\n",
              "      <th>item_id_city_mean_sales_lag3</th>\n",
              "      <th>shop_id_item_category_id_mean_sales_lag1</th>\n",
              "      <th>shop_id_item_category_id_mean_sales_lag2</th>\n",
              "      <th>shop_id_item_category_id_mean_sales_lag3</th>\n",
              "      <th>item_cnt_month_lag_mean</th>\n",
              "      <th>lag_grad1</th>\n",
              "      <th>lag_grad2</th>\n",
              "      <th>brand_new</th>\n",
              "      <th>duration_after_first_sale</th>\n",
              "      <th>month</th>\n",
              "    </tr>\n",
              "  </thead>\n",
              "  <tbody>\n",
              "    <tr>\n",
              "      <th>827691</th>\n",
              "      <td>3</td>\n",
              "      <td>25</td>\n",
              "      <td>8092</td>\n",
              "      <td>14</td>\n",
              "      <td>40</td>\n",
              "      <td>0.059524</td>\n",
              "      <td>1</td>\n",
              "      <td>4</td>\n",
              "      <td>0</td>\n",
              "      <td>1</td>\n",
              "      <td>4</td>\n",
              "      <td>0</td>\n",
              "      <td>149.0</td>\n",
              "      <td>149.0</td>\n",
              "      <td>0.0</td>\n",
              "      <td>0.666667</td>\n",
              "      <td>1.428571</td>\n",
              "      <td>0.0</td>\n",
              "      <td>1.000000</td>\n",
              "      <td>2.142857</td>\n",
              "      <td>0.0</td>\n",
              "      <td>1.087262</td>\n",
              "      <td>1.048394</td>\n",
              "      <td>0.0</td>\n",
              "      <td>1.666667</td>\n",
              "      <td>0.250000</td>\n",
              "      <td>0.0</td>\n",
              "      <td>0</td>\n",
              "      <td>3</td>\n",
              "      <td>3</td>\n",
              "    </tr>\n",
              "    <tr>\n",
              "      <th>827692</th>\n",
              "      <td>3</td>\n",
              "      <td>25</td>\n",
              "      <td>7850</td>\n",
              "      <td>14</td>\n",
              "      <td>30</td>\n",
              "      <td>0.166667</td>\n",
              "      <td>5</td>\n",
              "      <td>6</td>\n",
              "      <td>0</td>\n",
              "      <td>4</td>\n",
              "      <td>5</td>\n",
              "      <td>0</td>\n",
              "      <td>199.0</td>\n",
              "      <td>199.0</td>\n",
              "      <td>0.0</td>\n",
              "      <td>2.000000</td>\n",
              "      <td>3.114286</td>\n",
              "      <td>0.0</td>\n",
              "      <td>3.714286</td>\n",
              "      <td>2.285714</td>\n",
              "      <td>0.0</td>\n",
              "      <td>3.651685</td>\n",
              "      <td>2.276650</td>\n",
              "      <td>0.0</td>\n",
              "      <td>3.666667</td>\n",
              "      <td>0.833333</td>\n",
              "      <td>0.0</td>\n",
              "      <td>0</td>\n",
              "      <td>3</td>\n",
              "      <td>3</td>\n",
              "    </tr>\n",
              "    <tr>\n",
              "      <th>827693</th>\n",
              "      <td>3</td>\n",
              "      <td>25</td>\n",
              "      <td>8051</td>\n",
              "      <td>14</td>\n",
              "      <td>66</td>\n",
              "      <td>0.142857</td>\n",
              "      <td>0</td>\n",
              "      <td>0</td>\n",
              "      <td>0</td>\n",
              "      <td>0</td>\n",
              "      <td>0</td>\n",
              "      <td>0</td>\n",
              "      <td>0.0</td>\n",
              "      <td>0.0</td>\n",
              "      <td>0.0</td>\n",
              "      <td>0.027778</td>\n",
              "      <td>0.085714</td>\n",
              "      <td>0.0</td>\n",
              "      <td>0.000000</td>\n",
              "      <td>0.428571</td>\n",
              "      <td>0.0</td>\n",
              "      <td>1.827586</td>\n",
              "      <td>1.389474</td>\n",
              "      <td>0.0</td>\n",
              "      <td>0.000000</td>\n",
              "      <td>0.000000</td>\n",
              "      <td>0.0</td>\n",
              "      <td>0</td>\n",
              "      <td>3</td>\n",
              "      <td>3</td>\n",
              "    </tr>\n",
              "    <tr>\n",
              "      <th>827694</th>\n",
              "      <td>3</td>\n",
              "      <td>25</td>\n",
              "      <td>8088</td>\n",
              "      <td>14</td>\n",
              "      <td>55</td>\n",
              "      <td>0.071429</td>\n",
              "      <td>1</td>\n",
              "      <td>0</td>\n",
              "      <td>0</td>\n",
              "      <td>1</td>\n",
              "      <td>0</td>\n",
              "      <td>0</td>\n",
              "      <td>199.0</td>\n",
              "      <td>0.0</td>\n",
              "      <td>0.0</td>\n",
              "      <td>0.111111</td>\n",
              "      <td>0.085714</td>\n",
              "      <td>0.0</td>\n",
              "      <td>0.285714</td>\n",
              "      <td>0.000000</td>\n",
              "      <td>0.0</td>\n",
              "      <td>0.598291</td>\n",
              "      <td>0.562107</td>\n",
              "      <td>0.0</td>\n",
              "      <td>0.333333</td>\n",
              "      <td>0.000000</td>\n",
              "      <td>0.0</td>\n",
              "      <td>0</td>\n",
              "      <td>3</td>\n",
              "      <td>3</td>\n",
              "    </tr>\n",
              "    <tr>\n",
              "      <th>827695</th>\n",
              "      <td>3</td>\n",
              "      <td>25</td>\n",
              "      <td>8089</td>\n",
              "      <td>14</td>\n",
              "      <td>55</td>\n",
              "      <td>0.071429</td>\n",
              "      <td>0</td>\n",
              "      <td>0</td>\n",
              "      <td>0</td>\n",
              "      <td>0</td>\n",
              "      <td>0</td>\n",
              "      <td>0</td>\n",
              "      <td>0.0</td>\n",
              "      <td>0.0</td>\n",
              "      <td>0.0</td>\n",
              "      <td>0.361111</td>\n",
              "      <td>0.200000</td>\n",
              "      <td>0.0</td>\n",
              "      <td>0.571429</td>\n",
              "      <td>0.000000</td>\n",
              "      <td>0.0</td>\n",
              "      <td>0.598291</td>\n",
              "      <td>0.562107</td>\n",
              "      <td>0.0</td>\n",
              "      <td>0.000000</td>\n",
              "      <td>0.000000</td>\n",
              "      <td>0.0</td>\n",
              "      <td>0</td>\n",
              "      <td>3</td>\n",
              "      <td>3</td>\n",
              "    </tr>\n",
              "  </tbody>\n",
              "</table>\n",
              "</div>"
            ],
            "text/plain": [
              "        date_block_num  shop_id  ...  duration_after_first_sale  month\n",
              "827691               3       25  ...                          3      3\n",
              "827692               3       25  ...                          3      3\n",
              "827693               3       25  ...                          3      3\n",
              "827694               3       25  ...                          3      3\n",
              "827695               3       25  ...                          3      3\n",
              "\n",
              "[5 rows x 30 columns]"
            ]
          },
          "metadata": {
            "tags": []
          },
          "execution_count": 99
        }
      ]
    },
    {
      "cell_type": "code",
      "metadata": {
        "colab": {
          "base_uri": "https://localhost:8080/"
        },
        "id": "-6eFbQ3XK83X",
        "outputId": "04cf6633-8542-46d6-c964-284fccca5a45"
      },
      "source": [
        "y_train.head()"
      ],
      "execution_count": 100,
      "outputs": [
        {
          "output_type": "execute_result",
          "data": {
            "text/plain": [
              "827691    3\n",
              "827692    3\n",
              "827693    3\n",
              "827694    1\n",
              "827695    1\n",
              "Name: item_cnt_month, dtype: int8"
            ]
          },
          "metadata": {
            "tags": []
          },
          "execution_count": 100
        }
      ]
    },
    {
      "cell_type": "code",
      "metadata": {
        "colab": {
          "base_uri": "https://localhost:8080/",
          "height": 439
        },
        "id": "eVwhxdYiK83Y",
        "outputId": "9cbd3b62-dc70-4e31-8d00-a9792b46d229"
      },
      "source": [
        "X_test.clip(0, 20)"
      ],
      "execution_count": 101,
      "outputs": [
        {
          "output_type": "execute_result",
          "data": {
            "text/html": [
              "<div>\n",
              "<style scoped>\n",
              "    .dataframe tbody tr th:only-of-type {\n",
              "        vertical-align: middle;\n",
              "    }\n",
              "\n",
              "    .dataframe tbody tr th {\n",
              "        vertical-align: top;\n",
              "    }\n",
              "\n",
              "    .dataframe thead th {\n",
              "        text-align: right;\n",
              "    }\n",
              "</style>\n",
              "<table border=\"1\" class=\"dataframe\">\n",
              "  <thead>\n",
              "    <tr style=\"text-align: right;\">\n",
              "      <th></th>\n",
              "      <th>date_block_num</th>\n",
              "      <th>shop_id</th>\n",
              "      <th>item_id</th>\n",
              "      <th>city</th>\n",
              "      <th>item_category_id</th>\n",
              "      <th>category</th>\n",
              "      <th>item_cnt_month_lag1</th>\n",
              "      <th>item_cnt_month_lag2</th>\n",
              "      <th>item_cnt_month_lag3</th>\n",
              "      <th>item_count_lag1</th>\n",
              "      <th>item_count_lag2</th>\n",
              "      <th>item_count_lag3</th>\n",
              "      <th>item_price_mean_lag1</th>\n",
              "      <th>item_price_mean_lag2</th>\n",
              "      <th>item_price_mean_lag3</th>\n",
              "      <th>item_id_mean_sales_lag1</th>\n",
              "      <th>item_id_mean_sales_lag2</th>\n",
              "      <th>item_id_mean_sales_lag3</th>\n",
              "      <th>item_id_city_mean_sales_lag1</th>\n",
              "      <th>item_id_city_mean_sales_lag2</th>\n",
              "      <th>item_id_city_mean_sales_lag3</th>\n",
              "      <th>shop_id_item_category_id_mean_sales_lag1</th>\n",
              "      <th>shop_id_item_category_id_mean_sales_lag2</th>\n",
              "      <th>shop_id_item_category_id_mean_sales_lag3</th>\n",
              "      <th>item_cnt_month_lag_mean</th>\n",
              "      <th>lag_grad1</th>\n",
              "      <th>lag_grad2</th>\n",
              "      <th>brand_new</th>\n",
              "      <th>duration_after_first_sale</th>\n",
              "      <th>month</th>\n",
              "    </tr>\n",
              "  </thead>\n",
              "  <tbody>\n",
              "    <tr>\n",
              "      <th>8647109</th>\n",
              "      <td>20</td>\n",
              "      <td>5</td>\n",
              "      <td>20</td>\n",
              "      <td>4</td>\n",
              "      <td>19</td>\n",
              "      <td>0.166667</td>\n",
              "      <td>0</td>\n",
              "      <td>3</td>\n",
              "      <td>1</td>\n",
              "      <td>0</td>\n",
              "      <td>3</td>\n",
              "      <td>1</td>\n",
              "      <td>0.0</td>\n",
              "      <td>20.0</td>\n",
              "      <td>20.0</td>\n",
              "      <td>0.595238</td>\n",
              "      <td>2.853658</td>\n",
              "      <td>2.000000</td>\n",
              "      <td>0.0</td>\n",
              "      <td>3.0</td>\n",
              "      <td>1.0</td>\n",
              "      <td>0.513699</td>\n",
              "      <td>0.835366</td>\n",
              "      <td>0.437870</td>\n",
              "      <td>1.333333</td>\n",
              "      <td>0.0</td>\n",
              "      <td>3.000000</td>\n",
              "      <td>0</td>\n",
              "      <td>14</td>\n",
              "      <td>10</td>\n",
              "    </tr>\n",
              "    <tr>\n",
              "      <th>8647110</th>\n",
              "      <td>20</td>\n",
              "      <td>5</td>\n",
              "      <td>20</td>\n",
              "      <td>4</td>\n",
              "      <td>20</td>\n",
              "      <td>0.071429</td>\n",
              "      <td>0</td>\n",
              "      <td>0</td>\n",
              "      <td>0</td>\n",
              "      <td>0</td>\n",
              "      <td>0</td>\n",
              "      <td>0</td>\n",
              "      <td>0.0</td>\n",
              "      <td>0.0</td>\n",
              "      <td>0.0</td>\n",
              "      <td>0.000000</td>\n",
              "      <td>0.000000</td>\n",
              "      <td>0.000000</td>\n",
              "      <td>0.0</td>\n",
              "      <td>0.0</td>\n",
              "      <td>0.0</td>\n",
              "      <td>0.158209</td>\n",
              "      <td>0.215152</td>\n",
              "      <td>0.155620</td>\n",
              "      <td>0.000000</td>\n",
              "      <td>0.0</td>\n",
              "      <td>0.000000</td>\n",
              "      <td>0</td>\n",
              "      <td>20</td>\n",
              "      <td>10</td>\n",
              "    </tr>\n",
              "    <tr>\n",
              "      <th>8647111</th>\n",
              "      <td>20</td>\n",
              "      <td>5</td>\n",
              "      <td>20</td>\n",
              "      <td>4</td>\n",
              "      <td>19</td>\n",
              "      <td>0.166667</td>\n",
              "      <td>1</td>\n",
              "      <td>1</td>\n",
              "      <td>3</td>\n",
              "      <td>1</td>\n",
              "      <td>1</td>\n",
              "      <td>2</td>\n",
              "      <td>20.0</td>\n",
              "      <td>20.0</td>\n",
              "      <td>20.0</td>\n",
              "      <td>1.000000</td>\n",
              "      <td>3.634146</td>\n",
              "      <td>1.634146</td>\n",
              "      <td>1.0</td>\n",
              "      <td>1.0</td>\n",
              "      <td>3.0</td>\n",
              "      <td>0.513699</td>\n",
              "      <td>0.835366</td>\n",
              "      <td>0.437870</td>\n",
              "      <td>1.666667</td>\n",
              "      <td>1.0</td>\n",
              "      <td>0.333333</td>\n",
              "      <td>0</td>\n",
              "      <td>7</td>\n",
              "      <td>10</td>\n",
              "    </tr>\n",
              "    <tr>\n",
              "      <th>8647112</th>\n",
              "      <td>20</td>\n",
              "      <td>5</td>\n",
              "      <td>20</td>\n",
              "      <td>4</td>\n",
              "      <td>20</td>\n",
              "      <td>0.166667</td>\n",
              "      <td>0</td>\n",
              "      <td>1</td>\n",
              "      <td>0</td>\n",
              "      <td>0</td>\n",
              "      <td>1</td>\n",
              "      <td>0</td>\n",
              "      <td>0.0</td>\n",
              "      <td>20.0</td>\n",
              "      <td>0.0</td>\n",
              "      <td>0.666667</td>\n",
              "      <td>1.560976</td>\n",
              "      <td>0.000000</td>\n",
              "      <td>0.0</td>\n",
              "      <td>1.0</td>\n",
              "      <td>0.0</td>\n",
              "      <td>0.374150</td>\n",
              "      <td>0.487179</td>\n",
              "      <td>0.342282</td>\n",
              "      <td>0.333333</td>\n",
              "      <td>0.0</td>\n",
              "      <td>0.000000</td>\n",
              "      <td>0</td>\n",
              "      <td>3</td>\n",
              "      <td>10</td>\n",
              "    </tr>\n",
              "    <tr>\n",
              "      <th>8647113</th>\n",
              "      <td>20</td>\n",
              "      <td>5</td>\n",
              "      <td>20</td>\n",
              "      <td>4</td>\n",
              "      <td>20</td>\n",
              "      <td>0.166667</td>\n",
              "      <td>0</td>\n",
              "      <td>0</td>\n",
              "      <td>0</td>\n",
              "      <td>0</td>\n",
              "      <td>0</td>\n",
              "      <td>0</td>\n",
              "      <td>0.0</td>\n",
              "      <td>0.0</td>\n",
              "      <td>0.0</td>\n",
              "      <td>0.000000</td>\n",
              "      <td>0.000000</td>\n",
              "      <td>0.000000</td>\n",
              "      <td>0.0</td>\n",
              "      <td>0.0</td>\n",
              "      <td>0.0</td>\n",
              "      <td>0.796460</td>\n",
              "      <td>1.000000</td>\n",
              "      <td>0.905263</td>\n",
              "      <td>0.000000</td>\n",
              "      <td>0.0</td>\n",
              "      <td>0.000000</td>\n",
              "      <td>0</td>\n",
              "      <td>20</td>\n",
              "      <td>10</td>\n",
              "    </tr>\n",
              "    <tr>\n",
              "      <th>...</th>\n",
              "      <td>...</td>\n",
              "      <td>...</td>\n",
              "      <td>...</td>\n",
              "      <td>...</td>\n",
              "      <td>...</td>\n",
              "      <td>...</td>\n",
              "      <td>...</td>\n",
              "      <td>...</td>\n",
              "      <td>...</td>\n",
              "      <td>...</td>\n",
              "      <td>...</td>\n",
              "      <td>...</td>\n",
              "      <td>...</td>\n",
              "      <td>...</td>\n",
              "      <td>...</td>\n",
              "      <td>...</td>\n",
              "      <td>...</td>\n",
              "      <td>...</td>\n",
              "      <td>...</td>\n",
              "      <td>...</td>\n",
              "      <td>...</td>\n",
              "      <td>...</td>\n",
              "      <td>...</td>\n",
              "      <td>...</td>\n",
              "      <td>...</td>\n",
              "      <td>...</td>\n",
              "      <td>...</td>\n",
              "      <td>...</td>\n",
              "      <td>...</td>\n",
              "      <td>...</td>\n",
              "    </tr>\n",
              "    <tr>\n",
              "      <th>8861304</th>\n",
              "      <td>20</td>\n",
              "      <td>20</td>\n",
              "      <td>20</td>\n",
              "      <td>20</td>\n",
              "      <td>20</td>\n",
              "      <td>0.071429</td>\n",
              "      <td>1</td>\n",
              "      <td>0</td>\n",
              "      <td>0</td>\n",
              "      <td>1</td>\n",
              "      <td>0</td>\n",
              "      <td>0</td>\n",
              "      <td>20.0</td>\n",
              "      <td>0.0</td>\n",
              "      <td>0.0</td>\n",
              "      <td>0.047619</td>\n",
              "      <td>0.073171</td>\n",
              "      <td>0.585366</td>\n",
              "      <td>0.5</td>\n",
              "      <td>0.0</td>\n",
              "      <td>0.0</td>\n",
              "      <td>0.126866</td>\n",
              "      <td>0.106061</td>\n",
              "      <td>0.128242</td>\n",
              "      <td>0.333333</td>\n",
              "      <td>0.0</td>\n",
              "      <td>0.000000</td>\n",
              "      <td>0</td>\n",
              "      <td>11</td>\n",
              "      <td>10</td>\n",
              "    </tr>\n",
              "    <tr>\n",
              "      <th>8861305</th>\n",
              "      <td>20</td>\n",
              "      <td>20</td>\n",
              "      <td>20</td>\n",
              "      <td>20</td>\n",
              "      <td>20</td>\n",
              "      <td>0.142857</td>\n",
              "      <td>0</td>\n",
              "      <td>0</td>\n",
              "      <td>0</td>\n",
              "      <td>0</td>\n",
              "      <td>0</td>\n",
              "      <td>0</td>\n",
              "      <td>0.0</td>\n",
              "      <td>0.0</td>\n",
              "      <td>0.0</td>\n",
              "      <td>0.023810</td>\n",
              "      <td>0.000000</td>\n",
              "      <td>0.000000</td>\n",
              "      <td>0.0</td>\n",
              "      <td>0.0</td>\n",
              "      <td>0.0</td>\n",
              "      <td>0.094488</td>\n",
              "      <td>0.220000</td>\n",
              "      <td>0.102041</td>\n",
              "      <td>0.000000</td>\n",
              "      <td>0.0</td>\n",
              "      <td>0.000000</td>\n",
              "      <td>0</td>\n",
              "      <td>2</td>\n",
              "      <td>10</td>\n",
              "    </tr>\n",
              "    <tr>\n",
              "      <th>8861306</th>\n",
              "      <td>20</td>\n",
              "      <td>20</td>\n",
              "      <td>20</td>\n",
              "      <td>20</td>\n",
              "      <td>20</td>\n",
              "      <td>0.071429</td>\n",
              "      <td>0</td>\n",
              "      <td>0</td>\n",
              "      <td>0</td>\n",
              "      <td>0</td>\n",
              "      <td>0</td>\n",
              "      <td>0</td>\n",
              "      <td>0.0</td>\n",
              "      <td>0.0</td>\n",
              "      <td>0.0</td>\n",
              "      <td>0.119048</td>\n",
              "      <td>0.097561</td>\n",
              "      <td>0.243902</td>\n",
              "      <td>0.0</td>\n",
              "      <td>0.0</td>\n",
              "      <td>0.0</td>\n",
              "      <td>0.126866</td>\n",
              "      <td>0.106061</td>\n",
              "      <td>0.128242</td>\n",
              "      <td>0.000000</td>\n",
              "      <td>0.0</td>\n",
              "      <td>0.000000</td>\n",
              "      <td>0</td>\n",
              "      <td>20</td>\n",
              "      <td>10</td>\n",
              "    </tr>\n",
              "    <tr>\n",
              "      <th>8861307</th>\n",
              "      <td>20</td>\n",
              "      <td>20</td>\n",
              "      <td>20</td>\n",
              "      <td>20</td>\n",
              "      <td>20</td>\n",
              "      <td>0.059524</td>\n",
              "      <td>0</td>\n",
              "      <td>0</td>\n",
              "      <td>0</td>\n",
              "      <td>0</td>\n",
              "      <td>0</td>\n",
              "      <td>0</td>\n",
              "      <td>0.0</td>\n",
              "      <td>0.0</td>\n",
              "      <td>0.0</td>\n",
              "      <td>0.047619</td>\n",
              "      <td>0.146341</td>\n",
              "      <td>0.097561</td>\n",
              "      <td>0.0</td>\n",
              "      <td>0.0</td>\n",
              "      <td>0.0</td>\n",
              "      <td>0.083756</td>\n",
              "      <td>0.112455</td>\n",
              "      <td>0.083426</td>\n",
              "      <td>0.000000</td>\n",
              "      <td>0.0</td>\n",
              "      <td>0.000000</td>\n",
              "      <td>0</td>\n",
              "      <td>11</td>\n",
              "      <td>10</td>\n",
              "    </tr>\n",
              "    <tr>\n",
              "      <th>8861308</th>\n",
              "      <td>20</td>\n",
              "      <td>20</td>\n",
              "      <td>20</td>\n",
              "      <td>20</td>\n",
              "      <td>20</td>\n",
              "      <td>0.059524</td>\n",
              "      <td>0</td>\n",
              "      <td>0</td>\n",
              "      <td>0</td>\n",
              "      <td>0</td>\n",
              "      <td>0</td>\n",
              "      <td>0</td>\n",
              "      <td>0.0</td>\n",
              "      <td>0.0</td>\n",
              "      <td>0.0</td>\n",
              "      <td>0.071429</td>\n",
              "      <td>0.024390</td>\n",
              "      <td>0.048780</td>\n",
              "      <td>0.5</td>\n",
              "      <td>0.0</td>\n",
              "      <td>0.0</td>\n",
              "      <td>0.128205</td>\n",
              "      <td>0.124088</td>\n",
              "      <td>0.093750</td>\n",
              "      <td>0.000000</td>\n",
              "      <td>0.0</td>\n",
              "      <td>0.000000</td>\n",
              "      <td>0</td>\n",
              "      <td>17</td>\n",
              "      <td>10</td>\n",
              "    </tr>\n",
              "  </tbody>\n",
              "</table>\n",
              "<p>214200 rows × 30 columns</p>\n",
              "</div>"
            ],
            "text/plain": [
              "         date_block_num  shop_id  ...  duration_after_first_sale  month\n",
              "8647109              20        5  ...                         14     10\n",
              "8647110              20        5  ...                         20     10\n",
              "8647111              20        5  ...                          7     10\n",
              "8647112              20        5  ...                          3     10\n",
              "8647113              20        5  ...                         20     10\n",
              "...                 ...      ...  ...                        ...    ...\n",
              "8861304              20       20  ...                         11     10\n",
              "8861305              20       20  ...                          2     10\n",
              "8861306              20       20  ...                         20     10\n",
              "8861307              20       20  ...                         11     10\n",
              "8861308              20       20  ...                         17     10\n",
              "\n",
              "[214200 rows x 30 columns]"
            ]
          },
          "metadata": {
            "tags": []
          },
          "execution_count": 101
        }
      ]
    },
    {
      "cell_type": "markdown",
      "metadata": {
        "id": "oBOhy4VNK83Y"
      },
      "source": [
        "# Train model and Submit"
      ]
    },
    {
      "cell_type": "code",
      "metadata": {
        "id": "lHkcRfnPK83Y"
      },
      "source": [
        ""
      ],
      "execution_count": 101,
      "outputs": []
    },
    {
      "cell_type": "code",
      "metadata": {
        "colab": {
          "base_uri": "https://localhost:8080/"
        },
        "id": "QUZe6PctK83Y",
        "outputId": "af3c7f48-2559-49e0-dafc-b480be51d630"
      },
      "source": [
        "\n",
        "import lightgbm as lgb\n",
        "\n",
        "# lgb hyper-parameters\n",
        "params = {'metric': 'rmse',\n",
        "          'num_leaves': 273,\n",
        "          'learning_rate': 0.007,\n",
        "          'feature_fraction': 0.75,\n",
        "          'bagging_fraction': 0.75,\n",
        "          'bagging_freq': 5,\n",
        "          'force_col_wise' : True,\n",
        "          'random_state': 10}\n",
        "\n",
        "cat_features = ['shop_id', 'city', 'item_category_id', 'category', 'month']\n",
        "\n",
        "# lgb train and valid dataset\n",
        "dtrain = lgb.Dataset(X_train, y_train)\n",
        "dvalid = lgb.Dataset(X_valid, y_valid)\n",
        " \n",
        "# Train LightGBM model\n",
        "lgb_model = lgb.train(params=params,\n",
        "                      train_set=dtrain,\n",
        "                      num_boost_round=1500,\n",
        "                      valid_sets=(dtrain, dvalid),\n",
        "                      early_stopping_rounds=150,\n",
        "                      categorical_feature=cat_features,\n",
        "                      verbose_eval=100)    "
      ],
      "execution_count": 104,
      "outputs": [
        {
          "output_type": "stream",
          "text": [
            "/usr/local/lib/python3.7/dist-packages/lightgbm/basic.py:1209: UserWarning: categorical_feature in Dataset is overridden.\n",
            "New categorical_feature is ['category', 'city', 'item_category_id', 'month', 'shop_id']\n",
            "  'New categorical_feature is {}'.format(sorted(list(categorical_feature))))\n",
            "/usr/local/lib/python3.7/dist-packages/lightgbm/basic.py:762: UserWarning: categorical_feature in param dict is overridden.\n",
            "  warnings.warn('categorical_feature in param dict is overridden.')\n"
          ],
          "name": "stderr"
        },
        {
          "output_type": "stream",
          "text": [
            "Training until validation scores don't improve for 150 rounds.\n",
            "[100]\ttraining's rmse: 0.967399\tvalid_1's rmse: 0.877292\n",
            "[200]\ttraining's rmse: 0.869249\tvalid_1's rmse: 0.816034\n",
            "[300]\ttraining's rmse: 0.827664\tvalid_1's rmse: 0.798947\n",
            "[400]\ttraining's rmse: 0.804719\tvalid_1's rmse: 0.793943\n",
            "[500]\ttraining's rmse: 0.788914\tvalid_1's rmse: 0.793\n",
            "[600]\ttraining's rmse: 0.777341\tvalid_1's rmse: 0.793082\n",
            "[700]\ttraining's rmse: 0.76848\tvalid_1's rmse: 0.792608\n",
            "[800]\ttraining's rmse: 0.760928\tvalid_1's rmse: 0.792224\n",
            "[900]\ttraining's rmse: 0.754799\tvalid_1's rmse: 0.79214\n",
            "[1000]\ttraining's rmse: 0.7497\tvalid_1's rmse: 0.792396\n",
            "Early stopping, best iteration is:\n",
            "[855]\ttraining's rmse: 0.757395\tvalid_1's rmse: 0.79208\n"
          ],
          "name": "stdout"
        }
      ]
    },
    {
      "cell_type": "code",
      "metadata": {
        "id": "81AAVlCJK83Z"
      },
      "source": [
        ""
      ],
      "execution_count": null,
      "outputs": []
    },
    {
      "cell_type": "code",
      "metadata": {
        "id": "mSI0kP-_K83Z"
      },
      "source": [
        "preds = lgb_model.predict(X_test).clip(0,20)"
      ],
      "execution_count": 105,
      "outputs": []
    },
    {
      "cell_type": "code",
      "metadata": {
        "id": "gblQ_uUnK83Z"
      },
      "source": [
        "submit_sample['item_cnt_month'] = preds\n",
        "submit_sample.to_csv('submission.csv', index=False)"
      ],
      "execution_count": 107,
      "outputs": []
    },
    {
      "cell_type": "code",
      "metadata": {
        "id": "mu_JqJYyRotV"
      },
      "source": [
        ""
      ],
      "execution_count": null,
      "outputs": []
    }
  ]
}